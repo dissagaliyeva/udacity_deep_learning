{
 "cells": [
  {
   "cell_type": "markdown",
   "metadata": {},
   "source": [
    "# Sentiment Classification & How To \"Frame Problems\" for a Neural Network\n",
    "\n",
    "by Andrew Trask\n",
    "\n",
    "- **Twitter**: @iamtrask\n",
    "- **Blog**: http://iamtrask.github.io"
   ]
  },
  {
   "cell_type": "markdown",
   "metadata": {},
   "source": [
    "### What You Should Already Know\n",
    "\n",
    "- neural networks, forward and back-propagation\n",
    "- stochastic gradient descent\n",
    "- mean squared error\n",
    "- and train/test splits\n",
    "\n",
    "### Where to Get Help if You Need it\n",
    "- Re-watch previous Udacity Lectures\n",
    "- Leverage the recommended Course Reading Material - [Grokking Deep Learning](https://www.manning.com/books/grokking-deep-learning) (Check inside your classroom for a discount code)\n",
    "- Shoot me a tweet @iamtrask\n",
    "\n",
    "\n",
    "### Tutorial Outline:\n",
    "\n",
    "- Intro: The Importance of \"Framing a Problem\" (this lesson)\n",
    "\n",
    "- [Curate a Dataset](#lesson_1)\n",
    "- [Developing a \"Predictive Theory\"](#lesson_2)\n",
    "- [**PROJECT 1**: Quick Theory Validation](#project_1)\n",
    "\n",
    "\n",
    "- [Transforming Text to Numbers](#lesson_3)\n",
    "- [**PROJECT 2**: Creating the Input/Output Data](#project_2)\n",
    "\n",
    "\n",
    "- Putting it all together in a Neural Network (video only - nothing in notebook)\n",
    "- [**PROJECT 3**: Building our Neural Network](#project_3)\n",
    "\n",
    "\n",
    "- [Understanding Neural Noise](#lesson_4)\n",
    "- [**PROJECT 4**: Making Learning Faster by Reducing Noise](#project_4)\n",
    "\n",
    "\n",
    "- [Analyzing Inefficiencies in our Network](#lesson_5)\n",
    "- [**PROJECT 5**: Making our Network Train and Run Faster](#project_5)\n",
    "\n",
    "\n",
    "- [Further Noise Reduction](#lesson_6)\n",
    "- [**PROJECT 6**: Reducing Noise by Strategically Reducing the Vocabulary](#project_6)\n",
    "\n",
    "\n",
    "- [Analysis: What's going on in the weights?](#lesson_7)"
   ]
  },
  {
   "cell_type": "markdown",
   "metadata": {
    "nbpresent": {
     "id": "56bb3cba-260c-4ebe-9ed6-b995b4c72aa3"
    }
   },
   "source": [
    "# Lesson: Curate a Dataset<a id='lesson_1'></a>\n",
    "The cells from here until Project 1 include code Andrew shows in the videos leading up to mini project 1. We've included them so you can run the code along with the videos without having to type in everything."
   ]
  },
  {
   "cell_type": "code",
   "execution_count": 6,
   "metadata": {
    "collapsed": true,
    "nbpresent": {
     "id": "eba2b193-0419-431e-8db9-60f34dd3fe83"
    }
   },
   "outputs": [],
   "source": [
    "def pretty_print_review_and_label(i):\n",
    "    print(labels[i] + \"\\t:\\t\" + reviews[i][:80] + \"...\")\n",
    "\n",
    "g = open('reviews.txt','r') # What we know!\n",
    "reviews = list(map(lambda x:x[:-1],g.readlines()))\n",
    "g.close()\n",
    "\n",
    "g = open('labels.txt','r') # What we WANT to know!\n",
    "labels = list(map(lambda x:x[:-1].upper(),g.readlines()))\n",
    "g.close()"
   ]
  },
  {
   "cell_type": "markdown",
   "metadata": {},
   "source": [
    "**Note:** The data in `reviews.txt` we're using has already been preprocessed a bit and contains only lower case characters. If we were working from raw data, where we didn't know it was all lower case, we would want to add a step here to convert it. That's so we treat different variations of the same word, like `The`, `the`, and `THE`, all the same way."
   ]
  },
  {
   "cell_type": "code",
   "execution_count": 2,
   "metadata": {
    "collapsed": true
   },
   "outputs": [
    {
     "data": {
      "text/plain": "25000"
     },
     "execution_count": 2,
     "metadata": {},
     "output_type": "execute_result"
    }
   ],
   "source": [
    "len(reviews)"
   ]
  },
  {
   "cell_type": "code",
   "execution_count": 3,
   "metadata": {
    "collapsed": true,
    "nbpresent": {
     "id": "bb95574b-21a0-4213-ae50-34363cf4f87f"
    }
   },
   "outputs": [
    {
     "data": {
      "text/plain": "'bromwell high is a cartoon comedy . it ran at the same time as some other programs about school life  such as  teachers  . my   years in the teaching profession lead me to believe that bromwell high  s satire is much closer to reality than is  teachers  . the scramble to survive financially  the insightful students who can see right through their pathetic teachers  pomp  the pettiness of the whole situation  all remind me of the schools i knew and their students . when i saw the episode in which a student repeatedly tried to burn down the school  i immediately recalled . . . . . . . . . at . . . . . . . . . . high . a classic line inspector i  m here to sack one of your teachers . student welcome to bromwell high . i expect that many adults of my age think that bromwell high is far fetched . what a pity that it isn  t   '"
     },
     "execution_count": 3,
     "metadata": {},
     "output_type": "execute_result"
    }
   ],
   "source": [
    "reviews[0]"
   ]
  },
  {
   "cell_type": "code",
   "execution_count": 4,
   "metadata": {
    "collapsed": true,
    "nbpresent": {
     "id": "e0408810-c424-4ed4-afb9-1735e9ddbd0a"
    }
   },
   "outputs": [
    {
     "data": {
      "text/plain": "'POSITIVE'"
     },
     "execution_count": 4,
     "metadata": {},
     "output_type": "execute_result"
    }
   ],
   "source": [
    "labels[0]"
   ]
  },
  {
   "cell_type": "markdown",
   "metadata": {},
   "source": [
    "# Lesson: Develop a Predictive Theory<a id='lesson_2'></a>"
   ]
  },
  {
   "cell_type": "code",
   "execution_count": 5,
   "metadata": {
    "collapsed": true,
    "nbpresent": {
     "id": "e67a709f-234f-4493-bae6-4fb192141ee0"
    }
   },
   "outputs": [
    {
     "name": "stdout",
     "output_type": "stream",
     "text": [
      "labels.txt \t : \t reviews.txt\n",
      "\n",
      "NEGATIVE\t:\tthis movie is terrible but it has some good effects .  ...\n",
      "POSITIVE\t:\tadrian pasdar is excellent is this film . he makes a fascinating woman .  ...\n",
      "NEGATIVE\t:\tcomment this movie is impossible . is terrible  very improbable  bad interpretat...\n",
      "POSITIVE\t:\texcellent episode movie ala pulp fiction .  days   suicides . it doesnt get more...\n",
      "NEGATIVE\t:\tif you haven  t seen this  it  s terrible . it is pure trash . i saw this about ...\n",
      "POSITIVE\t:\tthis schiffer guy is a real genius  the movie is of excellent quality and both e...\n"
     ]
    }
   ],
   "source": [
    "print(\"labels.txt \\t : \\t reviews.txt\\n\")\n",
    "pretty_print_review_and_label(2137)\n",
    "pretty_print_review_and_label(12816)\n",
    "pretty_print_review_and_label(6267)\n",
    "pretty_print_review_and_label(21934)\n",
    "pretty_print_review_and_label(5297)\n",
    "pretty_print_review_and_label(4998)"
   ]
  },
  {
   "cell_type": "markdown",
   "metadata": {},
   "source": [
    "# Project 1: Quick Theory Validation<a id='project_1'></a>\n",
    "\n",
    "There are multiple ways to implement these projects, but in order to get your code closer to what Andrew shows in his solutions, we've provided some hints and starter code throughout this notebook.\n",
    "\n",
    "You'll find the [Counter](https://docs.python.org/2/library/collections.html#collections.Counter) class to be useful in this exercise, as well as the [numpy](https://docs.scipy.org/doc/numpy/reference/) library."
   ]
  },
  {
   "cell_type": "code",
   "execution_count": 304,
   "metadata": {
    "collapsed": true
   },
   "outputs": [],
   "source": [
    "from collections import Counter\n",
    "import numpy as np"
   ]
  },
  {
   "cell_type": "markdown",
   "metadata": {},
   "source": [
    "We'll create three `Counter` objects, one for words from postive reviews, one for words from negative reviews, and one for all the words."
   ]
  },
  {
   "cell_type": "code",
   "execution_count": 13,
   "metadata": {
    "collapsed": true
   },
   "outputs": [],
   "source": [
    "# Create three Counter objects to store positive, negative and total counts\n",
    "positive_counts = Counter()\n",
    "negative_counts = Counter()\n",
    "total_counts = Counter()"
   ]
  },
  {
   "cell_type": "markdown",
   "metadata": {},
   "source": [
    "**TODO:** Examine all the reviews. For each word in a positive review, increase the count for that word in both your positive counter and the total words counter; likewise, for each word in a negative review, increase the count for that word in both your negative counter and the total words counter.\n",
    "\n",
    "**Note:** Throughout these projects, you should use `split(' ')` to divide a piece of text (such as a review) into individual words. If you use `split()` instead, you'll get slightly different results than what the videos and solutions show."
   ]
  },
  {
   "cell_type": "code",
   "execution_count": 36,
   "metadata": {
    "collapsed": true
   },
   "outputs": [],
   "source": [
    "# TODO: Loop over all the words in all the reviews and increment the counts in the appropriate counter objects\n",
    "for label, review in zip(labels, reviews):\n",
    "    split = review.split(' ')\n",
    "    if label == 'POSITIVE':\n",
    "        positive_counts += Counter(split)\n",
    "    else:\n",
    "        negative_counts += Counter(split)\n",
    "    total_counts += Counter(split)\n"
   ]
  },
  {
   "cell_type": "markdown",
   "metadata": {},
   "source": [
    "Run the following two cells to list the words used in positive reviews and negative reviews, respectively, ordered from most to least commonly used. "
   ]
  },
  {
   "cell_type": "code",
   "execution_count": 37,
   "metadata": {
    "collapsed": true
   },
   "outputs": [
    {
     "data": {
      "text/plain": "[(' ', 11246332),\n ('e', 4735864),\n ('t', 3678752),\n ('a', 3390294),\n ('i', 3132891),\n ('o', 2892942),\n ('s', 2767588),\n ('n', 2624687),\n ('r', 2406808),\n ('h', 2141586),\n ('l', 1770336),\n ('d', 1377934),\n ('c', 1116512),\n ('', 1100936),\n ('m', 1098222),\n ('u', 1031629),\n ('f', 898921),\n ('g', 815833),\n ('y', 813993),\n ('.', 798270),\n ('w', 766857),\n ('b', 762275),\n ('p', 668860),\n ('v', 495537),\n ('the', 346648),\n ('k', 328028),\n ('and', 179444),\n ('of', 153710),\n ('to', 133492),\n ('is', 114490),\n ('in', 100430),\n ('br', 98470),\n ('it', 96050),\n ('j', 91716),\n ('that', 71260),\n ('this', 70160),\n ('x', 67133),\n ('as', 52616),\n ('with', 46494),\n ('for', 44832),\n ('was', 43834),\n ('film', 41874),\n ('but', 41644),\n ('movie', 38148),\n ('z', 36732),\n ('his', 34454),\n ('on', 34016),\n ('you', 33362),\n ('he', 32564),\n ('q', 32062),\n ('are', 29614),\n ('not', 28544),\n ('one', 27310),\n ('have', 25174),\n ('be', 24832),\n ('by', 23994),\n ('all', 23884),\n ('who', 22928),\n ('an', 22588),\n ('at', 22468),\n ('from', 21534),\n ('her', 20948),\n ('they', 19790),\n ('has', 18372),\n ('so', 18308),\n ('like', 18076),\n ('about', 16626),\n ('very', 16610),\n ('out', 16268),\n ('there', 16114),\n ('she', 15558),\n ('what', 15474),\n ('or', 15464),\n ('good', 15440),\n ('more', 15042),\n ('when', 14912),\n ('some', 14882),\n ('if', 14570),\n ('just', 14304),\n ('can', 14002),\n ('story', 13560),\n ('time', 13030),\n ('my', 12976),\n ('great', 12838),\n ('well', 12810),\n ('up', 12642),\n ('which', 12534),\n ('their', 12214),\n ('see', 12052),\n ('also', 11100),\n ('we', 11062),\n ('really', 10952),\n ('would', 10800),\n ('will', 10436),\n ('me', 10334),\n ('had', 10296),\n ('only', 10274),\n ('him', 10036),\n ('even', 9928),\n ('most', 9728),\n ('other', 9716),\n ('were', 9564),\n ('first', 9510),\n ('than', 9472),\n ('much', 9370),\n ('its', 9244),\n ('no', 9148),\n ('into', 9088),\n ('people', 8958),\n ('best', 8638),\n ('love', 8602),\n ('get', 8544),\n ('how', 8426),\n ('life', 8398),\n ('been', 8378),\n ('because', 8158),\n ('way', 8072),\n ('do', 7882),\n ('made', 7646),\n ('films', 7626),\n ('them', 7610),\n ('after', 7600),\n ('many', 7532),\n ('two', 7466),\n ('too', 7318),\n ('think', 7310),\n ('movies', 7172),\n ('characters', 7120),\n ('character', 7028),\n ('don', 6936),\n ('man', 6920),\n ('show', 6864),\n ('watch', 6848),\n ('seen', 6828),\n ('then', 6716),\n ('little', 6682),\n ('still', 6680),\n ('make', 6606),\n ('could', 6474),\n ('never', 6452),\n ('being', 6434),\n ('where', 6346),\n ('does', 6138),\n ('over', 6034),\n ('any', 6004),\n ('while', 5798),\n ('know', 5666),\n ('did', 5580),\n ('years', 5516),\n ('here', 5480),\n ('ever', 5468),\n ('end', 5392),\n ('these', 5388),\n ('such', 5180),\n ('real', 5136),\n ('scene', 5134),\n ('back', 5094),\n ('those', 4970),\n ('though', 4950),\n ('off', 4926),\n ('new', 4916),\n ('your', 4906),\n ('go', 4880),\n ('acting', 4874),\n ('plot', 4864),\n ('world', 4858),\n ('scenes', 4854),\n ('say', 4828),\n ('through', 4818),\n ('makes', 4780),\n ('better', 4762),\n ('now', 4736),\n ('work', 4692),\n ('young', 4686),\n ('old', 4622),\n ('ve', 4614),\n ('find', 4544),\n ('both', 4496),\n ('before', 4354),\n ('us', 4324),\n ('again', 4316),\n ('series', 4306),\n ('quite', 4286),\n ('something', 4270),\n ('cast', 4266),\n ('should', 4242),\n ('part', 4196),\n ('always', 4176),\n ('lot', 4174),\n ('another', 4150),\n ('actors', 4094),\n ('director', 4080),\n ('family', 4064),\n ('between', 4032),\n ('own', 4032),\n ('may', 3994),\n ('same', 3944),\n ('role', 3934),\n ('watching', 3932),\n ('every', 3908),\n ('funny', 3906),\n ('doesn', 3870),\n ('performance', 3856),\n ('few', 3836),\n ('bad', 3814),\n ('look', 3800),\n ('re', 3768),\n ('why', 3710),\n ('things', 3698),\n ('times', 3664),\n ('big', 3630),\n ('however', 3590),\n ('actually', 3580),\n ('action', 3578),\n ('going', 3566),\n ('bit', 3514),\n ('comedy', 3484),\n ('down', 3480),\n ('music', 3476),\n ('must', 3456),\n ('take', 3418),\n ('saw', 3384),\n ('long', 3380),\n ('right', 3376),\n ('fun', 3372),\n ('fact', 3368),\n ('excellent', 3366),\n ('around', 3348),\n ('didn', 3344),\n ('without', 3342),\n ('thing', 3324),\n ('thought', 3278),\n ('got', 3270),\n ('each', 3260),\n ('day', 3228),\n ('feel', 3194),\n ('seems', 3192),\n ('come', 3188),\n ('done', 3172),\n ('beautiful', 3160),\n ('especially', 3144),\n ('played', 3142),\n ('almost', 3132),\n ('want', 3124),\n ('yet', 3112),\n ('give', 3106),\n ('pretty', 3098),\n ('last', 3086),\n ('since', 3038),\n ('different', 3008),\n ('although', 3002),\n ('gets', 2980),\n ('true', 2974),\n ('interesting', 2962),\n ('job', 2940),\n ('enough', 2910),\n ('our', 2908),\n ('shows', 2894),\n ('horror', 2882),\n ('woman', 2878),\n ('tv', 2800),\n ('probably', 2796),\n ('father', 2790),\n ('original', 2786),\n ('girl', 2780),\n ('point', 2758),\n ('plays', 2756),\n ('wonderful', 2744),\n ('far', 2716),\n ('course', 2716),\n ('john', 2700),\n ('rather', 2680),\n ('isn', 2656),\n ('ll', 2652),\n ('later', 2648),\n ('dvd', 2648),\n ('whole', 2620),\n ('war', 2620),\n ('found', 2612),\n ('away', 2612),\n ('screen', 2610),\n ('nothing', 2600),\n ('year', 2594),\n ('once', 2592),\n ('hard', 2588),\n ('together', 2560),\n ('set', 2554),\n ('am', 2554),\n ('having', 2532),\n ('making', 2530),\n ('place', 2526),\n ('might', 2520),\n ('comes', 2520),\n ('sure', 2506),\n ('american', 2496),\n ('play', 2490),\n ('kind', 2488),\n ('perfect', 2484),\n ('takes', 2484),\n ('performances', 2474),\n ('himself', 2460),\n ('worth', 2442),\n ('everyone', 2442),\n ('anyone', 2428),\n ('actor', 2406),\n ('three', 2402),\n ('wife', 2392),\n ('classic', 2384),\n ('goes', 2372),\n ('ending', 2356),\n ('version', 2336),\n ('star', 2298),\n ('enjoy', 2292),\n ('book', 2284),\n ('nice', 2264),\n ('everything', 2256),\n ('during', 2248),\n ('put', 2236),\n ('seeing', 2222),\n ('least', 2204),\n ('house', 2200),\n ('high', 2190),\n ('watched', 2188),\n ('loved', 2174),\n ('men', 2174),\n ('night', 2164),\n ('anything', 2150),\n ('believe', 2142),\n ('guy', 2142),\n ('top', 2126),\n ('amazing', 2116),\n ('hollywood', 2112),\n ('looking', 2106),\n ('main', 2088),\n ('definitely', 2086),\n ('gives', 2062),\n ('home', 2058),\n ('seem', 2056),\n ('episode', 2046),\n ('audience', 2040),\n ('sense', 2040),\n ('truly', 2034),\n ('special', 2022),\n ('second', 2018),\n ('short', 2018),\n ('fan', 2018),\n ('mind', 2010),\n ('human', 2002),\n ('recommend', 1998),\n ('full', 1992),\n ('black', 1990),\n ('help', 1982),\n ('along', 1978),\n ('trying', 1974),\n ('small', 1972),\n ('death', 1970),\n ('friends', 1962),\n ('remember', 1948),\n ('often', 1940),\n ('said', 1932),\n ('favorite', 1924),\n ('heart', 1918),\n ('early', 1914),\n ('left', 1912),\n ('until', 1910),\n ('script', 1908),\n ('let', 1908),\n ('maybe', 1874),\n ('today', 1872),\n ('live', 1868),\n ('less', 1868),\n ('moments', 1866),\n ('others', 1858),\n ('brilliant', 1852),\n ('shot', 1850),\n ('liked', 1846),\n ('become', 1832),\n ('won', 1830),\n ('used', 1820),\n ('style', 1814),\n ('mother', 1790),\n ('lives', 1788),\n ('came', 1786),\n ('stars', 1780),\n ('cinema', 1778),\n ('looks', 1770),\n ('perhaps', 1768),\n ('read', 1764),\n ('enjoyed', 1758),\n ('boy', 1750),\n ('drama', 1746),\n ('highly', 1742),\n ('given', 1740),\n ('playing', 1734),\n ('use', 1728),\n ('next', 1718),\n ('women', 1716),\n ('fine', 1714),\n ('effects', 1712),\n ('kids', 1708),\n ('entertaining', 1706),\n ('need', 1704),\n ('line', 1700),\n ('works', 1696),\n ('someone', 1694),\n ('mr', 1672),\n ('simply', 1670),\n ('picture', 1666),\n ('children', 1666),\n ('face', 1662),\n ('keep', 1662),\n ('friend', 1662),\n ('dark', 1660),\n ('overall', 1656),\n ('certainly', 1656),\n ('minutes', 1654),\n ('wasn', 1648),\n ('history', 1644),\n ('finally', 1640),\n ('couple', 1632),\n ('against', 1630),\n ('son', 1618),\n ('understand', 1616),\n ('lost', 1614),\n ('michael', 1610),\n ('else', 1602),\n ('throughout', 1596),\n ('fans', 1594),\n ('city', 1584),\n ('reason', 1578),\n ('written', 1574),\n ('production', 1574),\n ('several', 1568),\n ('school', 1566),\n ('based', 1562),\n ('rest', 1562),\n ('try', 1560),\n ('dead', 1552),\n ('hope', 1550),\n ('strong', 1536),\n ('white', 1530),\n ('tell', 1518),\n ('itself', 1516),\n ('half', 1506),\n ('person', 1498),\n ('sometimes', 1492),\n ('past', 1488),\n ('start', 1488),\n ('genre', 1486),\n ('beginning', 1478),\n ('final', 1478),\n ('town', 1476),\n ('art', 1468),\n ('humor', 1464),\n ('game', 1464),\n ('yes', 1462),\n ('idea', 1462),\n ('late', 1460),\n ('becomes', 1458),\n ('despite', 1458),\n ('able', 1452),\n ('case', 1452),\n ('money', 1446),\n ('child', 1442),\n ('completely', 1442),\n ('side', 1438),\n ('camera', 1432),\n ('getting', 1428),\n ('instead', 1424),\n ('soon', 1404),\n ('under', 1400),\n ('viewer', 1398),\n ('age', 1394),\n ('days', 1392),\n ('stories', 1392),\n ('felt', 1388),\n ('simple', 1388),\n ('roles', 1386),\n ('video', 1376),\n ('name', 1366),\n ('either', 1366),\n ('doing', 1354),\n ('turns', 1348),\n ('wants', 1342),\n ('close', 1342),\n ('title', 1338),\n ('wrong', 1336),\n ('went', 1332),\n ('james', 1330),\n ('evil', 1318),\n ('budget', 1314),\n ('episodes', 1314),\n ('relationship', 1310),\n ('fantastic', 1306),\n ('piece', 1306),\n ('david', 1302),\n ('turn', 1296),\n ('murder', 1292),\n ('parts', 1290),\n ('brother', 1288),\n ('absolutely', 1286),\n ('head', 1286),\n ('experience', 1284),\n ('eyes', 1282),\n ('sex', 1276),\n ('direction', 1274),\n ('called', 1274),\n ('directed', 1272),\n ('lines', 1268),\n ('behind', 1266),\n ('sort', 1264),\n ('actress', 1262),\n ('lead', 1260),\n ('oscar', 1256),\n ('including', 1254),\n ('example', 1254),\n ('known', 1250),\n ('musical', 1250),\n ('chance', 1242),\n ('score', 1240),\n ('already', 1238),\n ('feeling', 1238),\n ('hit', 1238),\n ('voice', 1230),\n ('moment', 1224),\n ('living', 1224),\n ('low', 1220),\n ('supporting', 1220),\n ('ago', 1218),\n ('themselves', 1216),\n ('reality', 1210),\n ('hilarious', 1210),\n ('jack', 1208),\n ('told', 1206),\n ('hand', 1202),\n ('quality', 1200),\n ('moving', 1200),\n ('dialogue', 1200),\n ('song', 1198),\n ('happy', 1198),\n ('matter', 1196),\n ('paul', 1196),\n ('light', 1188),\n ('future', 1186),\n ('entire', 1184),\n ('finds', 1182),\n ('gave', 1178),\n ('laugh', 1174),\n ('released', 1172),\n ('expect', 1168),\n ('fight', 1162),\n ('particularly', 1160),\n ('cinematography', 1158),\n ('police', 1158),\n ('whose', 1156),\n ('type', 1156),\n ('sound', 1156),\n ('view', 1146),\n ('enjoyable', 1146),\n ('number', 1144),\n ('romantic', 1144),\n ('husband', 1144),\n ('daughter', 1144),\n ('documentary', 1142),\n ('self', 1140),\n ('superb', 1138),\n ('modern', 1138),\n ('took', 1138),\n ('robert', 1138),\n ('mean', 1132),\n ('shown', 1126),\n ('coming', 1122),\n ('important', 1120),\n ('king', 1118),\n ('leave', 1118),\n ('change', 1116),\n ('somewhat', 1110),\n ('wanted', 1110),\n ('tells', 1108),\n ('events', 1104),\n ('run', 1104),\n ('career', 1104),\n ('country', 1104),\n ('heard', 1100),\n ('season', 1100),\n ('greatest', 1098),\n ('girls', 1098),\n ('etc', 1094),\n ('care', 1092),\n ('starts', 1090),\n ('english', 1084),\n ('killer', 1082),\n ('tale', 1080),\n ('guys', 1080),\n ('totally', 1080),\n ('animation', 1080),\n ('usual', 1078),\n ('miss', 1070),\n ('opinion', 1070),\n ('easy', 1062),\n ('violence', 1062),\n ('songs', 1060),\n ('british', 1056),\n ('says', 1052),\n ('realistic', 1050),\n ('writing', 1048),\n ('writer', 1044),\n ('act', 1044),\n ('comic', 1042),\n ('thriller', 1038),\n ('television', 1034),\n ('power', 1032),\n ('ones', 1030),\n ('kid', 1028),\n ('york', 1026),\n ('novel', 1026),\n ('alone', 1024),\n ('problem', 1024),\n ('attention', 1018),\n ('involved', 1016),\n ('kill', 1014),\n ('extremely', 1014),\n ('seemed', 1012),\n ('hero', 1010),\n ('french', 1010),\n ('rock', 1008),\n ('stuff', 1002),\n ('wish', 998),\n ('begins', 996),\n ('taken', 994),\n ('sad', 994),\n ('ways', 992),\n ('richard', 990),\n ('knows', 988),\n ('atmosphere', 986),\n ('similar', 982),\n ('surprised', 982),\n ('taking', 982),\n ('car', 982),\n ('george', 980),\n ('perfectly', 980),\n ('across', 978),\n ('team', 978),\n ('eye', 978),\n ('sequence', 978),\n ('room', 976),\n ('due', 976),\n ('among', 976),\n ('serious', 976),\n ('powerful', 976),\n ('strange', 974),\n ('order', 974),\n ('cannot', 974),\n ('beauty', 972),\n ('famous', 970),\n ('happened', 968),\n ('tries', 968),\n ('herself', 968),\n ('myself', 968),\n ('class', 966),\n ('four', 964),\n ('cool', 962),\n ('release', 958),\n ('anyway', 958),\n ('theme', 958),\n ('opening', 956),\n ('entertainment', 954),\n ('slow', 950),\n ('ends', 950),\n ('unique', 950),\n ('exactly', 950),\n ('easily', 948),\n ('level', 948),\n ('red', 948),\n ('interest', 944),\n ('happen', 942),\n ('crime', 940),\n ('viewing', 936),\n ('sets', 934),\n ('memorable', 934),\n ('stop', 932),\n ('group', 932),\n ('problems', 926),\n ('dance', 926),\n ('working', 926),\n ('sister', 926),\n ('message', 926),\n ('knew', 924),\n ('mystery', 922),\n ('nature', 922),\n ('bring', 920),\n ('believable', 918),\n ('thinking', 918),\n ('brought', 918),\n ('mostly', 916),\n ('disney', 914),\n ('couldn', 914),\n ('society', 912),\n ('lady', 910),\n ('within', 910),\n ('blood', 908),\n ('parents', 906),\n ('upon', 906),\n ('viewers', 906),\n ('meets', 904),\n ('form', 904),\n ('peter', 904),\n ('tom', 904),\n ('usually', 904),\n ('soundtrack', 904),\n ('local', 900),\n ('certain', 896),\n ('follow', 896),\n ('whether', 894),\n ('possible', 892),\n ('emotional', 890),\n ('killed', 888),\n ('above', 888),\n ('de', 888),\n ('god', 886),\n ('middle', 886),\n ('needs', 884),\n ('happens', 884),\n ('flick', 884),\n ('masterpiece', 882),\n ('period', 880),\n ('major', 880),\n ('named', 878),\n ('haven', 878),\n ('particular', 876),\n ('th', 876),\n ('earth', 874),\n ('feature', 874),\n ('stand', 872),\n ('words', 870),\n ('typical', 870),\n ('elements', 866),\n ('obviously', 866),\n ('romance', 862),\n ('jane', 860),\n ('yourself', 854),\n ('showing', 854),\n ('brings', 852),\n ('fantasy', 852),\n ('guess', 846),\n ('america', 846),\n ('unfortunately', 844),\n ('huge', 844),\n ('indeed', 842),\n ('running', 842),\n ('talent', 840),\n ('stage', 838),\n ('started', 836),\n ('leads', 834),\n ('sweet', 834),\n ('japanese', 834),\n ('poor', 832),\n ('deal', 832),\n ('incredible', 826),\n ('personal', 826),\n ('fast', 824),\n ('became', 820),\n ('deep', 820),\n ('hours', 818),\n ('giving', 816),\n ('nearly', 816),\n ('dream', 816),\n ('clearly', 814),\n ('turned', 814),\n ('obvious', 812),\n ('near', 812),\n ('cut', 810),\n ('surprise', 810),\n ('era', 808),\n ('body', 808),\n ('hour', 806),\n ('female', 806),\n ('five', 806),\n ('note', 798),\n ('learn', 796),\n ('truth', 796),\n ('except', 794),\n ('feels', 794),\n ('match', 794),\n ('tony', 794),\n ('filmed', 788),\n ('clear', 788),\n ('complete', 788),\n ('street', 786),\n ('eventually', 786),\n ('keeps', 786),\n ('older', 786),\n ('lots', 786),\n ('buy', 784),\n ('william', 782),\n ('stewart', 782),\n ('fall', 780),\n ('joe', 780),\n ('meet', 780),\n ('unlike', 778),\n ('talking', 778),\n ('shots', 778),\n ('rating', 778),\n ('difficult', 778),\n ('dramatic', 776),\n ('means', 776),\n ('situation', 772),\n ('wonder', 772),\n ('present', 772),\n ('appears', 772),\n ('subject', 772),\n ('comments', 770),\n ('general', 766),\n ('sequences', 766),\n ('lee', 766),\n ('points', 764),\n ('earlier', 764),\n ('gone', 758),\n ('check', 758),\n ('suspense', 756),\n ('recommended', 756),\n ('ten', 756),\n ('third', 754),\n ('business', 754),\n ('talk', 750),\n ('leaves', 750),\n ('beyond', 750),\n ('portrayal', 748),\n ('beautifully', 746),\n ('single', 744),\n ('bill', 744),\n ('plenty', 742),\n ('word', 742),\n ('whom', 740),\n ('falls', 740),\n ('scary', 738),\n ('non', 738),\n ('figure', 738),\n ('battle', 738),\n ('using', 736),\n ('return', 736),\n ('doubt', 734),\n ('add', 734),\n ('hear', 732),\n ('solid', 732),\n ('success', 732),\n ('jokes', 730),\n ('oh', 730),\n ('touching', 730),\n ('political', 730),\n ('hell', 728),\n ('awesome', 728),\n ('boys', 728),\n ('sexual', 724),\n ('recently', 724),\n ('dog', 724),\n ('please', 722),\n ('wouldn', 722),\n ('straight', 722),\n ('features', 722),\n ('forget', 720),\n ('setting', 720),\n ('lack', 720),\n ('married', 718),\n ('mark', 718),\n ('social', 714),\n ('interested', 712),\n ('adventure', 712),\n ('actual', 710),\n ('terrific', 710),\n ('sees', 710),\n ('brothers', 710),\n ('move', 708),\n ('call', 708),\n ('various', 706),\n ('theater', 706),\n ('dr', 706),\n ('animated', 704),\n ('western', 702),\n ('baby', 700),\n ('space', 700),\n ('leading', 696),\n ('disappointed', 696),\n ('portrayed', 692),\n ('aren', 692),\n ('screenplay', 690),\n ('smith', 690),\n ('towards', 688),\n ('hate', 688),\n ('noir', 686),\n ('outstanding', 684),\n ('decent', 684),\n ('kelly', 684),\n ('directors', 682),\n ('journey', 682),\n ('none', 680),\n ('looked', 680),\n ('effective', 680),\n ('storyline', 678),\n ('caught', 678),\n ('sci', 678),\n ('fi', 678),\n ('cold', 678),\n ('mary', 678),\n ('rich', 676),\n ('charming', 676),\n ('popular', 674),\n ('rare', 674),\n ('manages', 674),\n ('harry', 674),\n ('spirit', 672),\n ('appreciate', 670),\n ('open', 670),\n ('moves', 668),\n ('basically', 668),\n ('acted', 668),\n ('inside', 666),\n ('boring', 666),\n ('century', 666),\n ('mention', 666),\n ('deserves', 666),\n ('subtle', 666),\n ('pace', 666),\n ('familiar', 664),\n ('background', 664),\n ('ben', 662),\n ('creepy', 660),\n ('supposed', 660),\n ('secret', 658),\n ('die', 656),\n ('jim', 656),\n ('question', 654),\n ('effect', 654),\n ('natural', 654),\n ('impressive', 652),\n ('rate', 652),\n ('language', 652),\n ('saying', 650),\n ('intelligent', 650),\n ('telling', 648),\n ('realize', 648),\n ('material', 648),\n ('scott', 648),\n ('singing', 646),\n ('dancing', 644),\n ('visual', 642),\n ('adult', 642),\n ('imagine', 642),\n ('kept', 640),\n ('office', 640),\n ('uses', 638),\n ('pure', 636),\n ('wait', 636),\n ('stunning', 636),\n ('review', 634),\n ('previous', 634),\n ('copy', 634),\n ('seriously', 634),\n ('reading', 632),\n ('create', 632),\n ('hot', 632),\n ('created', 632),\n ('magic', 632),\n ('somehow', 632),\n ('stay', 630),\n ('attempt', 630),\n ('escape', 630),\n ('crazy', 630),\n ('air', 630),\n ('frank', 630),\n ('hands', 628),\n ('filled', 626),\n ('expected', 624),\n ('average', 624),\n ('surprisingly', 624),\n ('complex', 622),\n ('quickly', 620),\n ('successful', 620),\n ('studio', 620),\n ('plus', 618),\n ('male', 618),\n ('co', 614),\n ('images', 612),\n ('casting', 612),\n ('following', 612),\n ('minute', 612),\n ('exciting', 612),\n ('members', 610),\n ('follows', 610),\n ('themes', 610),\n ('german', 610),\n ('reasons', 610),\n ('touch', 608),\n ('edge', 608),\n ('free', 608),\n ('cute', 608),\n ('genius', 608),\n ('outside', 606),\n ('reviews', 604),\n ('admit', 604),\n ...]"
     },
     "execution_count": 37,
     "metadata": {},
     "output_type": "execute_result"
    }
   ],
   "source": [
    "# Examine the counts of the most common words in positive reviews\n",
    "positive_counts.most_common()"
   ]
  },
  {
   "cell_type": "code",
   "execution_count": 38,
   "metadata": {
    "collapsed": true
   },
   "outputs": [
    {
     "data": {
      "text/plain": "[(' ', 3743874),\n ('e', 1508674),\n ('t', 1244550),\n ('a', 1167149),\n ('i', 1060961),\n ('o', 959624),\n ('s', 917704),\n ('n', 831342),\n ('r', 749214),\n ('h', 695125),\n ('', 561462),\n ('l', 553726),\n ('.', 502614),\n ('d', 451573),\n ('m', 351043),\n ('c', 349311),\n ('u', 344693),\n ('the', 326778),\n ('f', 273136),\n ('g', 266461),\n ('b', 263533),\n ('y', 261967),\n ('w', 254358),\n ('p', 219053),\n ('v', 161744),\n ('and', 148770),\n ('of', 138018),\n ('to', 137948),\n ('k', 115091),\n ('br', 105274),\n ('is', 100166),\n ('it', 96654),\n ('in', 87506),\n ('this', 81840),\n ('that', 75230),\n ('was', 52582),\n ('movie', 49930),\n ('for', 43854),\n ('but', 43562),\n ('with', 41756),\n ('as', 41250),\n ('film', 38436),\n ('you', 35098),\n ('on', 34384),\n ('not', 32708),\n ('have', 30288),\n ('are', 29246),\n ('be', 29082),\n ('j', 28627),\n ('he', 27712),\n ('one', 26268),\n ('they', 26022),\n ('at', 24558),\n ('his', 24294),\n ('all', 24072),\n ('so', 22926),\n ('like', 22476),\n ('there', 21550),\n ('x', 21453),\n ('just', 21238),\n ('by', 21098),\n ('or', 20544),\n ('an', 20532),\n ('who', 19938),\n ('from', 19462),\n ('if', 19036),\n ('about', 18122),\n ('out', 17958),\n ('what', 16844),\n ('some', 16612),\n ('no', 16286),\n ('her', 15894),\n ('even', 15374),\n ('can', 15306),\n ('has', 15208),\n ('good', 14846),\n ('bad', 14802),\n ('would', 14072),\n ('up', 13940),\n ('only', 13562),\n ('more', 13460),\n ('when', 13452),\n ('she', 12888),\n ('really', 12524),\n ('time', 12418),\n ('had', 12284),\n ('my', 12030),\n ('were', 12002),\n ('which', 11560),\n ('very', 11528),\n ('me', 11212),\n ('z', 11011),\n ('see', 10904),\n ('don', 10672),\n ('we', 10656),\n ('their', 10556),\n ('do', 10472),\n ('story', 10416),\n ('than', 10366),\n ('been', 10200),\n ('much', 10156),\n ('get', 10074),\n ('because', 9932),\n ('people', 9612),\n ('q', 9596),\n ('then', 9522),\n ('make', 9444),\n ('how', 9376),\n ('could', 9372),\n ('any', 9316),\n ('into', 9134),\n ('made', 9082),\n ('first', 8612),\n ('other', 8610),\n ('well', 8508),\n ('too', 8348),\n ('them', 8330),\n ('plot', 8308),\n ('movies', 8160),\n ('acting', 8112),\n ('will', 7986),\n ('way', 7978),\n ('most', 7838),\n ('him', 7716),\n ('after', 7676),\n ('its', 7310),\n ('think', 7286),\n ('also', 7216),\n ('characters', 7200),\n ('off', 7134),\n ('watch', 7100),\n ('character', 7012),\n ('did', 7012),\n ('why', 6926),\n ('being', 6786),\n ('better', 6716),\n ('know', 6668),\n ('over', 6632),\n ('seen', 6530),\n ('ever', 6526),\n ('never', 6518),\n ('your', 6466),\n ('where', 6438),\n ('two', 6346),\n ('little', 6192),\n ('films', 6154),\n ('here', 6054),\n ('nothing', 5980),\n ('say', 5964),\n ('end', 5908),\n ('something', 5884),\n ('should', 5840),\n ('many', 5818),\n ('does', 5742),\n ('thing', 5732),\n ('show', 5724),\n ('ve', 5658),\n ('scene', 5632),\n ('scenes', 5570),\n ('these', 5448),\n ('go', 5434),\n ('didn', 5292),\n ('great', 5280),\n ('watching', 5280),\n ('re', 5240),\n ('doesn', 5202),\n ('through', 5120),\n ('such', 5088),\n ('man', 5032),\n ('worst', 4960),\n ('actually', 4898),\n ('actors', 4874),\n ('life', 4858),\n ('back', 4848),\n ('while', 4836),\n ('director', 4810),\n ('funny', 4672),\n ('going', 4638),\n ('still', 4566),\n ('another', 4508),\n ('look', 4494),\n ('now', 4474),\n ('old', 4430),\n ('those', 4424),\n ('real', 4340),\n ('few', 4316),\n ('love', 4304),\n ('horror', 4300),\n ('before', 4294),\n ('want', 4282),\n ('minutes', 4252),\n ('pretty', 4230),\n ('best', 4188),\n ('though', 4182),\n ('same', 4162),\n ('script', 4148),\n ('work', 4054),\n ('every', 4050),\n ('seems', 4046),\n ('least', 4022),\n ('enough', 3994),\n ('down', 3976),\n ('original', 3966),\n ('guy', 3928),\n ('got', 3904),\n ('around', 3886),\n ('part', 3884),\n ('lot', 3784),\n ('anything', 3748),\n ('find', 3720),\n ('new', 3708),\n ('again', 3698),\n ('isn', 3698),\n ('point', 3690),\n ('things', 3678),\n ('fact', 3678),\n ('give', 3646),\n ('makes', 3628),\n ('take', 3600),\n ('thought', 3596),\n ('whole', 3536),\n ('long', 3522),\n ('years', 3518),\n ('however', 3480),\n ('gets', 3428),\n ('making', 3390),\n ('cast', 3388),\n ('big', 3324),\n ('might', 3316),\n ('interesting', 3296),\n ('money', 3276),\n ('us', 3256),\n ('right', 3250),\n ('far', 3238),\n ('quite', 3192),\n ('without', 3190),\n ('come', 3190),\n ('almost', 3148),\n ('ll', 3134),\n ('action', 3132),\n ('awful', 3114),\n ('kind', 3078),\n ('reason', 3068),\n ('am', 3060),\n ('looks', 3056),\n ('must', 3044),\n ('done', 3020),\n ('comedy', 3008),\n ('someone', 2980),\n ('trying', 2972),\n ('wasn', 2968),\n ('poor', 2962),\n ('boring', 2956),\n ('instead', 2956),\n ('saw', 2950),\n ('away', 2938),\n ('girl', 2926),\n ('probably', 2888),\n ('believe', 2868),\n ('sure', 2866),\n ('looking', 2860),\n ('stupid', 2856),\n ('anyone', 2836),\n ('times', 2812),\n ('maybe', 2808),\n ('world', 2808),\n ('rather', 2788),\n ('terrible', 2782),\n ('may', 2780),\n ('last', 2780),\n ('since', 2776),\n ('let', 2770),\n ('tv', 2764),\n ('hard', 2748),\n ('between', 2748),\n ('waste', 2716),\n ('woman', 2712),\n ('feel', 2708),\n ('effects', 2696),\n ('half', 2682),\n ('own', 2666),\n ('young', 2634),\n ('music', 2632),\n ('idea', 2624),\n ('sense', 2612),\n ('bit', 2596),\n ('having', 2560),\n ('book', 2556),\n ('found', 2534),\n ('put', 2526),\n ('series', 2526),\n ('goes', 2512),\n ('worse', 2498),\n ('said', 2460),\n ('comes', 2448),\n ('role', 2444),\n ('main', 2440),\n ('else', 2398),\n ('everything', 2394),\n ('yet', 2392),\n ('low', 2378),\n ('screen', 2376),\n ('supposed', 2372),\n ('actor', 2370),\n ('either', 2366),\n ('budget', 2358),\n ('ending', 2358),\n ('audience', 2356),\n ('set', 2354),\n ('family', 2340),\n ('left', 2338),\n ('completely', 2336),\n ('both', 2316),\n ('wrong', 2310),\n ('always', 2302),\n ('course', 2296),\n ('place', 2296),\n ('seem', 2294),\n ('watched', 2284),\n ('day', 2264),\n ('simply', 2260),\n ('shot', 2252),\n ('mean', 2234),\n ('special', 2204),\n ('dead', 2202),\n ('three', 2188),\n ('house', 2170),\n ('oh', 2168),\n ('night', 2166),\n ('read', 2164),\n ('less', 2134),\n ('high', 2132),\n ('year', 2128),\n ('camera', 2122),\n ('worth', 2114),\n ('our', 2112),\n ('try', 2102),\n ('horrible', 2092),\n ('sex', 2092),\n ('video', 2086),\n ('black', 2078),\n ('although', 2072),\n ('couldn', 2072),\n ('once', 2066),\n ('rest', 2044),\n ('dvd', 2042),\n ('line', 2036),\n ('played', 2034),\n ('fun', 2014),\n ('during', 2012),\n ('production', 2006),\n ('everyone', 2004),\n ('play', 1986),\n ('mind', 1980),\n ('version', 1978),\n ('kids', 1978),\n ('seeing', 1976),\n ('american', 1960),\n ('given', 1956),\n ('used', 1938),\n ('performance', 1936),\n ('especially', 1926),\n ('together', 1926),\n ('tell', 1918),\n ('women', 1916),\n ('start', 1912),\n ('need', 1910),\n ('second', 1906),\n ('takes', 1900),\n ('each', 1900),\n ('wife', 1888),\n ('dialogue', 1884),\n ('use', 1880),\n ('problem', 1876),\n ('star', 1868),\n ('unfortunately', 1862),\n ('himself', 1858),\n ('doing', 1852),\n ('death', 1844),\n ('name', 1842),\n ('lines', 1838),\n ('killer', 1828),\n ('getting', 1826),\n ('help', 1810),\n ('couple', 1804),\n ('fan', 1804),\n ('head', 1796),\n ('crap', 1790),\n ('guess', 1776),\n ('piece', 1768),\n ('nice', 1760),\n ('different', 1756),\n ('school', 1752),\n ('later', 1750),\n ('entire', 1738),\n ('shows', 1720),\n ('next', 1716),\n ('john', 1716),\n ('short', 1714),\n ('seemed', 1714),\n ('hollywood', 1700),\n ('home', 1696),\n ('true', 1692),\n ('person', 1692),\n ('absolutely', 1684),\n ('sort', 1680),\n ('care', 1678),\n ('understand', 1672),\n ('plays', 1670),\n ('felt', 1668),\n ('written', 1658),\n ('title', 1656),\n ('men', 1644),\n ('until', 1642),\n ('flick', 1632),\n ('decent', 1630),\n ('face', 1628),\n ('friends', 1620),\n ('stars', 1614),\n ('job', 1614),\n ('case', 1614),\n ('itself', 1608),\n ('yes', 1602),\n ('perhaps', 1600),\n ('went', 1594),\n ('wanted', 1594),\n ('called', 1592),\n ('annoying', 1590),\n ('ridiculous', 1580),\n ('tries', 1580),\n ('laugh', 1576),\n ('evil', 1574),\n ('along', 1572),\n ('top', 1570),\n ('hour', 1568),\n ('full', 1566),\n ('came', 1560),\n ('writing', 1560),\n ('keep', 1540),\n ('totally', 1534),\n ('playing', 1532),\n ('god', 1530),\n ('won', 1528),\n ('guys', 1526),\n ('already', 1524),\n ('gore', 1514),\n ('direction', 1496),\n ('save', 1492),\n ('lost', 1490),\n ('example', 1488),\n ('sound', 1484),\n ('war', 1482),\n ('attempt', 1470),\n ('car', 1466),\n ('except', 1466),\n ('moments', 1464),\n ('blood', 1464),\n ('obviously', 1460),\n ('act', 1458),\n ('remember', 1456),\n ('kill', 1454),\n ('truly', 1452),\n ('white', 1452),\n ('father', 1452),\n ('thinking', 1440),\n ('ok', 1432),\n ('finally', 1432),\n ('turn', 1422),\n ('quality', 1402),\n ('lack', 1396),\n ('style', 1388),\n ('wouldn', 1386),\n ('cheap', 1382),\n ('none', 1380),\n ('kid', 1372),\n ('please', 1372),\n ('boy', 1370),\n ('seriously', 1368),\n ('lead', 1360),\n ('dull', 1354),\n ('children', 1352),\n ('starts', 1350),\n ('stuff', 1346),\n ('hope', 1344),\n ('looked', 1340),\n ('recommend', 1338),\n ('under', 1336),\n ('run', 1334),\n ('killed', 1334),\n ('enjoy', 1332),\n ('others', 1332),\n ('etc', 1326),\n ('myself', 1326),\n ('beginning', 1324),\n ('girls', 1324),\n ('against', 1324),\n ('obvious', 1320),\n ('small', 1320),\n ('hell', 1318),\n ('slow', 1314),\n ('hand', 1312),\n ('wonder', 1304),\n ('lame', 1304),\n ('becomes', 1302),\n ('picture', 1302),\n ('based', 1300),\n ('early', 1296),\n ('behind', 1292),\n ('poorly', 1288),\n ('avoid', 1284),\n ('apparently', 1280),\n ('complete', 1280),\n ('happens', 1278),\n ('anyway', 1276),\n ('classic', 1274),\n ('several', 1272),\n ('despite', 1270),\n ('certainly', 1270),\n ('episode', 1270),\n ('often', 1262),\n ('cut', 1260),\n ('writer', 1260),\n ('mother', 1256),\n ('predictable', 1256),\n ('gave', 1256),\n ('become', 1254),\n ('close', 1250),\n ('fans', 1248),\n ('saying', 1242),\n ('scary', 1238),\n ('stop', 1236),\n ('live', 1236),\n ('wants', 1234),\n ('self', 1230),\n ('mr', 1224),\n ('jokes', 1222),\n ('friend', 1222),\n ('cannot', 1220),\n ('overall', 1218),\n ('cinema', 1208),\n ('child', 1206),\n ('silly', 1202),\n ('beautiful', 1192),\n ('human', 1190),\n ('expect', 1188),\n ('liked', 1186),\n ('happened', 1184),\n ('bunch', 1180),\n ('entertaining', 1180),\n ('actress', 1176),\n ('final', 1176),\n ('says', 1168),\n ('performances', 1168),\n ('turns', 1154),\n ('humor', 1154),\n ('themselves', 1152),\n ('eyes', 1152),\n ('hours', 1148),\n ('happen', 1146),\n ('basically', 1144),\n ('days', 1144),\n ('running', 1142),\n ('involved', 1138),\n ('disappointed', 1138),\n ('call', 1138),\n ('directed', 1136),\n ('group', 1136),\n ('fight', 1134),\n ('daughter', 1132),\n ('talking', 1132),\n ('body', 1132),\n ('badly', 1130),\n ('sorry', 1130),\n ('throughout', 1126),\n ('viewer', 1126),\n ('yourself', 1124),\n ('extremely', 1124),\n ('interest', 1122),\n ('heard', 1122),\n ('violence', 1122),\n ('shots', 1118),\n ('side', 1114),\n ('word', 1112),\n ('art', 1110),\n ('possible', 1108),\n ('dark', 1102),\n ('game', 1102),\n ('hero', 1100),\n ('alone', 1098),\n ('son', 1094),\n ('type', 1094),\n ('leave', 1094),\n ('gives', 1092),\n ('parts', 1092),\n ('single', 1092),\n ('started', 1090),\n ('female', 1086),\n ('rating', 1082),\n ('mess', 1082),\n ('voice', 1082),\n ('aren', 1080),\n ('town', 1080),\n ('drama', 1076),\n ('definitely', 1074),\n ('unless', 1072),\n ('review', 1068),\n ('effort', 1066),\n ('weak', 1066),\n ('able', 1066),\n ('took', 1062),\n ('non', 1060),\n ('five', 1060),\n ('matter', 1058),\n ('usually', 1058),\n ('michael', 1056),\n ('feeling', 1052),\n ('huge', 1046),\n ('sequel', 1044),\n ('soon', 1042),\n ('exactly', 1040),\n ('past', 1038),\n ('turned', 1036),\n ('police', 1036),\n ('tried', 1030),\n ('middle', 1026),\n ('talent', 1026),\n ('genre', 1024),\n ('zombie', 1020),\n ('ends', 1018),\n ('history', 1018),\n ('straight', 1006),\n ('opening', 1002),\n ('serious', 1002),\n ('coming', 1002),\n ('moment', 1000),\n ('lives', 998),\n ('sad', 998),\n ('dialog', 996),\n ('particularly', 996),\n ('editing', 986),\n ('clearly', 984),\n ('beyond', 982),\n ('earth', 982),\n ('taken', 980),\n ('cool', 980),\n ('level', 978),\n ('dumb', 978),\n ('okay', 976),\n ('major', 974),\n ('fast', 970),\n ('premise', 970),\n ('joke', 968),\n ('stories', 968),\n ('wasted', 966),\n ('minute', 966),\n ('across', 964),\n ('mostly', 964),\n ('rent', 964),\n ('late', 962),\n ('falls', 962),\n ('fails', 962),\n ('mention', 956),\n ('theater', 950),\n ('stay', 944),\n ('sometimes', 944),\n ('hit', 936),\n ('talk', 934),\n ('fine', 934),\n ('die', 932),\n ('storyline', 930),\n ('pointless', 930),\n ('taking', 928),\n ('order', 924),\n ('brother', 922),\n ('whatever', 920),\n ('told', 920),\n ('wish', 916),\n ('room', 912),\n ('career', 910),\n ('appears', 910),\n ('write', 910),\n ('known', 908),\n ('husband', 908),\n ('living', 902),\n ('sit', 900),\n ('ten', 900),\n ('words', 898),\n ('monster', 896),\n ('chance', 896),\n ('hate', 888),\n ('novel', 888),\n ('add', 886),\n ('english', 886),\n ('somehow', 882),\n ('strange', 880),\n ('imdb', 876),\n ('actual', 876),\n ('total', 874),\n ('material', 874),\n ('killing', 874),\n ('ones', 874),\n ('knew', 872),\n ('king', 868),\n ('number', 868),\n ('using', 866),\n ('lee', 862),\n ('power', 862),\n ('shown', 862),\n ('works', 862),\n ('giving', 862),\n ('points', 860),\n ('possibly', 860),\n ('kept', 860),\n ('four', 858),\n ('local', 854),\n ('usual', 852),\n ('including', 850),\n ('problems', 848),\n ('ago', 848),\n ('opinion', 848),\n ('nudity', 846),\n ('age', 844),\n ('due', 842),\n ('roles', 840),\n ('writers', 838),\n ('decided', 838),\n ('near', 836),\n ('flat', 836),\n ('easily', 836),\n ('murder', 834),\n ('experience', 834),\n ('reviews', 832),\n ('imagine', 830),\n ('feels', 826),\n ('plain', 822),\n ('somewhat', 822),\n ('class', 820),\n ('score', 820),\n ('song', 818),\n ('bring', 818),\n ('whether', 818),\n ('otherwise', 816),\n ('whose', 816),\n ('average', 816),\n ('pathetic', 814),\n ('nearly', 814),\n ('knows', 814),\n ('zombies', 814),\n ('cinematography', 812),\n ('cheesy', 812),\n ('upon', 812),\n ('city', 810),\n ('space', 810),\n ('credits', 808),\n ('james', 806),\n ('lots', 806),\n ('change', 806),\n ('entertainment', 804),\n ('nor', 804),\n ('wait', 802),\n ('released', 800),\n ('needs', 798),\n ('shame', 796),\n ('attention', 792),\n ('comments', 788),\n ('bored', 786),\n ('free', 786),\n ('lady', 786),\n ('expected', 784),\n ('needed', 784),\n ('clear', 784),\n ('view', 782),\n ('development', 780),\n ('check', 780),\n ('doubt', 780),\n ('figure', 778),\n ('mystery', 778),\n ('excellent', 776),\n ('garbage', 776),\n ('sequence', 772),\n ('television', 772),\n ('sets', 770),\n ('laughable', 768),\n ('potential', 768),\n ('robert', 764),\n ('light', 764),\n ('country', 764),\n ('documentary', 764),\n ('reality', 764),\n ('general', 762),\n ('ask', 762),\n ('comic', 760),\n ('fall', 760),\n ('begin', 760),\n ('footage', 758),\n ('stand', 758),\n ('forced', 758),\n ('trash', 758),\n ('remake', 758),\n ('thriller', 756),\n ('songs', 756),\n ('gay', 754),\n ('within', 754),\n ('hardly', 752),\n ('above', 750),\n ('gone', 750),\n ('george', 748),\n ('means', 746),\n ('sounds', 746),\n ('directing', 744),\n ('move', 744),\n ('david', 744),\n ('buy', 744),\n ('rock', 742),\n ('forward', 742),\n ('important', 742),\n ('hot', 740),\n ('haven', 740),\n ('filmed', 740),\n ('british', 740),\n ('heart', 738),\n ('reading', 738),\n ('fake', 738),\n ('incredibly', 736),\n ('weird', 736),\n ('hear', 736),\n ('enjoyed', 734),\n ('hilarious', 734),\n ('cop', 734),\n ('musical', 734),\n ('message', 732),\n ('happy', 732),\n ('pay', 732),\n ('laughs', 730),\n ('box', 730),\n ('suspense', 726),\n ('sadly', 726),\n ('eye', 724),\n ('third', 722),\n ('similar', 722),\n ('named', 722),\n ('modern', 720),\n ('failed', 718),\n ('events', 718),\n ('forget', 716),\n ('question', 716),\n ('male', 714),\n ('finds', 714),\n ('perfect', 712),\n ('spent', 710),\n ('sister', 710),\n ('feature', 708),\n ('result', 708),\n ('comment', 706),\n ('girlfriend', 706),\n ('sexual', 704),\n ('attempts', 702),\n ('neither', 702),\n ('richard', 702),\n ('screenplay', 700),\n ('elements', 700),\n ('spoilers', 698),\n ('brain', 696),\n ('filmmakers', 696),\n ('showing', 696),\n ('miss', 694),\n ('dr', 694),\n ('christmas', 694),\n ('cover', 690),\n ('red', 688),\n ('sequences', 688),\n ('typical', 686),\n ('excuse', 686),\n ('crazy', 684),\n ('ideas', 684),\n ('baby', 684),\n ('loved', 682),\n ('meant', 682),\n ('worked', 680),\n ('fire', 680),\n ('unbelievable', 678),\n ('follow', 678),\n ('theme', 674),\n ('barely', 672),\n ('producers', 672),\n ('twist', 672),\n ('plus', 672),\n ('appear', 672),\n ('directors', 670),\n ('team', 670),\n ('viewers', 666),\n ('leads', 664),\n ('tom', 664),\n ('slasher', 664),\n ('wrote', 662),\n ('villain', 662),\n ('gun', 662),\n ('working', 662),\n ('island', 660),\n ('strong', 660),\n ('open', 660),\n ('realize', 660),\n ('positive', 658),\n ('disappointing', 658),\n ('yeah', 658),\n ('quickly', 658),\n ('weren', 656),\n ('release', 656),\n ('simple', 656),\n ('honestly', 656),\n ('eventually', 654),\n ('period', 654),\n ('tells', 654),\n ('kills', 654),\n ('doctor', 654),\n ('nowhere', 652),\n ('list', 652),\n ('acted', 652),\n ('herself', 652),\n ('dog', 652),\n ('walk', 650),\n ('air', 648),\n ('apart', 648),\n ('makers', 646),\n ('subject', 646),\n ('learn', 644),\n ('fi', 644),\n ('sci', 638),\n ('bother', 638),\n ('admit', 638),\n ('jack', 636),\n ('disappointment', 636),\n ('hands', 636),\n ('note', 636),\n ('certain', 634),\n ('value', 634),\n ('casting', 634),\n ('grade', 632),\n ('peter', 632),\n ('suddenly', 630),\n ('missing', 630),\n ('form', 626),\n ('stick', 626),\n ('previous', 626),\n ('break', 626),\n ('soundtrack', 624),\n ('surprised', 622),\n ('front', 622),\n ('expecting', 622),\n ('parents', 620),\n ('surprise', 620),\n ('relationship', 620),\n ('shoot', 618),\n ('today', 618),\n ('painful', 616),\n ('ways', 616),\n ('leaves', 616),\n ('ended', 616),\n ('creepy', 616),\n ('concept', 616),\n ('somewhere', 616),\n ('vampire', 616),\n ('spend', 614),\n ('th', 614),\n ('future', 612),\n ('difficult', 612),\n ('effect', 612),\n ('fighting', 612),\n ('street', 612),\n ('america', 610),\n ('accent', 608),\n ('truth', 604),\n ('project', 604),\n ('joe', 602),\n ('deal', 602),\n ('indeed', 602),\n ('biggest', 600),\n ('rate', 600),\n ('paul', 598),\n ('japanese', 598),\n ('utterly', 596),\n ('begins', 596),\n ('redeeming', 596),\n ('college', 596),\n ('york', 594),\n ('fairly', 594),\n ('disney', 594),\n ('crew', 592),\n ('create', 592),\n ('cartoon', 592),\n ('revenge', 592),\n ('co', 590),\n ('outside', 590),\n ('computer', 590),\n ('interested', 590),\n ('stage', 590),\n ('considering', 588),\n ('speak', 588),\n ('among', 588),\n ('towards', 586),\n ...]"
     },
     "execution_count": 38,
     "metadata": {},
     "output_type": "execute_result"
    }
   ],
   "source": [
    "# Examine the counts of the most common words in negative reviews\n",
    "negative_counts.most_common()"
   ]
  },
  {
   "cell_type": "markdown",
   "metadata": {},
   "source": [
    "As you can see, common words like \"the\" appear very often in both positive and negative reviews. Instead of finding the most common words in positive or negative reviews, what you really want are the words found in positive reviews more often than in negative reviews, and vice versa. To accomplish this, you'll need to calculate the **ratios** of word usage between positive and negative reviews.\n",
    "\n",
    "**TODO:** Check all the words you've seen and calculate the ratio of postive to negative uses and store that ratio in `pos_neg_ratios`. \n",
    ">Hint: the positive-to-negative ratio for a given word can be calculated with `positive_counts[word] / float(negative_counts[word]+1)`. Notice the `+1` in the denominator – that ensures we don't divide by zero for words that are only seen in positive reviews."
   ]
  },
  {
   "cell_type": "code",
   "execution_count": 50,
   "metadata": {
    "collapsed": true
   },
   "outputs": [],
   "source": [
    "# Create Counter object to store positive/negative ratios\n",
    "pos_neg_ratios = Counter()\n",
    "\n",
    "# TODO: Calculate the ratios of positive and negative uses of the most common words\n",
    "#       Consider words to be \"common\" if they've been used at least 100 times\n",
    "for term, count in list(total_counts.most_common()):\n",
    "    if count > 100:\n",
    "        pos_neg_ratio = positive_counts[term] / float(negative_counts[term] + 1)\n",
    "        pos_neg_ratios[term] = pos_neg_ratio\n",
    "\n",
    "for word, ratio in pos_neg_ratios.most_common():\n",
    "    if ratio > 1:\n",
    "        pos_neg_ratios[word] = np.log(ratio)\n",
    "    else:\n",
    "        pos_neg_ratios[word] = -np.log((1/(ratio + .01)))"
   ]
  },
  {
   "cell_type": "markdown",
   "metadata": {},
   "source": [
    "Examine the ratios you've calculated for a few words:"
   ]
  },
  {
   "cell_type": "code",
   "execution_count": 51,
   "metadata": {
    "collapsed": true
   },
   "outputs": [
    {
     "name": "stdout",
     "output_type": "stream",
     "text": [
      "Pos-to-neg ratio for 'the' = 0.05902575442851183\n",
      "Pos-to-neg ratio for 'amazing' = 1.3938845303865663\n",
      "Pos-to-neg ratio for 'terrible' = -1.6739428971834895\n"
     ]
    }
   ],
   "source": [
    "print(\"Pos-to-neg ratio for 'the' = {}\".format(pos_neg_ratios[\"the\"]))\n",
    "print(\"Pos-to-neg ratio for 'amazing' = {}\".format(pos_neg_ratios[\"amazing\"]))\n",
    "print(\"Pos-to-neg ratio for 'terrible' = {}\".format(pos_neg_ratios[\"terrible\"]))"
   ]
  },
  {
   "cell_type": "markdown",
   "metadata": {},
   "source": [
    "Looking closely at the values you just calculated, we see the following:\n",
    "\n",
    "* Words that you would expect to see more often in positive reviews – like \"amazing\" – have a ratio greater than 1. The more skewed a word is toward postive, the farther from 1 its positive-to-negative ratio  will be.\n",
    "* Words that you would expect to see more often in negative reviews – like \"terrible\" – have positive values that are less than 1. The more skewed a word is toward negative, the closer to zero its positive-to-negative ratio will be.\n",
    "* Neutral words, which don't really convey any sentiment because you would expect to see them in all sorts of reviews – like \"the\" – have values very close to 1. A perfectly neutral word – one that was used in exactly the same number of positive reviews as negative reviews – would be almost exactly 1. The `+1` we suggested you add to the denominator slightly biases words toward negative, but it won't matter because it will be a tiny bias and later we'll be ignoring words that are too close to neutral anyway.\n",
    "\n",
    "Ok, the ratios tell us which words are used more often in postive or negative reviews, but the specific values we've calculated are a bit difficult to work with. A very positive word like \"amazing\" has a value above 4, whereas a very negative word like \"terrible\" has a value around 0.18. Those values aren't easy to compare for a couple of reasons:\n",
    "\n",
    "* Right now, 1 is considered neutral, but the absolute value of the positive-to-negative ratios of very positive words is larger than the absolute value of the ratios for the very negative words. So there is no way to directly compare two numbers and see if one word conveys the same magnitude of positive sentiment as another word conveys negative sentiment. So we should center all the values around netural so the absolute value fro neutral of the postive-to-negative ratio for a word would indicate how much sentiment (positive or negative) that word conveys.\n",
    "* When comparing absolute values it's easier to do that around zero than one. \n",
    "\n",
    "To fix these issues, we'll convert all of our ratios to new values using logarithms.\n",
    "\n",
    "**TODO:** Go through all the ratios you calculated and convert them to logarithms. (i.e. use `np.log(ratio)`)\n",
    "\n",
    "In the end, extremely positive and extremely negative words will have positive-to-negative ratios with similar magnitudes but opposite signs."
   ]
  },
  {
   "cell_type": "code",
   "execution_count": 52,
   "metadata": {
    "collapsed": true
   },
   "outputs": [],
   "source": [
    "# TODO: Convert ratios to logs"
   ]
  },
  {
   "cell_type": "markdown",
   "metadata": {},
   "source": [
    "Examine the new ratios you've calculated for the same words from before:"
   ]
  },
  {
   "cell_type": "code",
   "execution_count": 53,
   "metadata": {
    "collapsed": true
   },
   "outputs": [
    {
     "name": "stdout",
     "output_type": "stream",
     "text": [
      "Pos-to-neg ratio for 'the' = 0.05902575442851183\n",
      "Pos-to-neg ratio for 'amazing' = 1.3938845303865663\n",
      "Pos-to-neg ratio for 'terrible' = -1.6739428971834895\n"
     ]
    }
   ],
   "source": [
    "print(\"Pos-to-neg ratio for 'the' = {}\".format(pos_neg_ratios[\"the\"]))\n",
    "print(\"Pos-to-neg ratio for 'amazing' = {}\".format(pos_neg_ratios[\"amazing\"]))\n",
    "print(\"Pos-to-neg ratio for 'terrible' = {}\".format(pos_neg_ratios[\"terrible\"]))"
   ]
  },
  {
   "cell_type": "markdown",
   "metadata": {},
   "source": [
    "If everything worked, now you should see neutral words with values close to zero. In this case, \"the\" is near zero but slightly positive, so it was probably used in more positive reviews than negative reviews. But look at \"amazing\"'s ratio - it's above `1`, showing it is clearly a word with positive sentiment. And \"terrible\" has a similar score, but in the opposite direction, so it's below `-1`. It's now clear that both of these words are associated with specific, opposing sentiments.\n",
    "\n",
    "Now run the following cells to see more ratios. \n",
    "\n",
    "The first cell displays all the words, ordered by how associated they are with postive reviews. (Your notebook will most likely truncate the output so you won't actually see *all* the words in the list.)\n",
    "\n",
    "The second cell displays the 30 words most associated with negative reviews by reversing the order of the first list and then looking at the first 30 words. (If you want the second cell to display all the words, ordered by how associated they are with negative reviews, you could just write `reversed(pos_neg_ratios.most_common())`.)\n",
    "\n",
    "You should continue to see values similar to the earlier ones we checked – neutral words will be close to `0`, words will get more positive as their ratios approach and go above `1`, and words will get more negative as their ratios approach and go below `-1`. That's why we decided to use the logs instead of the raw ratios."
   ]
  },
  {
   "cell_type": "code",
   "execution_count": 54,
   "metadata": {
    "collapsed": true
   },
   "outputs": [
    {
     "data": {
      "text/plain": "[('edie', 5.384495062789089),\n ('paulie', 4.3652195163575005),\n ('felix', 3.258096538021482),\n ('polanski', 2.9103724246028344),\n ('matthau', 2.8638801424491884),\n ('victoria', 2.714923080389972),\n ('mildred', 2.667228206581955),\n ('gandhi', 2.596132284898225),\n ('flawless', 2.5022983924998696),\n ('superbly', 2.302585092994046),\n ('perfection', 2.1933858010290535),\n ('astaire', 2.1764338076671454),\n ('voight', 2.0693912058263346),\n ('captures', 2.0588222544771004),\n ('wonderfully', 2.035141282783256),\n ('powell', 1.9977635106655687),\n ('brosnan', 1.9865477947871395),\n ('lily', 1.9502298101998297),\n ('bakshi', 1.9328380674879606),\n ('lincoln', 1.9234372932032546),\n ('lemmon', 1.8797282421740122),\n ('refreshing', 1.8731998011682294),\n ('breathtaking', 1.870091312497962),\n ('bourne', 1.8672670217362002),\n ('flynn', 1.8237622003142289),\n ('delightful', 1.8131735637318716),\n ('homer', 1.8031881650516777),\n ('andrews', 1.7994815153219654),\n ('soccer', 1.791759469228055),\n ('beautifully', 1.7705385137451697),\n ('elvira', 1.761682013990777),\n ('gripping', 1.7385149547092427),\n ('underrated', 1.7337722115777057),\n ('superb', 1.714017635547868),\n ('delight', 1.6916760106710724),\n ('sadness', 1.6916760106710724),\n ('welles', 1.6802856027649362),\n ('timeless', 1.65455834771457),\n ('sinatra', 1.651575496882505),\n ('macy', 1.6509869153469727),\n ('touching', 1.6442846437642686),\n ('hartley', 1.6392908755837814),\n ('unforgettable', 1.6387901244466276),\n ('favorites', 1.6321293236361711),\n ('extraordinary', 1.6268296551459696),\n ('sullivan', 1.6251862694022394),\n ('stewart', 1.6184296236260645),\n ('brilliantly', 1.6070253660287164),\n ('palma', 1.5820389382459858),\n ('friendship', 1.5780217162007213),\n ('wonderful', 1.5662862721310362),\n ('ritter', 1.5614984501449811),\n ('magnificent', 1.5575660817272603),\n ('finest', 1.556515510979758),\n ('jackie', 1.556193397915288),\n ('tremendous', 1.540445040947149),\n ('freedom', 1.5205438866298542),\n ('pleasantly', 1.5114575040738967),\n ('mann', 1.5114575040738967),\n ('sidney', 1.5091924974430444),\n ('terrific', 1.5090191646870532),\n ('fantastic', 1.5082976217239443),\n ('noir', 1.5004397063334498),\n ('nancy', 1.5000532464765486),\n ('outstanding', 1.4975199962301151),\n ('marie', 1.4932664806720584),\n ('marvelous', 1.4908070598553773),\n ('ruth', 1.4816045409242156),\n ('excellent', 1.4660400243831038),\n ('stanwyck', 1.4574706395877857),\n ('widmark', 1.4518916436057039),\n ('splendid', 1.448169764837978),\n ('exceptional', 1.4375876555074412),\n ('tender', 1.436304781694552),\n ('chan', 1.4356871164494671),\n ('gentle', 1.4297794730596296),\n ('poignant', 1.418555223338112),\n ('captivating', 1.4073477703177228),\n ('fisher', 1.4057124469769922),\n ('davies', 1.4057124469769922),\n ('chilling', 1.4011094469050314),\n ('gem', 1.4001834732805578),\n ('amazing', 1.3938845303865663),\n ('darker', 1.3862943611198906),\n ('april', 1.3740242685280764),\n ('blake', 1.363821505267832),\n ('kelly', 1.3518081850487214),\n ('overlooked', 1.3478280802920946),\n ('ralph', 1.3444472511843901),\n ('bette', 1.3309442660367257),\n ('cole', 1.330204894468847),\n ('hoffman', 1.327645634038383),\n ('shines', 1.3206970786340775),\n ('notch', 1.3067417294179369),\n ('winters', 1.3053252985862236),\n ('powerful', 1.3037327604268703),\n ('pitt', 1.2981870936096238),\n ('vivid', 1.2973468751033945),\n ('remarkable', 1.2958594956787401),\n ('giallo', 1.2939210409888755),\n ('gritty', 1.287448526483258),\n ('psychiatrist', 1.2872034584756598),\n ('portrait', 1.286210902562908),\n ('innocence', 1.2842451067657203),\n ('ensemble', 1.2809338454620642),\n ('garbo', 1.2809338454620642),\n ('holly', 1.2738163776932003),\n ('burns', 1.2724592184710921),\n ('panic', 1.2721810543524696),\n ('favorite', 1.2687423523791703),\n ('stunning', 1.2678127574993672),\n ('barbara', 1.2673424182585253),\n ('philip', 1.266749210470108),\n ('carol', 1.2644045435108537),\n ('appreciated', 1.257676983297797),\n ('rural', 1.2556741787028265),\n ('builds', 1.2499579175677593),\n ('brooklyn', 1.2497188261141399),\n ('perfect', 1.2481440226390734),\n ('favourite', 1.2478920382607714),\n ('journey', 1.2418259291054736),\n ('bond', 1.238658362313826),\n ('unfolds', 1.2374487335223254),\n ('von', 1.2371512030232548),\n ('brilliant', 1.230602136359643),\n ('recommended', 1.2208696047194143),\n ('daniel', 1.2112854511722224),\n ('crafted', 1.2091541630679337),\n ('troubled', 1.2069534324640738),\n ('q', 1.206220978631991),\n ('z', 1.2046627224709148),\n ('consequences', 1.2039728043259361),\n ('prince', 1.2010909579510471),\n ('perfectly', 1.2005772153247978),\n ('alexander', 1.193390694995399),\n ('f', 1.191221654381746),\n ('haunting', 1.190802341136191),\n ('boxing', 1.1903207151576087),\n ('cinderella', 1.1891851041715567),\n ('emotions', 1.1807545142239289),\n ('curtis', 1.179802443398123),\n ('subtle', 1.178279691401981),\n ('r', 1.1670306755306232),\n ('daughters', 1.164655700985101),\n ('j', 1.1643115861723963),\n ('l', 1.1622528525527878),\n ('c', 1.1619993134494528),\n ('rare', 1.1613719774362405),\n ('courage', 1.1578551222309705),\n ('loved', 1.1578292081103647),\n ('dentist', 1.1562779305179187),\n ('nominated', 1.1502170610211127),\n ('draws', 1.1499055830556602),\n ('n', 1.149674464409814),\n ('e', 1.1439323987840049),\n ('highly', 1.1438210436660137),\n ('tony', 1.1436939725196156),\n ('everyday', 1.142885112346098),\n ('x', 1.140764618185491),\n ('m', 1.1405362156902337),\n ('cried', 1.138732282457535),\n ('contrast', 1.1375977353810633),\n ('fay', 1.1373983137032662),\n ('y', 1.1337294075598283),\n ('fabulous', 1.132513840343791),\n ('ned', 1.1317644959850102),\n ('emma', 1.128465251817791),\n ('h', 1.1252088309194284),\n ('smooth', 1.1247234326717954),\n ('sensitive', 1.1244917366559304),\n ('dramas', 1.122479770074753),\n ('v', 1.1196210020285147),\n ('g', 1.1189780328353829),\n ('p', 1.1162564959009258),\n ('d', 1.1156012973812546),\n ('inspiring', 1.1134273744532504),\n ('helps', 1.107880195598891),\n ('today', 1.1066573843529413),\n ('stellar', 1.1051269696893034),\n ('s', 1.1038554735148245),\n ('w', 1.1035536883513477),\n ('o', 1.1034866732344288),\n ('jimmy', 1.1010424235214014),\n (' ', 1.0999208597360797),\n ('awesome', 1.0972396048561375),\n ('u', 1.0962373183523115),\n ('rival', 1.0944885714842476),\n ('depression', 1.093470889167691),\n ('shy', 1.0933072364384164),\n ('carrie', 1.0929465511324323),\n ('tragic', 1.0928816139591246),\n ('intense', 1.092815170983784),\n ('blend', 1.0927471692157116),\n ('hank', 1.092303119474845),\n ('diana', 1.0920548881219507),\n ('adorable', 1.0920548881219507),\n ('unique', 1.091270881809742),\n ('provides', 1.085341951747213),\n ('t', 1.0837987419291082),\n ('i', 1.0827801767077807),\n ('achievement', 1.0826119473216687),\n ('unexpected', 1.0800687109559406),\n ('glorious', 1.0795640936974151),\n ('bettie', 1.0783276174966039),\n ('happiness', 1.0737442220900963),\n ('ideal', 1.0666606888615073),\n ('a', 1.066351763546711),\n ('terrifying', 1.0661268335236214),\n ('b', 1.0621249910535675),\n ('fears', 1.062054692934312),\n ('davis', 1.0596101308648405),\n ('hong', 1.053854388026616),\n ('beauty', 1.0533556970799889),\n ('seasons', 1.0514468202256797),\n ('definite', 1.0481814350412177),\n ('k', 1.0473671620605307),\n ('fascinating', 1.0463678896305901),\n ('carries', 1.04628646966637),\n ('satisfying', 1.0409331770814316),\n ('touched', 1.0407927177792835),\n ('aunt', 1.0343179379627125),\n ('creates', 1.031831807464099),\n ('walter', 1.0308396735863876),\n ('enterprise', 1.0296194171811581),\n ('greatest', 1.0274360102002147),\n ('spectacular', 1.0274360102002147),\n ('portrayal', 1.0226915983726381),\n ('musicals', 1.0203600917683615),\n ('ann', 1.0192955338395222),\n ('mature', 1.016276002007474),\n ('deeply', 1.0153154290828954),\n ('triumph', 1.0130901152299476),\n ('margaret', 1.0130901152299476),\n ('incredible', 1.0094845087721023),\n ('navy', 1.0063625550168909),\n ('lucas', 1.0033021088637848),\n ('joey', 1.0023354582326898),\n ('balance', 0.9979236863710262),\n ('harry', 0.9957772144475994),\n ('carrey', 0.9948154949864662),\n ('widow', 0.993901334579079),\n ('guilt', 0.9937326578476341),\n ('glover', 0.9937326578476341),\n ('warm', 0.9929506135440711),\n ('sweet', 0.9928921254610014),\n ('brazil', 0.9926637106587292),\n ('ages', 0.9918790891983111),\n ('essence', 0.9907795838648943),\n ('sons', 0.9900459081166503),\n ('awe', 0.9898790885316442),\n ('oscar', 0.9893580893592466),\n ('learns', 0.9869082990881085),\n ('sport', 0.9850575891212473),\n ('eerie', 0.9840707469358971),\n ('unusual', 0.9837834649091577),\n ('holmes', 0.9836343039393348),\n ('complex', 0.981901639173479),\n ('destiny', 0.9808292530117262),\n ('solid', 0.9790094162947403),\n ('lonely', 0.9783991181584345),\n ('grim', 0.9783991181584345),\n ('vhs', 0.9775982324302798),\n ('thrillers', 0.9747869385557637),\n ('beautiful', 0.9741008844830417),\n ('ginger', 0.9723185633438176),\n ('debut', 0.9720495653596803),\n ('cox', 0.9670359308793903),\n ('tears', 0.9653468888633492),\n ('stanley', 0.9645687321399459),\n ('hooked', 0.964462275547521),\n ('comfortable', 0.9642999510605156),\n ('rose', 0.964022134695345),\n ('feelings', 0.9600672615632971),\n ('winning', 0.959886079166483),\n ('paris', 0.9572193873725925),\n ('heart', 0.9537403344951817),\n ('mgm', 0.9534302788236119),\n ('perry', 0.9476770456948257),\n ('mysteries', 0.9463430769405569),\n ('hal', 0.9463430769405569),\n ('themes', 0.9453988160322258),\n ('danny', 0.9450620291530951),\n ('masterpiece', 0.9444616088408515),\n ('lovable', 0.9430889250288792),\n ('anime', 0.9411639966192947),\n ('joy', 0.9390598401354312),\n ('louis', 0.9365564293337381),\n ('lifestyle', 0.9330978501905363),\n ('urban', 0.9329732318340911),\n ('gradually', 0.9311058176592958),\n ('charming', 0.9289444176427145),\n ('allows', 0.9287995815658638),\n ('italy', 0.9277194276977778),\n ('kennedy', 0.926078738240318),\n ('subsequent', 0.9249487946172696),\n ('impact', 0.9228419953613768),\n ('spy', 0.9214058325409255),\n ('winter', 0.9188191782275138),\n ('treat', 0.9173830312727641),\n ('loving', 0.9151851485664054),\n ('surprising', 0.9151339937463314),\n ('reveals', 0.9143841536035735),\n ('raw', 0.9143085706701638),\n ('pleased', 0.9135472459284043),\n ('norman', 0.9135472459284043),\n ('secrets', 0.913209065336747),\n ('highest', 0.9130066566729652),\n ('quiet', 0.9126029587949702),\n ('thief', 0.9096754927554359),\n ('colorful', 0.9090355609929832),\n ('danes', 0.9072951689655772),\n ('funniest', 0.9056058317741387),\n ('kudos', 0.9024974097418192),\n ('bleak', 0.9016919324530023),\n ('todd', 0.9007865453381899),\n ('season', 0.900506864172893),\n ('compelling', 0.8991035154878968),\n ('subtitles', 0.8962718649836631),\n ('baseball', 0.8952713646500796),\n ('castle', 0.8947403853126118),\n ('winner', 0.8938178760220965),\n ('tragedy', 0.8903651319790986),\n ('great', 0.8882940491647903),\n ('fonda', 0.8882077631313297),\n ('nicely', 0.8849474813084438),\n ('essential', 0.8842024173226545),\n ('eastwood', 0.8836655045580785),\n ('focuses', 0.8801307504597112),\n ('arthur', 0.8800245538897606),\n ('intensity', 0.8790465587017839),\n ('gorgeous', 0.8777702343421792),\n ('worlds', 0.8754687373538999),\n ('witty', 0.8744330044803678),\n ('natural', 0.873635556272239),\n ('health', 0.8734090043908893),\n ('enjoyed', 0.8720615790322855),\n ('rob', 0.8709844249065714),\n ('magical', 0.8681959780248202),\n ('deeper', 0.8675005677047231),\n ('lucy', 0.866658107671745),\n ('purple', 0.865759923226939),\n ('sings', 0.8584711609853288),\n ('moving', 0.857628819225569),\n ('craig', 0.857035035665062),\n ('modesty', 0.857035035665062),\n ('lovely', 0.8568511783378296),\n ('memorable', 0.8505150213389792),\n ('relate', 0.8503327640823577),\n ('tear', 0.8490175512667303),\n ('disagree', 0.8454879051419641),\n ('episodes', 0.8440054678981148),\n ('strong', 0.8431830738559312),\n ('smith', 0.8429594587886053),\n ('princess', 0.8412773726056207),\n ('hart', 0.8404718953168039),\n ('kung', 0.8385130308314708),\n ('apartment', 0.8381973425566682),\n ('dave', 0.8371865507828831),\n ('jake', 0.836935073351657),\n ('adventure', 0.8347366345142304),\n ('columbo', 0.8346467428336447),\n ('forbidden', 0.8335045382548677),\n ('realizes', 0.8318305680938959),\n ('strength', 0.830864431117146),\n ('adds', 0.829722715565696),\n ('manager', 0.8279664033688966),\n ('tight', 0.8278040657062025),\n ('childhood', 0.8266785731844679),\n ('dancer', 0.8266785731844679),\n ('surreal', 0.8256938365219284),\n ('explicit', 0.8215283472081522),\n ('miike', 0.8204866029365468),\n ('studios', 0.8198988861990891),\n ('con', 0.8198988861990891),\n ('carl', 0.8191879014553103),\n ('kurt', 0.8170166622727311),\n ('abc', 0.8152498773608452),\n ('dances', 0.8126923312097281),\n ('eyre', 0.8124939381925116),\n ('touches', 0.8118047243612613),\n ('traditional', 0.8116287841804688),\n ('deals', 0.8116287841804688),\n ('holds', 0.8103294351829385),\n ('realistic', 0.8102161854826718),\n ('sides', 0.8097840842857061),\n ('develops', 0.8096809968158969),\n ('gene', 0.808978996085067),\n ('albert', 0.8088831325946039),\n ('oscars', 0.8072604873273663),\n ('importance', 0.8069060659166033),\n ('waters', 0.8059426747052896),\n ('legendary', 0.8043728156701697),\n ('cry', 0.8041597096491182),\n ('empire', 0.8036890549597692),\n ('hearted', 0.8020983643485001),\n ('portraying', 0.800633095530085),\n ('styles', 0.7999151559856514),\n ('daring', 0.7999151559856514),\n ('backgrounds', 0.7985076962177716),\n ('matches', 0.7985076962177716),\n ('environment', 0.7975898439275427),\n ('sentimental', 0.7974081908843548),\n ('impressed', 0.7971368940839929),\n ('gothic', 0.7937907063396328),\n ('edge', 0.7934037842995957),\n ('tense', 0.7932306391169279),\n ('jean', 0.793013176900131),\n ('captured', 0.7923538306433934),\n ('achieved', 0.7915872533731978),\n ('sharp', 0.7891618337995339),\n ('court', 0.7877057631849579),\n ('steals', 0.786404674046528),\n ('frank', 0.7862376036259573),\n ('rules', 0.7853176403596024),\n ('colors', 0.7848143690857692),\n ('reunion', 0.7836611881007772),\n ('covers', 0.7830954172228849),\n ('blob', 0.780158557549575),\n ('denzel', 0.7792217893311882),\n ('stays', 0.7765287894989963),\n ('conventional', 0.7765287894989963),\n ('rain', 0.7762137792585588),\n ('landscape', 0.7721355918785757),\n ('tale', 0.7721102243667467),\n ('maria', 0.7711087220296572),\n ('midnight', 0.7697804065808612),\n ('immensely', 0.7672551527136672),\n ('spring', 0.7663505845832402),\n ('cagney', 0.7663505845832402),\n ('fresh', 0.7657597135236546),\n ('titanic', 0.7648910854187866),\n ('sunday', 0.7648910854187866),\n ('animated', 0.7607206053926704),\n ('sir', 0.7592869830644903),\n ('nevertheless', 0.7572717087294839),\n ('nowadays', 0.7565167944925345),\n ('driven', 0.7564594599742722),\n ('enjoyable', 0.7543173263656877),\n ('leslie', 0.7543016037132759),\n ('memories', 0.7527854468796765),\n ('golden', 0.7513031007170193),\n ('packed', 0.750855498180592),\n ('lovers', 0.750305594399894),\n ('che', 0.7498999971523947),\n ('performances', 0.7496875914803649),\n ('influenced', 0.7495001171110771),\n ('florida', 0.7495001171110771),\n ('strikes', 0.7490276389544019),\n ('simple', 0.7479351225821393),\n ('secretary', 0.7478055930978093),\n ('provoking', 0.7477061648103797),\n ('relationship', 0.7464513342617185),\n ('trek', 0.7462570058738937),\n ('depiction', 0.7457909140453672),\n ('supporting', 0.745303660154307),\n ('elderly', 0.7437909133787003),\n ('germany', 0.7396671961948382),\n ('emotional', 0.7391322938017687),\n ('lewis', 0.7368699915737769),\n ('bears', 0.7361645656436362),\n ('brings', 0.733871370786514),\n ('owner', 0.7332671743493707),\n ('china', 0.7329930891071451),\n ('bugs', 0.7327563186549911),\n ('portrays', 0.7326259915337328),\n ('streets', 0.7323678937132266),\n ('anger', 0.7323678937132266),\n ('verhoeven', 0.7313683933801429),\n ('henry', 0.7301884522402944),\n ('available', 0.728102195593522),\n ('society', 0.7265951146274854),\n ('endearing', 0.7255824563130993),\n ('donald', 0.7246458476193163),\n ('best', 0.7237090325736115),\n ('delivers', 0.722747650336236),\n ('march', 0.7225610657662387),\n ('greatly', 0.7224175628600585),\n ('magic', 0.7220416465596603),\n ('jim', 0.7209696861592445),\n ('brad', 0.7188996766623601),\n ('relationships', 0.7181484827653625),\n ('ken', 0.7175386336841045),\n ('effectively', 0.7172447321390059),\n ('sophisticated', 0.7164040427242125),\n ('simon', 0.7152475275606113),\n ('influence', 0.7145003050305143),\n ('charlie', 0.713695848787333),\n ('andrew', 0.7135560521911524),\n ('emotionally', 0.7118393135720978),\n ('identity', 0.710742942450325),\n ('dan', 0.710339581100318),\n ('india', 0.709814233045157),\n ('genius', 0.7097313085754806),\n ('atmosphere', 0.7095074636651522),\n ('affected', 0.706392407309966),\n ('beatty', 0.706392407309966),\n ('roy', 0.7063052651374565),\n ('britain', 0.7031975164134469),\n ('surprisingly', 0.7028090914716822),\n ('patient', 0.702625924514489),\n ('stylish', 0.702625924514489),\n ('sky', 0.7024930429781829),\n ('bitter', 0.7022796641232177),\n ('wave', 0.7018052433030598),\n ('cowboy', 0.7002143477830377),\n ('romantic', 0.6984057378134123),\n ('match', 0.6981976963460139),\n ('meets', 0.6953620208894982),\n ('andy', 0.6931471805599453),\n ('patrick', 0.6931471805599453),\n ('brooks', 0.6931471805599453),\n ('refuses', 0.6931471805599453),\n ('complaint', 0.6931471805599453),\n ('dawson', 0.6931471805599453),\n ('wells', 0.6931471805599453),\n ('directs', 0.6931471805599453),\n ('rebel', 0.6931471805599453),\n ('love', 0.6922175964818506),\n ('paul', 0.6914763363951277),\n ('performance', 0.6884899923234403),\n ('unlike', 0.6880189641930259),\n ('luke', 0.6873500628756194),\n ('france', 0.6867573824611743),\n ('sports', 0.6865897800137862),\n ('handsome', 0.6865897800137862),\n ('award', 0.6860042930475652),\n ('ride', 0.6859007720391781),\n ('greater', 0.6845634368685539),\n ('interpretation', 0.6839305254550213),\n ('brando', 0.6837574402101063),\n ('noble', 0.6833910056145807),\n ('le', 0.681847625306012),\n ('sunshine', 0.6804081547825156),\n ('dreams', 0.6794012596553102),\n ('effective', 0.6785483811387927),\n ('relations', 0.6785483811387927),\n ('paced', 0.6781093031954047),\n ('rings', 0.6770177986300616),\n ('works', 0.6756131252684204),\n ('succeeds', 0.6752895631599388),\n ('master', 0.6734096977216238),\n ('', 0.6733701289764433),\n ('glimpse', 0.6731465138532757),\n ('aired', 0.6727383089287382),\n ('imaginative', 0.6718697821126605),\n ('tricks', 0.6714071939235394),\n ('striking', 0.6714071939235394),\n ('carefully', 0.6709240437752351),\n ('easy', 0.6707998818679487),\n ('city', 0.6694405182589582),\n ('england', 0.668696084695781),\n ('complicated', 0.6680412594288689),\n ('demands', 0.6668298722425718),\n ('lion', 0.6662397276400209),\n ('trilogy', 0.6655592240411162),\n ('sees', 0.6653676164528696),\n ('perspective', 0.6651341443322712),\n ('instant', 0.6645738081158893),\n ('appreciate', 0.663733295353652),\n ('ruthless', 0.663733295353652),\n ('saga', 0.663733295353652),\n ('definitely', 0.6629276949989547),\n ('both', 0.6629148671411508),\n ('victor', 0.6615988228250194),\n ('douglas', 0.6600472321336005),\n ('future', 0.6599766436214594),\n ('inspired', 0.6588090429790537),\n ('marriage', 0.6574290979578661),\n ('distant', 0.657215171333882),\n ('accomplished', 0.657215171333882),\n ('workers', 0.6571072440767484),\n ('manhattan', 0.656333207437229),\n ('pushing', 0.6554068525770982),\n ('page', 0.6549746070549156),\n ('joseph', 0.6546808997321493),\n ('joan', 0.6537332120190686),\n ('father', 0.6524112112451285),\n ('eccentric', 0.6523251860396901),\n ('era', 0.651929224838714),\n ('divorce', 0.6511829814609131),\n ('colonel', 0.6511829814609131),\n ('hudson', 0.6510356952098184),\n ('fantasy', 0.6495122446630756),\n ('meeting', 0.64925298700272),\n ('individual', 0.64925298700272),\n ('brave', 0.6490223756510074),\n ('pleasant', 0.6486954179891115),\n ('seeking', 0.6470560733596783),\n ('friendly', 0.6469851387967828),\n ('personal', 0.6458570455184882),\n ('awards', 0.6446528306213348),\n ('progress', 0.6437544252303689),\n ('william', 0.6432615260490764),\n ('larger', 0.6413221126953593),\n ('concert', 0.6413221126953593),\n ('ted', 0.6407007051874027),\n ('jack', 0.6399517229225969),\n ('keeping', 0.6393707837791411),\n ('nation', 0.6373558209315298),\n ('jane', 0.636634970296603),\n ('albeit', 0.6365282865604374),\n ('adapted', 0.6354388629392986),\n ('griffith', 0.6351599229095959),\n ('gives', 0.6347501764003667),\n ('animation', 0.6338306034035258),\n ('emily', 0.6325225587435105),\n ('mouse', 0.6314536115546054),\n ('discovers', 0.6313991734914982),\n ('profound', 0.6292957085734125),\n ('segment', 0.6289852363426595),\n ('morgan', 0.6282595583540704),\n ('recognized', 0.6277644212970935),\n ('ultimate', 0.6274519212945504),\n ('drew', 0.6266574392911123),\n ('artist', 0.6260078777223167),\n ('classic', 0.6258335705927139),\n ('families', 0.6250093753927273),\n ('impressive', 0.6249726397242258),\n ('contract', 0.6249389305334118),\n ('criticism', 0.6247444536755448),\n ('moved', 0.6241543090729939),\n ('sexuality', 0.6241543090729939),\n ('versions', 0.6229429218866968),\n ('innocent', 0.6219427342681537),\n ('eddie', 0.6215175244206905),\n ('determined', 0.6210438866586013),\n ('peoples', 0.6201220455450555),\n ('remembered', 0.6186141286973784),\n ('fashioned', 0.6182458723868276),\n ('nature', 0.6179551974599651),\n ('brian', 0.6174808474862077),\n ('washington', 0.6170234850871447),\n ('charismatic', 0.6166071034376109),\n ('pleasure', 0.6165547350785615),\n ('offers', 0.616186139423817),\n ('tap', 0.616186139423817),\n ('melodrama', 0.6149824077106091),\n ('games', 0.6148463301461875),\n ('images', 0.6146139071352631),\n ('trio', 0.614158769241315),\n ('rough', 0.6137404029555348),\n ('academy', 0.61350311750002),\n ('shine', 0.6120216357475768),\n ('brady', 0.6120216357475768),\n ('ward', 0.6112300580920587),\n ('dealing', 0.6104554647148319),\n ('satisfied', 0.6097655716208943),\n ('figures', 0.6081539677265527),\n ('russell', 0.6079893722196384),\n ('fine', 0.6060385698690381),\n ('bound', 0.6025502852077187),\n ('river', 0.6012458182761238),\n ('brown', 0.6009409866932116),\n ('cook', 0.6004883500772404),\n ('hall', 0.5997460054715446),\n ('claire', 0.5994616964826223),\n ('job', 0.5990746246759704),\n ('believable', 0.5976389613451307),\n ('morality', 0.5966869143723831),\n ('falk', 0.5966869143723831),\n ('broadway', 0.5961013914104745),\n ('always', 0.5951412297417894),\n ('stood', 0.5936175852129123),\n ('anna', 0.5933577099515744),\n ('peace', 0.5930637220029628),\n ('kubrick', 0.5913644862500029),\n ('visually', 0.5907851678983755),\n ('experiences', 0.5901149546617102),\n ('growing', 0.5893503868783018),\n ('expressions', 0.5887871652357025),\n ('struggles', 0.5887871652357025),\n ('timing', 0.588704517192348),\n ('authentic', 0.5868525219103221),\n ('helen', 0.5867667770013736),\n ('clint', 0.5863792051342392),\n ('touch', 0.5841747745857168),\n ('quirky', 0.5833323145527387),\n ('lives', 0.582098177084906),\n ('mexico', 0.581921545449721),\n ('pre', 0.58140314212033),\n ('timothy', 0.58122926435596),\n ('inner', 0.5811421221834504),\n ('personalities', 0.5808798786888641),\n ('streep', 0.5803516864146009),\n ('sisters', 0.57955000283624),\n ('overcome', 0.5787368293822011),\n ('surprises', 0.5779119169823606),\n ('adventures', 0.5779119169823606),\n ('civil', 0.577836334048951),\n ('tales', 0.5774627815604831),\n ('realism', 0.5772280783416246),\n ('australia', 0.576736828715534),\n ('countries', 0.5765102768341844),\n ('young', 0.5756961580922783),\n ('tradition', 0.5753641449035618),\n ('french', 0.5738251757089743),\n ('oliver', 0.5730028687178821),\n ('rogers', 0.5723107074166716),\n ('wealth', 0.5721945701422827),\n ('overwhelming', 0.5721945701422827),\n ('odds', 0.5721945701422827),\n ('suspenseful', 0.5708576028016711),\n ('variety', 0.5708576028016711),\n ('understanding', 0.5703263508736047),\n ('performing', 0.5700870878027181),\n ('players', 0.5699145401359972),\n ('war', 0.5691072546172105),\n ('survival', 0.5688494638823681),\n ('knowing', 0.5679840376059393),\n ('reminiscent', 0.5674589653964486),\n ('branagh', 0.5669958952330453),\n ('jr', 0.56676563964833),\n ('psychological', 0.5662554287053215),\n ('kirk', 0.5647660139117384),\n ('grand', 0.5640900683303438),\n ('true', 0.563405744886965),\n ('howard', 0.5633879538568461),\n ('sent', 0.5630940523117475),\n ('mainstream', 0.5625269981428811),\n ('grow', 0.5622416100130903),\n ('generation', 0.5621189181535412),\n ('brothers', 0.561377902928822),\n ('dick', 0.5589511152622317),\n ('david', 0.5582726043889551),\n ('disc', 0.5579724021916928),\n ('bug', 0.5579724021916928),\n ('gangster', 0.5573456394008836),\n ('tend', 0.5568823010397622),\n ('jeff', 0.5563488787900743),\n ('charm', 0.5562431034567835),\n ('sutherland', 0.5559460590464603),\n ('twists', 0.5555771914657378),\n ('tribute', 0.5553634781968924),\n ('sacrifice', 0.5549968420791281),\n ('thanks', 0.5533852381847866),\n ('hearts', 0.5523746266788632),\n ('family', 0.551589521767407),\n ('europe', 0.5514966634969185),\n ('greek', 0.5509726917794027),\n ('hamilton', 0.5509726917794027),\n ('pulls', 0.550046336919272),\n ('redemption', 0.550046336919272),\n ('describes', 0.550046336919272),\n ('madness', 0.5487526756780517),\n ('documentaries', 0.5483162326814893),\n ('jealous', 0.5483162326814893),\n ('trial', 0.5479651707154475),\n ('world', 0.5477982824578742),\n ('superior', 0.547692207700241),\n ('color', 0.5474353693785516),\n ('mountains', 0.5471932679368655),\n ('life', 0.5471609268382356),\n ('jackson', 0.5463323122229005),\n ('brilliance', 0.5459895362236576),\n ('faithful', 0.5453376760711344),\n ('shorts', 0.5450940806008056),\n ('york', 0.5448616201850851),\n ('providing', 0.5447271754416719),\n ('explore', 0.5447271754416719),\n ('dealt', 0.5439347823732695),\n ('olivier', 0.5432070332690305),\n ('roman', 0.5432070332690305),\n ('received', 0.5424447800116029),\n ('stands', 0.5424036590543013),\n ('enjoy', 0.5419927576559215),\n ('heroic', 0.5409553652180199),\n ('each', 0.5393471318723242),\n ('ironically', 0.5389965007326869),\n ('temple', 0.5389965007326869),\n ('revolution', 0.537796740540783),\n ('share', 0.5377657313465543),\n ('different', 0.5376675968826332),\n ('gift', 0.5372768098531604),\n ('fellow', 0.5359615970375329),\n ('loves', 0.533967152327685),\n ('julie', 0.5338151419906894),\n ('union', 0.5337194436318432),\n ('series', 0.5329765705361141),\n ('jazz', 0.532804530484766),\n ('century', 0.5325821105550234),\n ('approach', 0.5316971982510755),\n ('musical', 0.5310283310835101),\n ('moves', 0.5304785616673845),\n ('radio', 0.5286748529246338),\n ('pays', 0.5283919474838898),\n ('uncle', 0.5275524175713042),\n ('dennis', 0.5274800586711279),\n ('symbolism', 0.5271620430856842),\n ('ourselves', 0.5269117615176151),\n ('reminds', 0.5260930958967791),\n ('performed', 0.5260930958967791),\n ('demons', 0.5260930958967791),\n ('wwii', 0.5260930958967791),\n ('tells', 0.5256766316719772),\n ('deep', 0.5251554493208156),\n ('appearances', 0.5243263109848932),\n ('jeremy', 0.5243263109848932),\n ('discovered', 0.5238063352387118),\n ('eric', 0.5238063352387118),\n ('countryside', 0.5237290286018985),\n ('youth', 0.523428795919316),\n ('epic', 0.5234044059728509),\n ('famous', 0.522926030700078),\n ('aging', 0.5228018148127065),\n ('tarzan', 0.5227359798609067),\n ('arrives', 0.5223294482474753),\n ('adult', 0.5217889285632602),\n ('sympathetic', 0.5212969236332861),\n ('attitude', 0.5209437539315753),\n ('passion', 0.5207311527553937),\n ('desire', 0.5204705911251725),\n ('shows', 0.5197341109798898),\n ('carter', 0.5196362534481456),\n ('dirty', 0.519552374904228),\n ('fox', 0.519552374904228),\n ('com', 0.5193779055813079),\n ('human', 0.5193533905198657),\n ('lust', 0.5182057310636132),\n ('smile', 0.5172565140962812),\n ('provided', 0.5172565140962812),\n ('horrors', 0.5172565140962812),\n ('south', 0.517038577950709),\n ('fits', 0.5170175940139118),\n ('karloff', 0.5162164724008671),\n ('atmospheric', 0.5162164724008671),\n ('visit', 0.5158889257225374),\n ('daily', 0.5156918134171636),\n ('present', 0.5155865070281277),\n ('ring', 0.5151082855579916),\n ('proud', 0.5150719146474417),\n ('fun', 0.5148868447409628),\n ('alan', 0.5146206947345423),\n ('accurate', 0.5136385651426053),\n ('japan', 0.5135616035848655),\n ('duo', 0.5130210143294264),\n ('cameron', 0.5130210143294264),\n ('investigation', 0.5128853567290013),\n ('shining', 0.5128853567290013),\n ('hitchcock', 0.5120986984127889),\n ('begins', 0.5118301441919961),\n ('fu', 0.5117730421220306),\n ('success', 0.5112811008861403),\n ('finding', 0.5100818528131461),\n ('recently', 0.5094453612970322),\n ('individuals', 0.508718141426426),\n ('traveling', 0.5082248420659334),\n ('contemporary', 0.5070449009260847),\n ('frightening', 0.5067356385144656),\n ('position', 0.5063712734166104),\n ('genuine', 0.5056308068888866),\n ('stunts', 0.5050949490570057),\n ('among', 0.5050364027615059),\n ('viewing', 0.5047897453311512),\n ('differences', 0.5039051809214169),\n ('continues', 0.5036936526287192),\n ('possibility', 0.5033906452784727),\n ('league', 0.5032784181306077),\n ('helping', 0.5032784181306077),\n ('answers', 0.5032784181306077),\n ('finds', 0.5026806552720359),\n ('appropriate', 0.5024070533003948),\n ('brutal', 0.5011721920653481),\n ('battles', 0.501069448820626),\n ('age', 0.5005959639632954),\n ('plays', 0.5003581035381556),\n ('honor', 0.5000810844830135),\n ('brought', 0.4996321506932064),\n ('james', 0.4996105529458506),\n ('roles', 0.49958551977690047),\n ('tracy', 0.4995624314872799),\n ('depicted', 0.4994403015408654),\n ('hugh', 0.4989911661189878),\n ('hilarious', 0.4985051393779501),\n ('combination', 0.49817450621243187),\n ('desperation', 0.498086597988561),\n ('companion', 0.498086597988561),\n ('thoroughly', 0.49791241736281217),\n ('dance', 0.497594606506489),\n ('initially', 0.49740260343384995),\n ('guide', 0.4959791156489962),\n ('fully', 0.495224683323511),\n ('intrigue', 0.49381427793945404),\n ('warming', 0.49381427793945404),\n ('cuba', 0.49381427793945404),\n ('julia', 0.49247648509779424),\n ('san', 0.49247648509779424),\n ('planned', 0.49247648509779424),\n ('romance', 0.4920547221223308),\n ('shakespeare', 0.49198253596451086),\n ('singing', 0.49191373888148),\n ('crime', 0.4915098344666992),\n ('happy', 0.49126307678874315),\n ('strongly', 0.4905021507940765),\n ('detail', 0.48991893894667704),\n ('broadcast', 0.48991893894667704),\n ('nonetheless', 0.48980625654191523),\n ('especially', 0.4895314851347307),\n ('official', 0.488352767913932),\n ('primary', 0.488352767913932),\n ('humanity', 0.4872951263557966),\n ('necessary', 0.4870637519910439),\n ('trade', 0.4862264647526228),\n ('nine', 0.48613301117561913),\n ('settings', 0.48492927946241116),\n ('drama', 0.4831480592431589),\n ('cup', 0.48307571081308825),\n ('piano', 0.48307571081308825),\n ('grey', 0.4823241136337761),\n ('pictures', 0.48217706994683185),\n ('ordinary', 0.48212498977808044),\n ('discovery', 0.48117692984386073),\n ('vicious', 0.48117692984386073),\n ('sinister', 0.4799539600989037),\n ('mistaken', 0.4789991921543135),\n ('reveal', 0.47858737293712694),\n ('history', 0.47831054239340043),\n ('hatred', 0.47803580094299974),\n ('max', 0.47755083488111844),\n ('spirit', 0.47717211872434806),\n ('episode', 0.4760826753221178),\n ('dated', 0.4760826753221178),\n ('losing', 0.47590335137292383),\n ('bird', 0.4757343039547206),\n ('machines', 0.4757343039547206),\n ('role', 0.475611597040032),\n ('photographed', 0.4751450287461543),\n ('ways', 0.474854083379485),\n ('familiar', 0.474834556515401),\n ('crisis', 0.47426802803219315),\n ('challenge', 0.47393290738562516),\n ('genuinely', 0.47388210857430635),\n ('smaller', 0.4730852957831437),\n ('soviet', 0.47274711519148643),\n ('inevitable', 0.4724758183911247),\n ('techniques', 0.47000362924573563),\n ('francisco', 0.47000362924573563),\n ('dream', 0.4680447647604025),\n ('spielberg', 0.4679005790489568),\n ('cynical', 0.4679005790489568),\n ('tour', 0.4679005790489568),\n ('higher', 0.46775895939191164),\n ('critics', 0.46755764351747514),\n ('born', 0.46747518289237694),\n ('ryan', 0.4671092712193711),\n ('surfing', 0.46683405448445653),\n ('detective', 0.4664762887277672),\n ('african', 0.46618925717026477),\n ('remains', 0.4655690321778698),\n ('warner', 0.4645141369609641),\n ('deserved', 0.4644325841962802),\n ('information', 0.4641952876499886),\n ('lynch', 0.4641727089349423),\n ('defeat', 0.4639613147897729),\n ('struggle', 0.4630625998915008),\n ('.', 0.46262241661726816),\n ('breaking', 0.4615884323204511),\n ('language', 0.4614513474304184),\n ('visual', 0.4607012365834221),\n ('hidden', 0.46052488529119184),\n ('social', 0.4594156228369061),\n ('shadows', 0.4589537930591505),\n ('reality', 0.4584998047642509),\n ('treasure', 0.45718294081667415),\n ('sometimes', 0.4566878532699635),\n ('mixed', 0.45645940413797825),\n ('popular', 0.45644609768368244),\n ('modern', 0.45638847740132715),\n ('closely', 0.4561465945843094),\n ('segments', 0.4561465945843094),\n ('presents', 0.45592990203407363),\n ('surprised', 0.4550447895670128),\n ('follows', 0.45503426413757514),\n ('chief', 0.4545212650973586),\n ('justice', 0.4544994427097703),\n ('hamlet', 0.4543957315797446),\n ('keeps', 0.4543506966776879),\n ('web', 0.4530060528771645),\n ('represents', 0.4528673470027483),\n ('john', 0.45267319109494486),\n ('caine', 0.452556715642015),\n ('restaurant', 0.45100712855508046),\n ('oz', 0.45083371313801535),\n ('welcome', 0.4503506913443417),\n ('lose', 0.45029393443417265),\n ('birth', 0.4502010019495558),\n ('years', 0.4494761015916072),\n ('rap', 0.4491695423428936),\n ('chinese', 0.4488693171717619),\n ('caught', 0.44840955993790566),\n ('closer', 0.44802472252696035),\n ('searching', 0.44802472252696035),\n ('jon', 0.44764672214445905),\n ('fame', 0.44740379732849456),\n ('visuals', 0.446896054235586),\n ('controversial', 0.4466231806016719),\n ('puts', 0.44615241342355566),\n ('elizabeth', 0.4459950891937266),\n ('thrilling', 0.4453110166553641),\n ('bridge', 0.4453110166553641),\n ('criminal', 0.44518846012601154),\n ...]"
     },
     "execution_count": 54,
     "metadata": {},
     "output_type": "execute_result"
    }
   ],
   "source": [
    "# words most frequently seen in a review with a \"POSITIVE\" label\n",
    "pos_neg_ratios.most_common()"
   ]
  },
  {
   "cell_type": "code",
   "execution_count": 55,
   "metadata": {
    "collapsed": true
   },
   "outputs": [
    {
     "data": {
      "text/plain": "[('boll', -4.076388278665123),\n ('uwe', -3.9194396030831955),\n ('seagal', -3.31788134864365),\n ('unwatchable', -3.023158086534898),\n ('stinker', -2.9836231447642416),\n ('mst', -2.772938637680454),\n ('incoherent', -2.7609457389729286),\n ('unfunny', -2.5527880775662997),\n ('waste', -2.490427936954779),\n ('blah', -2.4451592049923065),\n ('horrid', -2.3674337397349707),\n ('pointless', -2.3441458135812723),\n ('atrocious', -2.3162514610431946),\n ('redeeming', -2.2652667164185862),\n ('prom', -2.2558281386067116),\n ('drivel', -2.2436572605401586),\n ('lousy', -2.2095445464835692),\n ('worst', -2.1929021445769186),\n ('laughable', -2.17128310171438),\n ('awful', -2.138213947323934),\n ('poorly', -2.131903294366665),\n ('wasting', -2.1144379793294084),\n ('remotely', -2.108360079726041),\n ('existent', -1.9992594708954894),\n ('boredom', -1.9204146460163511),\n ('miserably', -1.917415884505784),\n ('sucks', -1.9147834875998957),\n ('lame', -1.9110090970465483),\n ('uninspired', -1.9088630122895245),\n ('insult', -1.9060486156301826)]"
     },
     "execution_count": 55,
     "metadata": {},
     "output_type": "execute_result"
    }
   ],
   "source": [
    "# words most frequently seen in a review with a \"NEGATIVE\" label\n",
    "list(reversed(pos_neg_ratios.most_common()))[0:30]\n",
    "\n",
    "# Note: Above is the code Andrew uses in his solution video, \n",
    "#       so we've included it here to avoid confusion.\n",
    "#       If you explore the documentation for the Counter class, \n",
    "#       you will see you could also find the 30 least common\n",
    "#       words like this: pos_neg_ratios.most_common()[:-31:-1]"
   ]
  },
  {
   "cell_type": "markdown",
   "metadata": {},
   "source": [
    "# End of Project 1. \n",
    "## Watch the next video to see Andrew's solution, then continue on to the next lesson.\n",
    "\n",
    "# Transforming Text into Numbers<a id='lesson_3'></a>\n",
    "The cells here include code Andrew shows in the next video. We've included it so you can run the code along with the video without having to type in everything."
   ]
  },
  {
   "cell_type": "code",
   "execution_count": 56,
   "metadata": {
    "collapsed": true
   },
   "outputs": [
    {
     "data": {
      "image/png": "[encoded data removed]",
      "text/plain": "<IPython.core.display.Image object>"
     },
     "execution_count": 56,
     "metadata": {},
     "output_type": "execute_result"
    }
   ],
   "source": [
    "from IPython.display import Image\n",
    "\n",
    "review = \"This was a horrible, terrible movie.\"\n",
    "\n",
    "Image(filename='sentiment_network.png')"
   ]
  },
  {
   "cell_type": "code",
   "execution_count": 58,
   "metadata": {
    "collapsed": true
   },
   "outputs": [
    {
     "data": {
      "image/png": "[encoded data removed]",
      "text/plain": "<IPython.core.display.Image object>"
     },
     "execution_count": 58,
     "metadata": {},
     "output_type": "execute_result"
    }
   ],
   "source": [
    "review = \"The movie was excellent\"\n",
    "\n",
    "Image(filename='sentiment_network_pos.png')"
   ]
  },
  {
   "cell_type": "markdown",
   "metadata": {},
   "source": [
    "# Project 2: Creating the Input/Output Data<a id='project_2'></a>\n",
    "\n",
    "**TODO:** Create a [set](https://docs.python.org/3/tutorial/datastructures.html#sets) named `vocab` that contains every word in the vocabulary."
   ]
  },
  {
   "cell_type": "code",
   "execution_count": 94,
   "metadata": {
    "collapsed": true
   },
   "outputs": [],
   "source": [
    "# TODO: Create set named \"vocab\" containing all of the words from all of the reviews\n",
    "all_words = []\n",
    "for sentence in reviews:\n",
    "    all_words += sentence.split(' ')\n",
    "\n",
    "vocab = set(all_words)\n",
    "\n",
    "\"\"\"\n",
    "Alternative:\n",
    "vocab = len(total_counts.keys())\n",
    "\"\"\""
   ]
  },
  {
   "cell_type": "markdown",
   "metadata": {},
   "source": [
    "Run the following cell to check your vocabulary size. If everything worked correctly, it should print **74074**"
   ]
  },
  {
   "cell_type": "code",
   "execution_count": 95,
   "metadata": {
    "collapsed": true
   },
   "outputs": [
    {
     "name": "stdout",
     "output_type": "stream",
     "text": [
      "74074\n"
     ]
    }
   ],
   "source": [
    "vocab_size = len(vocab)\n",
    "print(vocab_size)"
   ]
  },
  {
   "cell_type": "markdown",
   "metadata": {},
   "source": [
    "Take a look at the following image. It represents the layers of the neural network you'll be building throughout this notebook. `layer_0` is the input layer, `layer_1` is a hidden layer, and `layer_2` is the output layer."
   ]
  },
  {
   "cell_type": "code",
   "execution_count": 1,
   "metadata": {},
   "outputs": [
    {
     "data": {
      "image/png": "[encoded data removed]",
      "text/plain": [
       "<IPython.core.display.Image object>"
      ]
     },
     "execution_count": 1,
     "metadata": {},
     "output_type": "execute_result"
    }
   ],
   "source": [
    "from IPython.display import Image\n",
    "Image(filename='sentiment_network_2.png')"
   ]
  },
  {
   "cell_type": "markdown",
   "metadata": {},
   "source": [
    "**TODO:** Create a numpy array called `layer_0` and initialize it to all zeros. You will find the [zeros](https://docs.scipy.org/doc/numpy/reference/generated/numpy.zeros.html) function particularly helpful here. Be sure you create `layer_0` as a 2-dimensional matrix with 1 row and `vocab_size` columns. "
   ]
  },
  {
   "cell_type": "code",
   "execution_count": 128,
   "metadata": {
    "collapsed": true
   },
   "outputs": [],
   "source": [
    "# TODO: Create layer_0 matrix with dimensions 1 by vocab_size, initially filled with zeros\n",
    "layer_0 = np.zeros((1, len(vocab)))"
   ]
  },
  {
   "cell_type": "markdown",
   "metadata": {},
   "source": [
    "Run the following cell. It should display `(1, 74074)`"
   ]
  },
  {
   "cell_type": "code",
   "execution_count": 129,
   "metadata": {
    "collapsed": true
   },
   "outputs": [
    {
     "data": {
      "text/plain": "(1, 74074)"
     },
     "execution_count": 129,
     "metadata": {},
     "output_type": "execute_result"
    }
   ],
   "source": [
    "layer_0.shape"
   ]
  },
  {
   "cell_type": "code",
   "execution_count": 130,
   "metadata": {
    "collapsed": true
   },
   "outputs": [
    {
     "data": {
      "image/png": "[encoded data removed]",
      "text/plain": "<IPython.core.display.Image object>"
     },
     "execution_count": 130,
     "metadata": {},
     "output_type": "execute_result"
    }
   ],
   "source": [
    "from IPython.display import Image\n",
    "Image(filename='sentiment_network.png')"
   ]
  },
  {
   "cell_type": "markdown",
   "metadata": {},
   "source": [
    "`layer_0` contains one entry for every word in the vocabulary, as shown in the above image. We need to make sure we know the index of each word, so run the following cell to create a lookup table that stores the index of every word."
   ]
  },
  {
   "cell_type": "code",
   "execution_count": 131,
   "metadata": {
    "collapsed": true
   },
   "outputs": [
    {
     "data": {
      "text/plain": "{'': 0,\n 'ugly': 1,\n 'liang': 2,\n 'jude': 3,\n 'laconically': 4,\n 'clocks': 5,\n 'calabrese': 6,\n 'maccay': 7,\n 'pegged': 8,\n 'downturn': 9,\n 'bungled': 10,\n 'grandad': 11,\n 'monologues': 12,\n 'mistreatment': 13,\n 'lowprice': 14,\n 'spookiest': 15,\n 'faced': 16,\n 'hallways': 17,\n 'affectedly': 18,\n 'drafts': 19,\n 'allan': 20,\n 'tebaldi': 21,\n 'centerstage': 22,\n 'ghostbusters': 23,\n 'cdg': 24,\n 'allegories': 25,\n 'motherfockers': 26,\n 'perkins': 27,\n 'ought': 28,\n 'headstart': 29,\n 'hobbling': 30,\n 'defining': 31,\n 'flexing': 32,\n 'unspoken': 33,\n 'lowly': 34,\n 'kobayashi': 35,\n 'handshakes': 36,\n 'pembleton': 37,\n 'vulvas': 38,\n 'elocution': 39,\n 'characteristic': 40,\n 'facilty': 41,\n 'chundering': 42,\n 'economists': 43,\n 'garcadiego': 44,\n 'highlighting': 45,\n 'beholden': 46,\n 'yoshida': 47,\n 'pontificating': 48,\n 'cent': 49,\n 'bafflingly': 50,\n 'ryna': 51,\n 'klotlmas': 52,\n 'embassy': 53,\n 'torure': 54,\n 'weavers': 55,\n 'deniz': 56,\n 'aggression': 57,\n 'excursus': 58,\n 'glissando': 59,\n 'hoot': 60,\n 'hamburger': 61,\n 'skirts': 62,\n 'marahuana': 63,\n 'molding': 64,\n 'neworleans': 65,\n 'elliott': 66,\n 'interns': 67,\n 'ghettos': 68,\n 'lulled': 69,\n 'gunbuster': 70,\n 'preferisco': 71,\n 'expressions': 72,\n 'quit': 73,\n 'abolish': 74,\n 'interim': 75,\n 'unheated': 76,\n 'poice': 77,\n 'interlaced': 78,\n 'elan': 79,\n 'generis': 80,\n 'satish': 81,\n 'lighting': 82,\n 'militants': 83,\n 'hadfield': 84,\n 'traditon': 85,\n 'scatting': 86,\n 'rot': 87,\n 'riviera': 88,\n 'disused': 89,\n 'beetch': 90,\n 'precludes': 91,\n 'riverboat': 92,\n 'accountants': 93,\n 'lapaglia': 94,\n 'penguim': 95,\n 'trucks': 96,\n 'verndon': 97,\n 'teenager': 98,\n 'blackmailed': 99,\n 'meisner': 100,\n 'funhouses': 101,\n 'excorcist': 102,\n 'controls': 103,\n 'barbour': 104,\n 'ambient': 105,\n 'gamble': 106,\n 'shahadah': 107,\n 'reenactments': 108,\n 'sportsman': 109,\n 'directive': 110,\n 'schrer': 111,\n 'togar': 112,\n 'dovey': 113,\n 'gigantismoses': 114,\n 'splendor': 115,\n 'storage': 116,\n 'begotten': 117,\n 'jolts': 118,\n 'hooted': 119,\n 'doppleganger': 120,\n 'wang': 121,\n 'narrations': 122,\n 'feigned': 123,\n 'lau': 124,\n 'garbagemen': 125,\n 'shellshocked': 126,\n 'fermat': 127,\n 'wunderkinds': 128,\n 'tanker': 129,\n 'beneficent': 130,\n 'prepares': 131,\n 'contemplated': 132,\n 'becoems': 133,\n 'stardom': 134,\n 'firstly': 135,\n 'dialects': 136,\n 'korey': 137,\n 'tagging': 138,\n 'brooklynese': 139,\n 'margolis': 140,\n 'unkindness': 141,\n 'kennedys': 142,\n 'humanisation': 143,\n 'pigtailed': 144,\n 'brea': 145,\n 'odysseys': 146,\n 'cults': 147,\n 'zavaleta': 148,\n 'cheech': 149,\n 'pitched': 150,\n 'beddoe': 151,\n 'torsos': 152,\n 'idiotic': 153,\n 'creaks': 154,\n 'nazareth': 155,\n 'linkin': 156,\n 'angharad': 157,\n 'cadets': 158,\n 'weepy': 159,\n 'gcif': 160,\n 'slapsticks': 161,\n 'maitlan': 162,\n 'ele': 163,\n 'chaykin': 164,\n 'poir': 165,\n 'thesaurus': 166,\n 'farthing': 167,\n 'knifes': 168,\n 'extremes': 169,\n 'conversely': 170,\n 'zoey': 171,\n 'pertinence': 172,\n 'funt': 173,\n 'fillings': 174,\n 'haugland': 175,\n 'colombian': 176,\n 'krecmer': 177,\n 'ley': 178,\n 'birnley': 179,\n 'goldenhagen': 180,\n 'dissabordinate': 181,\n 'innocous': 182,\n 'pulls': 183,\n 'apply': 184,\n 'kikuno': 185,\n 'terminatrix': 186,\n 'ltas': 187,\n 'pouvoir': 188,\n 'poseiden': 189,\n 'preferable': 190,\n 'buddha': 191,\n 'jung': 192,\n 'boxing': 193,\n 'trimmer': 194,\n 'budjet': 195,\n 'mccullers': 196,\n 'que': 197,\n 'jurassic': 198,\n 'kd': 199,\n 'placidly': 200,\n 'illusionary': 201,\n 'celebrations': 202,\n 'rosa': 203,\n 'umcomfortable': 204,\n 'yeh': 205,\n 'snippy': 206,\n 'repayed': 207,\n 'marmeladova': 208,\n 'relish': 209,\n 'hayne': 210,\n 'sabers': 211,\n 'violet': 212,\n 'ogend': 213,\n 'bully': 214,\n 'chainsaw': 215,\n 'jayden': 216,\n 'pennies': 217,\n 'chants': 218,\n 'rigorously': 219,\n 'bhavtakur': 220,\n 'hatcher': 221,\n 'sonheim': 222,\n 'solidarity': 223,\n 'delicto': 224,\n 'preening': 225,\n 'sg': 226,\n 'soupy': 227,\n 'midler': 228,\n 'transformer': 229,\n 'andoheb': 230,\n 'handicaps': 231,\n 'fatefirst': 232,\n 'gloomy': 233,\n 'agar': 234,\n 'maschocists': 235,\n 'ski': 236,\n 'manr': 237,\n 'mechanics': 238,\n 'relevance': 239,\n 'wwwaaaaayyyyy': 240,\n 'pine': 241,\n 'wept': 242,\n 'parapsychologists': 243,\n 'replacated': 244,\n 'proposing': 245,\n 'lombardo': 246,\n 'barrows': 247,\n 'serisouly': 248,\n 'artifacts': 249,\n 'thrashings': 250,\n 'hinckley': 251,\n 'milah': 252,\n 'viay': 253,\n 'encapsulations': 254,\n 'weirdest': 255,\n 'guarantee': 256,\n 'neighborly': 257,\n 'careys': 258,\n 'studious': 259,\n 'schwartzeneggar': 260,\n 'disobey': 261,\n 'lemay': 262,\n 'entrusted': 263,\n 'razzmatazz': 264,\n 'sarafina': 265,\n 'ramshackle': 266,\n 'lethargic': 267,\n 'korty': 268,\n 'distinguishing': 269,\n 'nazis': 270,\n 'exchanging': 271,\n 'bannacheck': 272,\n 'apologetic': 273,\n 'aura': 274,\n 'territories': 275,\n 'preying': 276,\n 'egypt': 277,\n 'tonsils': 278,\n 'abas': 279,\n 'christo': 280,\n 'ramgarh': 281,\n 'deliverly': 282,\n 'gables': 283,\n 'inquiry': 284,\n 'glock': 285,\n 'clayface': 286,\n 'submerges': 287,\n 'ladin': 288,\n 'priveghi': 289,\n 'infected': 290,\n 'proponent': 291,\n 'anesthesiologist': 292,\n 'enunciate': 293,\n 'delights': 294,\n 'debit': 295,\n 'haenel': 296,\n 'tumultuous': 297,\n 'eckart': 298,\n 'nokitofa': 299,\n 'eeeeh': 300,\n 'indigestion': 301,\n 'urgency': 302,\n 'serena': 303,\n 'scripting': 304,\n 'assimilated': 305,\n 'irrversible': 306,\n 'pounce': 307,\n 'merits': 308,\n 'lovingly': 309,\n 'gerri': 310,\n 'whiteclad': 311,\n 'confound': 312,\n 'fantasizes': 313,\n 'brennan': 314,\n 'horticultural': 315,\n 'giallos': 316,\n 'boringly': 317,\n 'pizza': 318,\n 'fargo': 319,\n 'resents': 320,\n 'whedon': 321,\n 'scrapbook': 322,\n 'antz': 323,\n 'watchers': 324,\n 'novelties': 325,\n 'savagely': 326,\n 'serpents': 327,\n 'mora': 328,\n 'downbeat': 329,\n 'dall': 330,\n 'waller': 331,\n 'dock': 332,\n 'vertigo': 333,\n 'envelopes': 334,\n 'sera': 335,\n 'merika': 336,\n 'demnio': 337,\n 'stylistics': 338,\n 'lumps': 339,\n 'jefferies': 340,\n 'tendulkar': 341,\n 'underhanded': 342,\n 'covers': 343,\n 'gehrig': 344,\n 'adorible': 345,\n 'pried': 346,\n 'jokesdespite': 347,\n 'tediously': 348,\n 'perrault': 349,\n 'anchoring': 350,\n 'facelift': 351,\n 'pinkins': 352,\n 'guaranteed': 353,\n 'xena': 354,\n 'clara': 355,\n 'senseless': 356,\n 'marketability': 357,\n 'tgwwt': 358,\n 'gerde': 359,\n 'alton': 360,\n 'eduardo': 361,\n 'winemaker': 362,\n 'compile': 363,\n 'overhaul': 364,\n 'haydon': 365,\n 'flan': 366,\n 'copperfield': 367,\n 'lumpiest': 368,\n 'babs': 369,\n 'haphazardly': 370,\n 'wordiness': 371,\n 'supervised': 372,\n 'colt': 373,\n 'magnific': 374,\n 'tkom': 375,\n 'outperform': 376,\n 'multitude': 377,\n 'damion': 378,\n 'dispersed': 379,\n 'proberbial': 380,\n 'denholm': 381,\n 'loosly': 382,\n 'shocker': 383,\n 'unchangeable': 384,\n 'commences': 385,\n 'cliche': 386,\n 'lambaste': 387,\n 'morse': 388,\n 'monopolized': 389,\n 'tierney': 390,\n 'cheapy': 391,\n 'aberrant': 392,\n 'icecap': 393,\n 'urinate': 394,\n 'contingency': 395,\n 'rajnikant': 396,\n 'dependency': 397,\n 'recycle': 398,\n 'tinkers': 399,\n 'backlash': 400,\n 'bedtime': 401,\n 'wisp': 402,\n 'glienna': 403,\n 'complexes': 404,\n 'trashin': 405,\n 'tolstoy': 406,\n 'gandhiji': 407,\n 'assessment': 408,\n 'wets': 409,\n 'helte': 410,\n 'bringsvrd': 411,\n 'bixby': 412,\n 'marketplace': 413,\n 'defender': 414,\n 'winterbolt': 415,\n 'fud': 416,\n 'unprepared': 417,\n 'ronni': 418,\n 'strider': 419,\n 'elk': 420,\n 'grandeur': 421,\n 'devgun': 422,\n 'scamper': 423,\n 'garrard': 424,\n 'mismatches': 425,\n 'sitter': 426,\n 'nehru': 427,\n 'share': 428,\n 'pathos': 429,\n 'aji': 430,\n 'caracas': 431,\n 'bobbidy': 432,\n 'betcha': 433,\n 'effeil': 434,\n 'arajo': 435,\n 'extravagances': 436,\n 'toughie': 437,\n 'adapted': 438,\n 'minelli': 439,\n 'neurological': 440,\n 'dreary': 441,\n 'marleen': 442,\n 'attendent': 443,\n 'temple': 444,\n 'ina': 445,\n 'jokerish': 446,\n 'mds': 447,\n 'johansson': 448,\n 'wilson': 449,\n 'dramatists': 450,\n 'med': 451,\n 'backwood': 452,\n 'stairwells': 453,\n 'solondz': 454,\n 'thread': 455,\n 'refreshment': 456,\n 'repaired': 457,\n 'lyda': 458,\n 'perfunctory': 459,\n 'anisio': 460,\n 'alarik': 461,\n 'jeff': 462,\n 'hulled': 463,\n 'lune': 464,\n 'fingerprints': 465,\n 'eschewed': 466,\n 'ooga': 467,\n 'pcp': 468,\n 'gazooks': 469,\n 'kenya': 470,\n 'carto': 471,\n 'fraudulent': 472,\n 'strategist': 473,\n 'gaillardian': 474,\n 'rebound': 475,\n 'blalock': 476,\n 'coated': 477,\n 'rivette': 478,\n 'charictor': 479,\n 'zaniacs': 480,\n 'winstons': 481,\n 'stretches': 482,\n 'ando': 483,\n 'positive': 484,\n 'marketers': 485,\n 'giants': 486,\n 'strip': 487,\n 'speeches': 488,\n 'buchholz': 489,\n 'ioffer': 490,\n 'featherstone': 491,\n 'napper': 492,\n 'chignon': 493,\n 'spinally': 494,\n 'saintly': 495,\n 'hobbits': 496,\n 'perc': 497,\n 'hadley': 498,\n 'hud': 499,\n 'publish': 500,\n 'froze': 501,\n 'prc': 502,\n 'excusable': 503,\n 'snowed': 504,\n 'ranee': 505,\n 'kappa': 506,\n 'griffths': 507,\n 'upstaging': 508,\n 'jeon': 509,\n 'grantness': 510,\n 'retrograde': 511,\n 'mr': 512,\n 'harriet': 513,\n 'stills': 514,\n 'indefensibly': 515,\n 'upcoming': 516,\n 'prevarications': 517,\n 'lovebird': 518,\n 'janosch': 519,\n 'harnessed': 520,\n 'cleverer': 521,\n 'hopeing': 522,\n 'cinemathque': 523,\n 'yields': 524,\n 'philp': 525,\n 'granted': 526,\n 'dhupia': 527,\n 'enrolled': 528,\n 'imotep': 529,\n 'lizzette': 530,\n 'benacquista': 531,\n 'miniseries': 532,\n 'sereneness': 533,\n 'impotency': 534,\n 'requires': 535,\n 'nadie': 536,\n 'streeter': 537,\n 'farms': 538,\n 'headline': 539,\n 'expertise': 540,\n 'rejoicing': 541,\n 'grills': 542,\n 'spaceport': 543,\n 'sobering': 544,\n 'makeupon': 545,\n 'wave': 546,\n 'papamoschou': 547,\n 'breadline': 548,\n 'arsonists': 549,\n 'compensates': 550,\n 'posing': 551,\n 'ass': 552,\n 'blockbusters': 553,\n 'hellhole': 554,\n 'coulda': 555,\n 'monosyllables': 556,\n 'teordoro': 557,\n 'defended': 558,\n 'breckin': 559,\n 'somersaulting': 560,\n 'cleavon': 561,\n 'parisian': 562,\n 'villified': 563,\n 'sauron': 564,\n 'interpret': 565,\n 'scrolls': 566,\n 'crying': 567,\n 'polemic': 568,\n 'explantation': 569,\n 'straits': 570,\n 'tonto': 571,\n 'halaqah': 572,\n 'ohhh': 573,\n 'gravestone': 574,\n 'underlining': 575,\n 'restrain': 576,\n 'humiliatingly': 577,\n 'lattes': 578,\n 'douses': 579,\n 'banding': 580,\n 'rattigan': 581,\n 'sothern': 582,\n 'yomiuri': 583,\n 'name': 584,\n 'burger': 585,\n 'yez': 586,\n 'troyes': 587,\n 'sprawls': 588,\n 'dumbs': 589,\n 'tolerably': 590,\n 'overpowered': 591,\n 'flux': 592,\n 'pyrenees': 593,\n 'talked': 594,\n 'hercules': 595,\n 'luzhin': 596,\n 'hermes': 597,\n 'hips': 598,\n 'benighted': 599,\n 'nipped': 600,\n 'corbet': 601,\n 'posed': 602,\n 'originally': 603,\n 'thug': 604,\n 'lorn': 605,\n 'aspires': 606,\n 'lengths': 607,\n 'tz': 608,\n 'schnitzler': 609,\n 'gurdebeke': 610,\n 'pninson': 611,\n 'tying': 612,\n 'wrenched': 613,\n 'linderby': 614,\n 'pedestrians': 615,\n 'skepticle': 616,\n 'amazingly': 617,\n 'salaried': 618,\n 'lungs': 619,\n 'yali': 620,\n 'possessively': 621,\n 'cardigan': 622,\n 'arlington': 623,\n 'ebony': 624,\n 'vuchella': 625,\n 'raggedy': 626,\n 'nuristanis': 627,\n 'winkelman': 628,\n 'dehumanizing': 629,\n 'ls': 630,\n 'lize': 631,\n 'seventeen': 632,\n 'kumer': 633,\n 'pincers': 634,\n 'forevermore': 635,\n 'jj': 636,\n 'inlay': 637,\n 'impactive': 638,\n 'insults': 639,\n 'numerous': 640,\n 'targeted': 641,\n 'theorists': 642,\n 'shoots': 643,\n 'montenegro': 644,\n 'smashes': 645,\n 'conan': 646,\n 'hywel': 647,\n 'choosened': 648,\n 'mabel': 649,\n 'ejaculating': 650,\n 'rafe': 651,\n 'complied': 652,\n 'boulder': 653,\n 'vaibhavi': 654,\n 'nonthreatening': 655,\n 'zerifferelli': 656,\n 'contradictorily': 657,\n 'rostov': 658,\n 'females': 659,\n 'brunna': 660,\n 'wrecks': 661,\n 'intimated': 662,\n 'furs': 663,\n 'mideaval': 664,\n 'chiaroscuros': 665,\n 'jusenkkyo': 666,\n 'sleazes': 667,\n 'cramer': 668,\n 'lovecraftian': 669,\n 'flapped': 670,\n 'wufei': 671,\n 'dominique': 672,\n 'bharai': 673,\n 'seconds': 674,\n 'unmanly': 675,\n 'powerdrill': 676,\n 'mescaleros': 677,\n 'mouthy': 678,\n 'convenient': 679,\n 'spared': 680,\n 'paired': 681,\n 'carroll': 682,\n 'pouts': 683,\n 'outsiders': 684,\n 'hounslow': 685,\n 'kittenishly': 686,\n 'selfish': 687,\n 'ericka': 688,\n 'film': 689,\n 'hierarchy': 690,\n 'backwoods': 691,\n 'murrow': 692,\n 'retailer': 693,\n 'mongkut': 694,\n 'portayal': 695,\n 'hooverville': 696,\n 'chaffing': 697,\n 'reginal': 698,\n 'initialize': 699,\n 'typed': 700,\n 'deliverance': 701,\n 'domineering': 702,\n 'motorhead': 703,\n 'jaoui': 704,\n 'sadhashiv': 705,\n 'colorizing': 706,\n 'voids': 707,\n 'ricki': 708,\n 'minimalistic': 709,\n 'incl': 710,\n 'rocll': 711,\n 'nakajima': 712,\n 'decidedly': 713,\n 'badminton': 714,\n 'holmann': 715,\n 'negativity': 716,\n 'weverka': 717,\n 'intervening': 718,\n 'anethesia': 719,\n 'asthetics': 720,\n 'lording': 721,\n 'heavyweights': 722,\n 'overdramatized': 723,\n 'unsettles': 724,\n 'euro': 725,\n 'classics': 726,\n 'landen': 727,\n 'negligence': 728,\n 'fantasists': 729,\n 'fester': 730,\n 'brown': 731,\n 'futon': 732,\n 'joeseph': 733,\n 'trainwreck': 734,\n 'adder': 735,\n 'touristas': 736,\n 'tilt': 737,\n 'nighttime': 738,\n 'foy': 739,\n 'numers': 740,\n 'stigmata': 741,\n 'tlps': 742,\n 'floozies': 743,\n 'looker': 744,\n 'foxs': 745,\n 'tel': 746,\n 'persuade': 747,\n 'juxtaposes': 748,\n 'receives': 749,\n 'yards': 750,\n 'veeringly': 751,\n 'armatures': 752,\n 'merc': 753,\n 'boredom': 754,\n 'compromises': 755,\n 'supplication': 756,\n 'tenney': 757,\n 'brotherly': 758,\n 'vcr': 759,\n 'kameena': 760,\n 'theron': 761,\n 'hypodermic': 762,\n 'thoughts': 763,\n 'tonnes': 764,\n 'blooming': 765,\n 'maar': 766,\n 'mephestophelion': 767,\n 'comraderie': 768,\n 'birthmother': 769,\n 'spraying': 770,\n 'lowers': 771,\n 'vieira': 772,\n 'shoestring': 773,\n 'maschera': 774,\n 'lambropoulou': 775,\n 'volita': 776,\n 'troughs': 777,\n 'effect': 778,\n 'talbot': 779,\n 'partha': 780,\n 'buffay': 781,\n 'jansen': 782,\n 'chiseling': 783,\n 'timemachine': 784,\n 'fretted': 785,\n 'fabuleux': 786,\n 'rampling': 787,\n 'waterdance': 788,\n 'nerves': 789,\n 'murmuring': 790,\n 'buddist': 791,\n 'sharawat': 792,\n 'gilberts': 793,\n 'anglicized': 794,\n 'kaneshiro': 795,\n 'gang': 796,\n 'happenstance': 797,\n 'nixflix': 798,\n 'cadence': 799,\n 'bergdorf': 800,\n 'suit': 801,\n 'brasiliano': 802,\n 'laslo': 803,\n 'arrondisement': 804,\n 'ghidrah': 805,\n 'hattori': 806,\n 'sedately': 807,\n 'moroni': 808,\n 'fiilthy': 809,\n 'memorializing': 810,\n 'threefold': 811,\n 'homerun': 812,\n 'ee': 813,\n 'bresnahan': 814,\n 'bugs': 815,\n 'multicultural': 816,\n 'brontes': 817,\n 'supposebly': 818,\n 'stroy': 819,\n 'maximilian': 820,\n 'oval': 821,\n 'coombs': 822,\n 'loud': 823,\n 'dimmsdale': 824,\n 'grooviest': 825,\n 'drugs': 826,\n 'souffle': 827,\n 'stinkbomb': 828,\n 'goriest': 829,\n 'wicks': 830,\n 'lopped': 831,\n 'adventuring': 832,\n 'limited': 833,\n 'censorship': 834,\n 'hum': 835,\n 'belafonte': 836,\n 'stunners': 837,\n 'ego': 838,\n 'segall': 839,\n 'presidency': 840,\n 'madagascar': 841,\n 'artyfartyrati': 842,\n 'ferrets': 843,\n 'incoherency': 844,\n 'permaybe': 845,\n 'luved': 846,\n 'bookings': 847,\n 'warner': 848,\n 'kinkle': 849,\n 'personl': 850,\n 'protruding': 851,\n 'tenko': 852,\n 'durango': 853,\n 'banderas': 854,\n 'joined': 855,\n 'sexualis': 856,\n 'various': 857,\n 'outdoors': 858,\n 'fountains': 859,\n 'consents': 860,\n 'dukes': 861,\n 'merosable': 862,\n 'mendona': 863,\n 'neill': 864,\n 'uproarious': 865,\n 'excelling': 866,\n 'slaughters': 867,\n 'nullity': 868,\n 'liebe': 869,\n 'chillingly': 870,\n 'exceeds': 871,\n 'lotion': 872,\n 'vilified': 873,\n 'okey': 874,\n 'seidls': 875,\n 'tutsi': 876,\n 'worldand': 877,\n 'cryptology': 878,\n 'endeavour': 879,\n 'song': 880,\n 'horrified': 881,\n 'kathryn': 882,\n 'wastebasket': 883,\n 'piggys': 884,\n 'speech': 885,\n 'sleaze': 886,\n 'vieller': 887,\n 'cora': 888,\n 'radish': 889,\n 'wormwood': 890,\n 'pavillion': 891,\n 'exuded': 892,\n 'italo': 893,\n 'nihilists': 894,\n 'dw': 895,\n 'top': 896,\n 'genuis': 897,\n 'tacones': 898,\n 'divisions': 899,\n 'selection': 900,\n 'scouring': 901,\n 'information': 902,\n 'tudo': 903,\n 'whitest': 904,\n 'ahhhhh': 905,\n 'confidence': 906,\n 'shrill': 907,\n 'aranoa': 908,\n 'consisted': 909,\n 'stability': 910,\n 'chaise': 911,\n 'wiggle': 912,\n 'parris': 913,\n 'sunken': 914,\n 'egghead': 915,\n 'fudds': 916,\n 'reproach': 917,\n 'protanganists': 918,\n 'coaxed': 919,\n 'cannibals': 920,\n 'tints': 921,\n 'giorgos': 922,\n 'bruno': 923,\n 'cackle': 924,\n 'side': 925,\n 'maruyama': 926,\n 'phoned': 927,\n 'crestfallen': 928,\n 'abdomen': 929,\n 'liftoff': 930,\n 'hernia': 931,\n 'overlook': 932,\n 'kk': 933,\n 'jewison': 934,\n 'gwyenth': 935,\n 'clapton': 936,\n 'symbolic': 937,\n 'collision': 938,\n 'befouled': 939,\n 'erase': 940,\n 'harker': 941,\n 'battlecry': 942,\n 'melle': 943,\n 'blurted': 944,\n 'kings': 945,\n 'madchen': 946,\n 'recognized': 947,\n 'divulging': 948,\n 'korolev': 949,\n 'sufi': 950,\n 'neurotically': 951,\n 'fantasizing': 952,\n 'consumptive': 953,\n 'therapist': 954,\n 'paltry': 955,\n 'shlocky': 956,\n 'benjiman': 957,\n 'borga': 958,\n 'twentynine': 959,\n 'favortites': 960,\n 'solver': 961,\n 'confuses': 962,\n 'tylenol': 963,\n 'jaime': 964,\n 'kober': 965,\n 'ch': 966,\n 'singleton': 967,\n 'command': 968,\n 'unsightly': 969,\n 'pill': 970,\n 'lamma': 971,\n 'aaaahhhhhhh': 972,\n 'portents': 973,\n 'unknown': 974,\n 'phoenixs': 975,\n 'denemark': 976,\n 'frazzlingly': 977,\n 'eloquently': 978,\n 'tryouts': 979,\n 'dezel': 980,\n 'afflictions': 981,\n 'sandell': 982,\n 'colorlessly': 983,\n 'gayness': 984,\n 'introduce': 985,\n 'exemplar': 986,\n 'vegetate': 987,\n 'dramaticisation': 988,\n 'plaque': 989,\n 'barefaced': 990,\n 'sossman': 991,\n 'burstyn': 992,\n 'sequiturs': 993,\n 'bespectacled': 994,\n 'honoured': 995,\n 'cimino': 996,\n 'shipyards': 997,\n 'saloons': 998,\n 'skirmisher': 999,\n ...}"
     },
     "execution_count": 131,
     "metadata": {},
     "output_type": "execute_result"
    }
   ],
   "source": [
    "# Create a dictionary of words in the vocabulary mapped to index positions\n",
    "# (to be used in layer_0)\n",
    "word2index = {}\n",
    "for i,word in enumerate(vocab):\n",
    "    word2index[word] = i\n",
    "    \n",
    "# display the map of words to indices\n",
    "word2index"
   ]
  },
  {
   "cell_type": "markdown",
   "metadata": {},
   "source": [
    "**TODO:**  Complete the implementation of `update_input_layer`. It should count \n",
    "          how many times each word is used in the given review, and then store\n",
    "          those counts at the appropriate indices inside `layer_0`."
   ]
  },
  {
   "cell_type": "code",
   "execution_count": 132,
   "metadata": {
    "collapsed": true
   },
   "outputs": [],
   "source": [
    "def update_input_layer(review):\n",
    "    \"\"\" Modify the global layer_0 to represent the vector form of review.\n",
    "    The element at a given index of layer_0 should represent\n",
    "    how many times the given word occurs in the review.\n",
    "    Args:\n",
    "        review(string) - the string of the review\n",
    "    Returns:\n",
    "        None\n",
    "    \"\"\"\n",
    "    global layer_0\n",
    "    # clear out previous state by resetting the layer to be all 0s\n",
    "    layer_0 *= 0\n",
    "    \n",
    "    # TODO: count how many times each word is used in the given review and store the results in layer_0\n",
    "    for word in review.split(' '):\n",
    "        layer_0[0][word2index[word]] += 1"
   ]
  },
  {
   "cell_type": "markdown",
   "metadata": {},
   "source": [
    "Run the following cell to test updating the input layer with the first review. The indices assigned may not be the same as in the solution, but hopefully you'll see some non-zero values in `layer_0`.  "
   ]
  },
  {
   "cell_type": "code",
   "execution_count": 133,
   "metadata": {
    "collapsed": true
   },
   "outputs": [
    {
     "data": {
      "text/plain": "array([[18.,  0.,  0., ...,  0.,  0.,  0.]])"
     },
     "execution_count": 133,
     "metadata": {},
     "output_type": "execute_result"
    }
   ],
   "source": [
    "update_input_layer(reviews[0])\n",
    "layer_0"
   ]
  },
  {
   "cell_type": "markdown",
   "metadata": {},
   "source": [
    "**TODO:** Complete the implementation of `get_target_for_labels`. It should return `0` or `1`, \n",
    "          depending on whether the given label is `NEGATIVE` or `POSITIVE`, respectively."
   ]
  },
  {
   "cell_type": "code",
   "execution_count": 134,
   "metadata": {
    "collapsed": true
   },
   "outputs": [],
   "source": [
    "def get_target_for_label(label):\n",
    "    \"\"\"Convert a label to `0` or `1`.\n",
    "    Args:\n",
    "        label(string) - Either \"POSITIVE\" or \"NEGATIVE\".\n",
    "    Returns:\n",
    "        `0` or `1`.\n",
    "    \"\"\"\n",
    "    return 0 if label == 'NEGATIVE' else 1"
   ]
  },
  {
   "cell_type": "markdown",
   "metadata": {},
   "source": [
    "Run the following two cells. They should print out`'POSITIVE'` and `1`, respectively."
   ]
  },
  {
   "cell_type": "code",
   "execution_count": 135,
   "metadata": {
    "collapsed": true
   },
   "outputs": [
    {
     "data": {
      "text/plain": "'POSITIVE'"
     },
     "execution_count": 135,
     "metadata": {},
     "output_type": "execute_result"
    }
   ],
   "source": [
    "labels[0]"
   ]
  },
  {
   "cell_type": "code",
   "execution_count": 136,
   "metadata": {
    "collapsed": true
   },
   "outputs": [
    {
     "data": {
      "text/plain": "1"
     },
     "execution_count": 136,
     "metadata": {},
     "output_type": "execute_result"
    }
   ],
   "source": [
    "get_target_for_label(labels[0])"
   ]
  },
  {
   "cell_type": "markdown",
   "metadata": {},
   "source": [
    "Run the following two cells. They should print out `'NEGATIVE'` and `0`, respectively."
   ]
  },
  {
   "cell_type": "code",
   "execution_count": 137,
   "metadata": {
    "collapsed": true
   },
   "outputs": [
    {
     "data": {
      "text/plain": "'NEGATIVE'"
     },
     "execution_count": 137,
     "metadata": {},
     "output_type": "execute_result"
    }
   ],
   "source": [
    "labels[1]"
   ]
  },
  {
   "cell_type": "code",
   "execution_count": 138,
   "metadata": {
    "collapsed": true
   },
   "outputs": [
    {
     "data": {
      "text/plain": "0"
     },
     "execution_count": 138,
     "metadata": {},
     "output_type": "execute_result"
    }
   ],
   "source": [
    "get_target_for_label(labels[1])"
   ]
  },
  {
   "cell_type": "markdown",
   "metadata": {},
   "source": [
    "# End of Project 2. \n",
    "## Watch the next video to see Andrew's solution, then continue on to the next lesson."
   ]
  },
  {
   "cell_type": "markdown",
   "metadata": {},
   "source": [
    "# Project 3: Building a Neural Network<a id='project_3'></a>"
   ]
  },
  {
   "cell_type": "markdown",
   "metadata": {},
   "source": [
    "**TODO:** We've included the framework of a class called `SentimentNetork`. Implement all of the items marked `TODO` in the code. These include doing the following:\n",
    "- Create a basic neural network much like the networks you've seen in earlier lessons and in Project 1, with an input layer, a hidden layer, and an output layer. \n",
    "- Do **not** add a non-linearity in the hidden layer. That is, do not use an activation function when calculating the hidden layer outputs.\n",
    "- Re-use the code from earlier in this notebook to create the training data (see `TODO`s in the code)\n",
    "- Implement the `pre_process_data` function to create the vocabulary for our training data generating functions\n",
    "- Ensure `train` trains over the entire corpus"
   ]
  },
  {
   "cell_type": "markdown",
   "metadata": {},
   "source": [
    "### Where to Get Help if You Need it\n",
    "- Re-watch earlier Udacity lectures\n",
    "- Chapters 3-5 - [Grokking Deep Learning](https://www.manning.com/books/grokking-deep-learning) - (Check inside your classroom for a discount code)"
   ]
  },
  {
   "cell_type": "code",
   "execution_count": 305,
   "metadata": {
    "collapsed": true
   },
   "outputs": [],
   "source": [
    "import time\n",
    "import sys\n",
    "import numpy as np\n",
    "\n",
    "# Encapsulate our neural network in a class\n",
    "class SentimentNetwork:\n",
    "    def __init__(self, reviews, labels, hidden_nodes = 10, learning_rate = 0.1):\n",
    "        \"\"\"Create a SentimenNetwork with the given settings\n",
    "        Args:\n",
    "            reviews(list) - List of reviews used for training\n",
    "            labels(list) - List of POSITIVE/NEGATIVE labels associated with the given reviews\n",
    "            hidden_nodes(int) - Number of nodes to create in the hidden layer\n",
    "            learning_rate(float) - Learning rate to use while training\n",
    "        \"\"\"\n",
    "        # Assign a seed to our random number generator to ensure we get\n",
    "        # reproducable results during development \n",
    "        np.random.seed(1)\n",
    "\n",
    "        # process the reviews and their associated labels so that everything\n",
    "        # is ready for training\n",
    "        self.pre_process_data(reviews, labels)\n",
    "        \n",
    "        # Build the network to have the number of hidden nodes and the learning rate that\n",
    "        # were passed into this initializer. Make the same number of input nodes as\n",
    "        # there are vocabulary words and create a single output node.\n",
    "        self.init_network(len(self.review_vocab),hidden_nodes, 1, learning_rate)\n",
    "\n",
    "    def pre_process_data(self, reviews, labels):\n",
    "        review_vocab = set()\n",
    "\n",
    "        # TODO: populate review_vocab with all of the words in the given reviews\n",
    "        #       Remember to split reviews into individual words \n",
    "        #       using \"split(' ')\" instead of \"split()\".\n",
    "        for rev in reviews:\n",
    "            for word in rev.split(' '):\n",
    "                review_vocab.add(word)\n",
    "\n",
    "        # Convert the vocabulary set to a list so we can access words via indices\n",
    "        self.review_vocab = list(review_vocab)\n",
    "        \n",
    "        label_vocab = set()\n",
    "        # TODO: populate label_vocab with all of the words in the given labels.\n",
    "        #       There is no need to split the labels because each one is a single word.\n",
    "        for label in labels:\n",
    "            label_vocab.add(label)\n",
    "\n",
    "        # Convert the label vocabulary set to a list so we can access labels via indices\n",
    "        self.label_vocab = list(label_vocab)\n",
    "        \n",
    "        # Store the sizes of the review and label vocabularies.\n",
    "        self.review_vocab_size = len(self.review_vocab)\n",
    "        self.label_vocab_size = len(self.label_vocab)\n",
    "        \n",
    "        # Create a dictionary of words in the vocabulary mapped to index positions\n",
    "        self.word2index = {}\n",
    "        # TODO: populate self.word2index with indices for all the words in self.review_vocab\n",
    "        #       like you saw earlier in the notebook\n",
    "        for i, word in enumerate(self.review_vocab):\n",
    "            self.word2index[word] = i\n",
    "        \n",
    "        # Create a dictionary of labels mapped to index positions\n",
    "        self.label2index = {}\n",
    "        # TODO: do the same thing you did for self.word2index and self.review_vocab, \n",
    "        #       but for self.label2index and self.label_vocab instead\n",
    "        for i, word in enumerate(self.label_vocab):\n",
    "            self.label2index[word] = i\n",
    "         \n",
    "        \n",
    "    def init_network(self, input_nodes, hidden_nodes, output_nodes, learning_rate):\n",
    "        # Store the number of nodes in input, hidden, and output layers.\n",
    "        self.input_nodes = input_nodes\n",
    "        self.hidden_nodes = hidden_nodes\n",
    "        self.output_nodes = output_nodes\n",
    "\n",
    "        # Store the learning rate\n",
    "        self.learning_rate = learning_rate\n",
    "\n",
    "        # Initialize weights\n",
    "        \n",
    "        # TODO: initialize self.weights_0_1 as a matrix of zeros. These are the weights between\n",
    "        #       the input layer and the hidden layer.\n",
    "        self.weights_0_1 = np.zeros((self.input_nodes, self.hidden_nodes))\n",
    "        \n",
    "        # TODO: initialize self.weights_1_2 as a matrix of random values. \n",
    "        #       These are the weights between the hidden layer and the output layer.\n",
    "        self.weights_1_2 = np.random.normal(0.0, self.output_nodes**-0.5,\n",
    "                                                (self.hidden_nodes, self.output_nodes))\n",
    "        \n",
    "        # TODO: Create the input layer, a two-dimensional matrix with shape \n",
    "        #       1 x input_nodes, with all values initialized to zero\n",
    "        self.layer_0 = np.zeros((1, input_nodes))\n",
    "    \n",
    "        \n",
    "    def update_input_layer(self,review):\n",
    "        # TODO: You can copy most of the code you wrote for update_input_layer \n",
    "        #       earlier in this notebook. \n",
    "        #\n",
    "        #       However, MAKE SURE YOU CHANGE ALL VARIABLES TO REFERENCE\n",
    "        #       THE VERSIONS STORED IN THIS OBJECT, NOT THE GLOBAL OBJECTS.\n",
    "        #       For example, replace \"layer_0 *= 0\" with \"self.layer_0 *= 0\"\n",
    "        # clear out previous state by resetting the layer to be all 0s\n",
    "        self.layer_0 *= 0\n",
    "\n",
    "        # TODO: count how many times each word is used in the given review and store the results in layer_0\n",
    "        for word in review.split(' '):\n",
    "            self.layer_0[0][self.word2index[word]] += 1\n",
    "                \n",
    "    def get_target_for_label(self,label):\n",
    "        # TODO: Copy the code you wrote for get_target_for_label \n",
    "        #       earlier in this notebook. \n",
    "        return 0 if label == 'NEGATIVE' else 1\n",
    "        \n",
    "    def sigmoid(self,x):\n",
    "        # TODO: Return the result of calculating the sigmoid activation function\n",
    "        #       shown in the lectures\n",
    "        return 1 / (1 + np.exp(-x))\n",
    "    \n",
    "    def sigmoid_output_2_derivative(self,output):\n",
    "        # TODO: Return the derivative of the sigmoid activation function, \n",
    "        #       where \"output\" is the original output from the sigmoid function\n",
    "        return output * (1 - output)\n",
    "\n",
    "    def train(self, training_reviews, training_labels):\n",
    "        \n",
    "        # make sure we have a matching number of reviews and labels\n",
    "        assert(len(training_reviews) == len(training_labels))\n",
    "        \n",
    "        # Keep track of correct predictions to display accuracy during training \n",
    "        correct_so_far = 0\n",
    "        \n",
    "        # Remember when we started for printing time statistics\n",
    "        start = time.time()\n",
    "\n",
    "        # loop through all the given reviews and run a forward and backward pass,\n",
    "        # updating weights for every item\n",
    "        for i in range(len(training_reviews)):\n",
    "            \n",
    "            # TODO: Get the next review and its correct label\n",
    "            review, label = training_reviews[i], training_labels[i]\n",
    "            self.update_input_layer(review)\n",
    "            features = self.layer_0\n",
    "            target = self.get_target_for_label(label)\n",
    "\n",
    "            # TODO: Implement the forward pass through the network. \n",
    "            #       That means use the given review to update the input layer, \n",
    "            #       then calculate values for the hidden layer,\n",
    "            #       and finally calculate the output layer.\n",
    "            # \n",
    "            #       Do not use an activation function for the hidden layer,\n",
    "            #       but use the sigmoid activation function for the output layer.\n",
    "            hidden_layer = np.matmul(features, self.weights_0_1)\n",
    "            output_layer = self.sigmoid(np.matmul(hidden_layer, self.weights_1_2))\n",
    "\n",
    "            # TODO: Implement the back propagation pass here. \n",
    "            #       That means calculate the error for the forward pass's prediction\n",
    "            #       and update the weights in the network according to their\n",
    "            #       contributions toward the error, as calculated via the\n",
    "            #       gradient descent and back propagation algorithms you \n",
    "            #       learned in class.\n",
    "            layer_2_error = output_layer - self.get_target_for_label(target)\n",
    "            layer_2_change = layer_2_error * self.sigmoid_output_2_derivative(output_layer)\n",
    "\n",
    "            layer_1_error = layer_2_change.dot(self.weights_1_2.T)\n",
    "            layer_1_change = layer_1_error\n",
    "\n",
    "            self.weights_1_2 -= hidden_layer.T.dot(layer_2_change) * self.learning_rate\n",
    "            self.weights_0_1 -= self.layer_0.T.dot(layer_1_change) * self.learning_rate\n",
    "\n",
    "            # TODO: Keep track of correct predictions. To determine if the prediction was\n",
    "            #       correct, check that the absolute value of the output error \n",
    "            #       is less than 0.5. If so, add one to the correct_so_far count.\n",
    "            if output_layer >= 0.5 and label == 'POSITIVE':\n",
    "                correct_so_far += 1\n",
    "            elif output_layer < 0.5 and label == 'NEGATIVE':\n",
    "                correct_so_far += 1\n",
    "            # For debug purposes, print out our prediction accuracy and speed \n",
    "            # throughout the training process. \n",
    "\n",
    "            elapsed_time = float(time.time() - start)\n",
    "            reviews_per_second = i / elapsed_time if elapsed_time > 0 else 0\n",
    "            \n",
    "            sys.stdout.write(\"\\rProgress:\" + str(100 * i/float(len(training_reviews)))[:4] \\\n",
    "                             + \"% Speed(reviews/sec):\" + str(reviews_per_second)[0:5] \\\n",
    "                             + \" #Correct:\" + str(correct_so_far) + \" #Trained:\" + str(i+1) \\\n",
    "                             + \" Training Accuracy:\" + str(correct_so_far * 100 / float(i+1))[:4] + \"%\")\n",
    "            if(i % 2500 == 0):\n",
    "                print(\"\")\n",
    "    \n",
    "    def test(self, testing_reviews, testing_labels):\n",
    "        \"\"\"\n",
    "        Attempts to predict the labels for the given testing_reviews,\n",
    "        and uses the test_labels to calculate the accuracy of those predictions.\n",
    "        \"\"\"\n",
    "        # keep track of how many correct predictions we make\n",
    "        correct = 0\n",
    "\n",
    "        # we'll time how many predictions per second we make\n",
    "        start = time.time()\n",
    "\n",
    "        # Loop through each of the given reviews and call run to predict\n",
    "        # its label. \n",
    "        for i in range(len(testing_reviews)):\n",
    "            pred = self.run(testing_reviews[i])\n",
    "            if pred == testing_labels[i]:\n",
    "                correct += 1\n",
    "            \n",
    "            # For debug purposes, print out our prediction accuracy and speed \n",
    "            # throughout the prediction process. \n",
    "\n",
    "            elapsed_time = float(time.time() - start)\n",
    "            reviews_per_second = i / elapsed_time if elapsed_time > 0 else 0\n",
    "            \n",
    "            sys.stdout.write(\"\\rProgress:\" + str(100 * i/float(len(testing_reviews)))[:4] \\\n",
    "                             + \"% Speed(reviews/sec):\" + str(reviews_per_second)[0:5] \\\n",
    "                             + \" #Correct:\" + str(correct) + \" #Tested:\" + str(i+1) \\\n",
    "                             + \" Testing Accuracy:\" + str(correct * 100 / float(i+1))[:4] + \"%\")\n",
    "    \n",
    "    def run(self, review):\n",
    "        \"\"\"\n",
    "        Returns a POSITIVE or NEGATIVE prediction for the given review.\n",
    "        \"\"\"\n",
    "        # TODO: Run a forward pass through the network, like you did in the\n",
    "        #       \"train\" function. That means use the given review to \n",
    "        #       update the input layer, then calculate values for the hidden layer,\n",
    "        #       and finally calculate the output layer.\n",
    "        #\n",
    "        #       Note: The review passed into this function for prediction \n",
    "        #             might come from anywhere, so you should convert it \n",
    "        #             to lower case prior to using it.\n",
    "        self.update_input_layer(review.lower())\n",
    "        input_layer = self.layer_0.dot(self.weights_0_1)\n",
    "        hidden_layer = self.sigmoid(input_layer.dot(self.weights_1_2))\n",
    "        \n",
    "        # TODO: The output layer should now contain a prediction. \n",
    "        #       Return `POSITIVE` for predictions greater-than-or-equal-to `0.5`, \n",
    "        #       and `NEGATIVE` otherwise.\n",
    "\n",
    "        if hidden_layer[0] >= 0.5:\n",
    "            return 'POSITIVE'\n",
    "        return 'NEGATIVE'"
   ]
  },
  {
   "cell_type": "markdown",
   "metadata": {},
   "source": [
    "Run the following cell to create a `SentimentNetwork` that will train on all but the last 1000 reviews (we're saving those for testing). Here we use a learning rate of `0.1`."
   ]
  },
  {
   "cell_type": "code",
   "execution_count": 308,
   "metadata": {
    "collapsed": true
   },
   "outputs": [],
   "source": [
    "mlp = SentimentNetwork(reviews[:-1000],labels[:-1000], learning_rate=0.1)"
   ]
  },
  {
   "cell_type": "markdown",
   "metadata": {},
   "source": [
    "Run the following cell to test the network's performance against the last 1000 reviews (the ones we held out from our training set). \n",
    "\n",
    "**We have not trained the model yet, so the results should be about 50% as it will just be guessing and there are only two possible values to choose from.**"
   ]
  },
  {
   "cell_type": "code",
   "execution_count": 309,
   "metadata": {
    "collapsed": true
   },
   "outputs": [
    {
     "name": "stdout",
     "output_type": "stream",
     "text": [
      "Progress:0.0% Speed(reviews/sec):0.0 #Correct:1 #Tested:1 Testing Accuracy:100.%"
     ]
    },
    {
     "ename": "KeyError",
     "evalue": "'reprogram'",
     "output_type": "error",
     "traceback": [
      "\u001B[1;31m---------------------------------------------------------------------------\u001B[0m",
      "\u001B[1;31mKeyError\u001B[0m                                  Traceback (most recent call last)",
      "\u001B[1;32m<ipython-input-309-a52af816317a>\u001B[0m in \u001B[0;36m<module>\u001B[1;34m\u001B[0m\n\u001B[1;32m----> 1\u001B[1;33m \u001B[0mmlp\u001B[0m\u001B[1;33m.\u001B[0m\u001B[0mtest\u001B[0m\u001B[1;33m(\u001B[0m\u001B[0mreviews\u001B[0m\u001B[1;33m[\u001B[0m\u001B[1;33m-\u001B[0m\u001B[1;36m1000\u001B[0m\u001B[1;33m:\u001B[0m\u001B[1;33m]\u001B[0m\u001B[1;33m,\u001B[0m\u001B[0mlabels\u001B[0m\u001B[1;33m[\u001B[0m\u001B[1;33m-\u001B[0m\u001B[1;36m1000\u001B[0m\u001B[1;33m:\u001B[0m\u001B[1;33m]\u001B[0m\u001B[1;33m)\u001B[0m\u001B[1;33m\u001B[0m\u001B[1;33m\u001B[0m\u001B[0m\n\u001B[0m\u001B[0;32m      2\u001B[0m \u001B[1;33m\u001B[0m\u001B[0m\n",
      "\u001B[1;32m<ipython-input-305-083232feb297>\u001B[0m in \u001B[0;36mtest\u001B[1;34m(self, testing_reviews, testing_labels)\u001B[0m\n\u001B[0;32m    202\u001B[0m         \u001B[1;31m# its label.\u001B[0m\u001B[1;33m\u001B[0m\u001B[1;33m\u001B[0m\u001B[1;33m\u001B[0m\u001B[0m\n\u001B[0;32m    203\u001B[0m         \u001B[1;32mfor\u001B[0m \u001B[0mi\u001B[0m \u001B[1;32min\u001B[0m \u001B[0mrange\u001B[0m\u001B[1;33m(\u001B[0m\u001B[0mlen\u001B[0m\u001B[1;33m(\u001B[0m\u001B[0mtesting_reviews\u001B[0m\u001B[1;33m)\u001B[0m\u001B[1;33m)\u001B[0m\u001B[1;33m:\u001B[0m\u001B[1;33m\u001B[0m\u001B[1;33m\u001B[0m\u001B[0m\n\u001B[1;32m--> 204\u001B[1;33m             \u001B[0mpred\u001B[0m \u001B[1;33m=\u001B[0m \u001B[0mself\u001B[0m\u001B[1;33m.\u001B[0m\u001B[0mrun\u001B[0m\u001B[1;33m(\u001B[0m\u001B[0mtesting_reviews\u001B[0m\u001B[1;33m[\u001B[0m\u001B[0mi\u001B[0m\u001B[1;33m]\u001B[0m\u001B[1;33m)\u001B[0m\u001B[1;33m\u001B[0m\u001B[1;33m\u001B[0m\u001B[0m\n\u001B[0m\u001B[0;32m    205\u001B[0m             \u001B[1;32mif\u001B[0m \u001B[0mpred\u001B[0m \u001B[1;33m==\u001B[0m \u001B[0mtesting_labels\u001B[0m\u001B[1;33m[\u001B[0m\u001B[0mi\u001B[0m\u001B[1;33m]\u001B[0m\u001B[1;33m:\u001B[0m\u001B[1;33m\u001B[0m\u001B[1;33m\u001B[0m\u001B[0m\n\u001B[0;32m    206\u001B[0m                 \u001B[0mcorrect\u001B[0m \u001B[1;33m+=\u001B[0m \u001B[1;36m1\u001B[0m\u001B[1;33m\u001B[0m\u001B[1;33m\u001B[0m\u001B[0m\n",
      "\u001B[1;32m<ipython-input-305-083232feb297>\u001B[0m in \u001B[0;36mrun\u001B[1;34m(self, review)\u001B[0m\n\u001B[0;32m    229\u001B[0m         \u001B[1;31m#             might come from anywhere, so you should convert it\u001B[0m\u001B[1;33m\u001B[0m\u001B[1;33m\u001B[0m\u001B[1;33m\u001B[0m\u001B[0m\n\u001B[0;32m    230\u001B[0m         \u001B[1;31m#             to lower case prior to using it.\u001B[0m\u001B[1;33m\u001B[0m\u001B[1;33m\u001B[0m\u001B[1;33m\u001B[0m\u001B[0m\n\u001B[1;32m--> 231\u001B[1;33m         \u001B[0mself\u001B[0m\u001B[1;33m.\u001B[0m\u001B[0mupdate_input_layer\u001B[0m\u001B[1;33m(\u001B[0m\u001B[0mreview\u001B[0m\u001B[1;33m.\u001B[0m\u001B[0mlower\u001B[0m\u001B[1;33m(\u001B[0m\u001B[1;33m)\u001B[0m\u001B[1;33m)\u001B[0m\u001B[1;33m\u001B[0m\u001B[1;33m\u001B[0m\u001B[0m\n\u001B[0m\u001B[0;32m    232\u001B[0m         \u001B[0mfeature\u001B[0m \u001B[1;33m=\u001B[0m \u001B[0mself\u001B[0m\u001B[1;33m.\u001B[0m\u001B[0mlayer_0\u001B[0m\u001B[1;33m\u001B[0m\u001B[1;33m\u001B[0m\u001B[0m\n\u001B[0;32m    233\u001B[0m         \u001B[0minput_layer\u001B[0m \u001B[1;33m=\u001B[0m \u001B[0mfeature\u001B[0m\u001B[1;33m.\u001B[0m\u001B[0mdot\u001B[0m\u001B[1;33m(\u001B[0m\u001B[0mself\u001B[0m\u001B[1;33m.\u001B[0m\u001B[0mweights_0_1\u001B[0m\u001B[1;33m)\u001B[0m\u001B[1;33m\u001B[0m\u001B[1;33m\u001B[0m\u001B[0m\n",
      "\u001B[1;32m<ipython-input-305-083232feb297>\u001B[0m in \u001B[0;36mupdate_input_layer\u001B[1;34m(self, review)\u001B[0m\n\u001B[0;32m    105\u001B[0m         \u001B[1;31m# TODO: count how many times each word is used in the given review and store the results in layer_0\u001B[0m\u001B[1;33m\u001B[0m\u001B[1;33m\u001B[0m\u001B[1;33m\u001B[0m\u001B[0m\n\u001B[0;32m    106\u001B[0m         \u001B[1;32mfor\u001B[0m \u001B[0mword\u001B[0m \u001B[1;32min\u001B[0m \u001B[0mreview\u001B[0m\u001B[1;33m.\u001B[0m\u001B[0msplit\u001B[0m\u001B[1;33m(\u001B[0m\u001B[1;34m' '\u001B[0m\u001B[1;33m)\u001B[0m\u001B[1;33m:\u001B[0m\u001B[1;33m\u001B[0m\u001B[1;33m\u001B[0m\u001B[0m\n\u001B[1;32m--> 107\u001B[1;33m             \u001B[0mself\u001B[0m\u001B[1;33m.\u001B[0m\u001B[0mlayer_0\u001B[0m\u001B[1;33m[\u001B[0m\u001B[1;36m0\u001B[0m\u001B[1;33m]\u001B[0m\u001B[1;33m[\u001B[0m\u001B[0mself\u001B[0m\u001B[1;33m.\u001B[0m\u001B[0mword2index\u001B[0m\u001B[1;33m[\u001B[0m\u001B[0mword\u001B[0m\u001B[1;33m]\u001B[0m\u001B[1;33m]\u001B[0m \u001B[1;33m+=\u001B[0m \u001B[1;36m1\u001B[0m\u001B[1;33m\u001B[0m\u001B[1;33m\u001B[0m\u001B[0m\n\u001B[0m\u001B[0;32m    108\u001B[0m \u001B[1;33m\u001B[0m\u001B[0m\n\u001B[0;32m    109\u001B[0m     \u001B[1;32mdef\u001B[0m \u001B[0mget_target_for_label\u001B[0m\u001B[1;33m(\u001B[0m\u001B[0mself\u001B[0m\u001B[1;33m,\u001B[0m\u001B[0mlabel\u001B[0m\u001B[1;33m)\u001B[0m\u001B[1;33m:\u001B[0m\u001B[1;33m\u001B[0m\u001B[1;33m\u001B[0m\u001B[0m\n",
      "\u001B[1;31mKeyError\u001B[0m: 'reprogram'"
     ]
    }
   ],
   "source": [
    "mlp.test(reviews[-1000:],labels[-1000:])"
   ]
  },
  {
   "cell_type": "markdown",
   "metadata": {},
   "source": [
    "Run the following cell to actually train the network. During training, it will display the model's accuracy repeatedly as it trains so you can see how well it's doing."
   ]
  },
  {
   "cell_type": "code",
   "execution_count": 310,
   "metadata": {
    "collapsed": true
   },
   "outputs": [
    {
     "name": "stdout",
     "output_type": "stream",
     "text": [
      "Progress:0.0% Speed(reviews/sec):0.0 #Correct:1 #Trained:1 Training Accuracy:100.%\n",
      "Progress:10.4% Speed(reviews/sec):142.4 #Correct:1251 #Trained:2501 Training Accuracy:50.0%\n",
      "Progress:20.8% Speed(reviews/sec):140.3 #Correct:2501 #Trained:5001 Training Accuracy:50.0%\n",
      "Progress:31.2% Speed(reviews/sec):142.2 #Correct:3751 #Trained:7501 Training Accuracy:50.0%\n",
      "Progress:41.6% Speed(reviews/sec):143.3 #Correct:5001 #Trained:10001 Training Accuracy:50.0%\n",
      "Progress:52.0% Speed(reviews/sec):144.0 #Correct:6251 #Trained:12501 Training Accuracy:50.0%\n",
      "Progress:62.5% Speed(reviews/sec):144.2 #Correct:7501 #Trained:15001 Training Accuracy:50.0%\n",
      "Progress:72.9% Speed(reviews/sec):144.7 #Correct:8751 #Trained:17501 Training Accuracy:50.0%\n",
      "Progress:83.3% Speed(reviews/sec):145.1 #Correct:10001 #Trained:20001 Training Accuracy:50.0%\n",
      "Progress:93.7% Speed(reviews/sec):145.4 #Correct:11251 #Trained:22501 Training Accuracy:50.0%\n",
      "Progress:99.9% Speed(reviews/sec):145.5 #Correct:12000 #Trained:24000 Training Accuracy:50.0%"
     ]
    }
   ],
   "source": [
    "mlp.train(reviews[:-1000],labels[:-1000])"
   ]
  },
  {
   "cell_type": "markdown",
   "metadata": {},
   "source": [
    "That most likely didn't train very well. Part of the reason may be because the learning rate is too high. Run the following cell to recreate the network with a smaller learning rate, `0.01`, and then train the new network."
   ]
  },
  {
   "cell_type": "code",
   "execution_count": 224,
   "metadata": {
    "collapsed": true
   },
   "outputs": [
    {
     "name": "stdout",
     "output_type": "stream",
     "text": [
      "[[0.69314718]]\n",
      "1\n"
     ]
    }
   ],
   "source": [
    "mlp = SentimentNetwork(reviews[:-1000],labels[:-1000], learning_rate=0.01)\n",
    "mlp.train(reviews[:-1000],labels[:-1000])"
   ]
  },
  {
   "cell_type": "markdown",
   "metadata": {},
   "source": [
    "That probably wasn't much different. Run the following cell to recreate the network one more time with an even smaller learning rate, `0.001`, and then train the new network."
   ]
  },
  {
   "cell_type": "code",
   "execution_count": null,
   "metadata": {
    "collapsed": true
   },
   "outputs": [],
   "source": [
    "mlp = SentimentNetwork(reviews[:-1000],labels[:-1000], learning_rate=0.001)\n",
    "mlp.train(reviews[:-1000],labels[:-1000])"
   ]
  },
  {
   "cell_type": "markdown",
   "metadata": {},
   "source": [
    "With a learning rate of `0.001`, the network should finally have started to improve during training. It's still not very good, but it shows that this solution has potential. We will improve it in the next lesson."
   ]
  },
  {
   "cell_type": "markdown",
   "metadata": {},
   "source": [
    "# End of Project 3. \n",
    "## Watch the next video to see Andrew's solution, then continue on to the next lesson."
   ]
  },
  {
   "cell_type": "markdown",
   "metadata": {},
   "source": [
    "# Understanding Neural Noise<a id='lesson_4'></a>\n",
    "\n",
    "The following cells include includes the code Andrew shows in the next video. We've included it here so you can run the cells along with the video without having to type in everything."
   ]
  },
  {
   "cell_type": "code",
   "execution_count": null,
   "metadata": {
    "collapsed": true
   },
   "outputs": [],
   "source": [
    "from IPython.display import Image\n",
    "Image(filename='sentiment_network.png')"
   ]
  },
  {
   "cell_type": "code",
   "execution_count": null,
   "metadata": {
    "collapsed": true
   },
   "outputs": [],
   "source": [
    "def update_input_layer(review):\n",
    "    \n",
    "    global layer_0\n",
    "    \n",
    "    # clear out previous state, reset the layer to be all 0s\n",
    "    layer_0 *= 0\n",
    "    for word in review.split(\" \"):\n",
    "        layer_0[0][word2index[word]] += 1\n",
    "\n",
    "update_input_layer(reviews[0])"
   ]
  },
  {
   "cell_type": "code",
   "execution_count": null,
   "metadata": {
    "collapsed": true
   },
   "outputs": [],
   "source": [
    "layer_0"
   ]
  },
  {
   "cell_type": "code",
   "execution_count": null,
   "metadata": {
    "collapsed": true
   },
   "outputs": [],
   "source": [
    "review_counter = Counter()"
   ]
  },
  {
   "cell_type": "code",
   "execution_count": null,
   "metadata": {
    "collapsed": true
   },
   "outputs": [],
   "source": [
    "for word in reviews[0].split(\" \"):\n",
    "    review_counter[word] += 1"
   ]
  },
  {
   "cell_type": "code",
   "execution_count": null,
   "metadata": {
    "collapsed": true
   },
   "outputs": [],
   "source": [
    "review_counter.most_common()"
   ]
  },
  {
   "cell_type": "markdown",
   "metadata": {},
   "source": [
    "# Project 4: Reducing Noise in Our Input Data<a id='project_4'></a>\n",
    "\n",
    "**TODO:** Attempt to reduce the noise in the input data like Andrew did in the previous video. Specifically, do the following:\n",
    "* Copy the `SentimentNetwork` class you created earlier into the following cell.\n",
    "* Modify `update_input_layer` so it does not count how many times each word is used, but rather just stores whether or not a word was used. "
   ]
  },
  {
   "cell_type": "code",
   "execution_count": 1,
   "metadata": {
    "collapsed": true
   },
   "outputs": [],
   "source": [
    "# TODO: -Copy the SentimentNetwork class from Projet 3 lesson\n",
    "#       -Modify it to reduce noise, like in the video\n",
    "# encapsulate the neural network in a class\n",
    "class SentimentNetwork:\n",
    "\n",
    "    def __init__(self, reviews, labels, hidden_nodes=10, learning_rate=.1):\n",
    "        \"\"\"\n",
    "        Create a SentimentNetwork with the given settings\n",
    "        Args:\n",
    "            review(list) - List of reviews used for training\n",
    "            label(list) - List of POSITIVE/NEGATIVE labels associated with the given reviews\n",
    "            hidden_nodes(int) - Number of nodes to create in the hidden layer\n",
    "            learning_rate(float) - Learning rate to use while training\n",
    "        \"\"\"\n",
    "        self.reviews = reviews\n",
    "        self.labels = labels\n",
    "        self.hidden_nodes = hidden_nodes\n",
    "        self.learning_rate = learning_rate\n",
    "\n",
    "        # process the reviews and their associated labels so that everything\n",
    "        # is ready for training\n",
    "        self.preprocess_data(reviews, labels)\n",
    "\n",
    "        # Build the network to have the number of hidden nodes and the learning rate that\n",
    "        # were passed into this initializer. Make the same number of input nodes as\n",
    "        # there are vocabulary words and create a single output node\n",
    "        self.init_network(len(self.review_vocab), hidden_nodes, 1, learning_rate)\n",
    "\n",
    "    def preprocess_data(self, reviews, labels):\n",
    "        \"\"\"\n",
    "        This function breaks down review and label datasets to leave unique values to train later on.\n",
    "        :param reviews: list of reviews\n",
    "        :param labels:  list of labels\n",
    "        \"\"\"\n",
    "        review_vocab = set()\n",
    "        for review in reviews:\n",
    "            for value in review.split(' '):\n",
    "                review_vocab.add(value)\n",
    "        self.review_vocab = review_vocab\n",
    "\n",
    "        label_vocab = set()\n",
    "        for label in labels:\n",
    "            label_vocab.add(label)\n",
    "        self.label_vocab = label_vocab\n",
    "\n",
    "        # store the sizes of the review and label vocabularies\n",
    "        self.review_vocab_size = len(self.review_vocab)\n",
    "        self.label_vocab_size = len(self.label_vocab)\n",
    "\n",
    "        # create a dictionary of words in the vocabulary mapped to index positions\n",
    "        self.word2index = {}\n",
    "        for idx, word in enumerate(self.review_vocab):\n",
    "            self.word2index[word] = idx\n",
    "\n",
    "        self.label2index = {}\n",
    "        for idx, label in enumerate(self.label_vocab):\n",
    "            self.label2index[label] = idx\n",
    "\n",
    "    def init_network(self, input_nodes, hidden_nodes, output_nodes, learning_rate):\n",
    "        \"\"\"\n",
    "        Skeleton creation for further calculations. This function initializes all the essential\n",
    "        nodes and weights that will be accessed and modified throughout both training and testing stages.\n",
    "        :param input_nodes:\n",
    "        :param hidden_nodes:\n",
    "        :param output_nodes:\n",
    "        :param learning_rate:\n",
    "        \"\"\"\n",
    "        # instantiate the nodes to populate later on\n",
    "        self.input_nodes = input_nodes\n",
    "        self.hidden_nodes = hidden_nodes\n",
    "        self.output_nodes = output_nodes\n",
    "        self.learning_rate = learning_rate\n",
    "\n",
    "        # initialize the weights in both input and hidden layers\n",
    "        self.weights_0_1 = np.zeros((self.input_nodes, self.hidden_nodes))\n",
    "        self.weights_1_2 = np.random.normal(0.0, self.hidden_nodes**-0.5, (self.hidden_nodes, self.output_nodes))\n",
    "\n",
    "        self.layer_0 = np.zeros((1, input_nodes))\n",
    "\n",
    "    def update_input_layer(self, review):\n",
    "        \"\"\"\n",
    "\n",
    "        :param review:\n",
    "        :return:\n",
    "        \"\"\"\n",
    "        self.layer_0 *= 0\n",
    "\n",
    "        for word in self.word2index.keys():\n",
    "            self.layer_0[0][self.word2index[word]] = 1\n",
    "\n",
    "    @staticmethod\n",
    "    def get_target_label(label):\n",
    "        \"\"\"\n",
    "\n",
    "        :param label:\n",
    "        :return:\n",
    "        \"\"\"\n",
    "        return 0 if label == 'NEGATIVE' else 1\n",
    "\n",
    "    @staticmethod\n",
    "    def sigmoid(x):\n",
    "        \"\"\"\n",
    "\n",
    "        :param x:\n",
    "        :return:\n",
    "        \"\"\"\n",
    "        return 1 / (1 + np.exp(-x))\n",
    "\n",
    "    @staticmethod\n",
    "    def sigmoid_output_2_derivative(output):\n",
    "        \"\"\"\n",
    "\n",
    "        :param output:\n",
    "        :return:\n",
    "        \"\"\"\n",
    "        return output * (1 - output)\n",
    "\n",
    "    def train(self, training_reviews, training_labels):\n",
    "        # make sure we have a matching number of reviews and labels\n",
    "        assert len(training_reviews) == len(training_labels)\n",
    "\n",
    "        # Keep track of correct predictions to display accuracy during training\n",
    "        correct_so_far = 0\n",
    "\n",
    "        # Remember when we started for printing time statistics\n",
    "        start = time.time()\n",
    "\n",
    "        # loop through all the given reviews and run a forward and backward pass,\n",
    "        # updating weights for every item\n",
    "        for i in range(len(training_reviews)):\n",
    "            # get the next review and its correct label\n",
    "            review, label = training_reviews[i], training_labels[i]\n",
    "            target = self.get_target_label(label)\n",
    "\n",
    "            # update the whole layer\n",
    "            self.update_input_layer(review)\n",
    "\n",
    "            # perform forward propagation\n",
    "            hidden_layer = self.layer_0.dot(self.weights_0_1)\n",
    "            output_layer = self.sigmoid(hidden_layer.dot(self.weights_1_2))\n",
    "\n",
    "            ### perform a backpropagation ###\n",
    "            # calculate the output error\n",
    "            output_error = output_layer - target\n",
    "            output_change = output_error * self.sigmoid_output_2_derivative(output_layer)\n",
    "\n",
    "            # calculate backpropagated error\n",
    "            input_error = output_change.dot(self.weights_1_2.T)\n",
    "            input_change = input_error\n",
    "\n",
    "            # update the weights\n",
    "            self.weights_1_2 -= input_error.T.dot(output_change) * self.learning_rate\n",
    "            self.weights_0_1 -= self.layer_0.T.dot(input_change) * self.learning_rate\n",
    "\n",
    "            # Keep track of correct predictions. To determine if the prediction was\n",
    "            # correct, check that the absolute value of the output error\n",
    "            # is less than 0.5. If so, add one to the correct_so_far count.\n",
    "            if np.abs(output_error) < 0.5:\n",
    "                correct_so_far += 1\n",
    "\n",
    "            # For debug purposes, print out our prediction accuracy and speed\n",
    "            # throughout the training process.\n",
    "\n",
    "            elapsed_time = float(time.time() - start)\n",
    "            reviews_per_second = i / elapsed_time if elapsed_time > 0 else 0\n",
    "\n",
    "            sys.stdout.write(\"\\rProgress:\" + str(100 * i/float(len(training_reviews)))[:4] \\\n",
    "                             + \"% Speed(reviews/sec):\" + str(reviews_per_second)[0:5] \\\n",
    "                             + \" #Correct:\" + str(correct_so_far) + \" #Trained:\" + str(i+1) \\\n",
    "                             + \" Training Accuracy:\" + str(correct_so_far * 100 / float(i+1))[:4] + \"%\")\n",
    "            if i % 2500 == 0:\n",
    "                print(\"\")\n",
    "\n",
    "    def test(self, testing_reviews, testing_labels):\n",
    "        \"\"\"\n",
    "\n",
    "        :param testing_reviews:\n",
    "        :param testing_labels:\n",
    "        :return:\n",
    "        \"\"\"\n",
    "        # keep track of how many correct predictions we make\n",
    "        correct = 0\n",
    "\n",
    "        # we will time how many predictions per second we make\n",
    "        start = time.time()\n",
    "\n",
    "        # loop through each of the given reviews and call run to predict its label\n",
    "        i = 0\n",
    "        for review, label in zip(testing_reviews, testing_labels):\n",
    "            prediction = self.run(review)\n",
    "            if prediction == label:\n",
    "                correct += 1\n",
    "            # For debug purposes, print out our prediction accuracy and speed\n",
    "            # throughout the prediction process.\n",
    "\n",
    "            elapsed_time = float(time.time() - start)\n",
    "            reviews_per_second = i / elapsed_time if elapsed_time > 0 else 0\n",
    "\n",
    "            sys.stdout.write(\"\\rProgress:\" + str(100 * i/float(len(testing_reviews)))[:4] \\\n",
    "                             + \"% Speed(reviews/sec):\" + str(reviews_per_second)[0:5] \\\n",
    "                             + \" #Correct:\" + str(correct) + \" #Tested:\" + str(i+1) \\\n",
    "                             + \" Testing Accuracy:\" + str(correct * 100 / float(i+1))[:4] + \"%\")\n",
    "            i += 1\n",
    "\n",
    "    def run(self, review):\n",
    "        \"\"\"\n",
    "\n",
    "        :param review:\n",
    "        :return:\n",
    "        \"\"\"\n",
    "        # Input Layer\n",
    "        self.update_input_layer(review.lower())\n",
    "\n",
    "        # Hidden layer\n",
    "        layer_1 = self.layer_0.dot(self.weights_0_1)\n",
    "\n",
    "        # Output layer\n",
    "        layer_2 = self.sigmoid(layer_1.dot(self.weights_1_2))\n",
    "\n",
    "        # Return POSITIVE for values above greater-than-or-equal-to 0.5 in the output layer;\n",
    "        # return NEGATIVE for other values\n",
    "        if layer_2[0] >= 0.5:\n",
    "            return \"POSITIVE\"\n",
    "        else:\n",
    "            return \"NEGATIVE\""
   ]
  },
  {
   "cell_type": "markdown",
   "metadata": {},
   "source": [
    "Run the following cell to recreate the network and train it. Notice we've gone back to the higher learning rate of `0.1`."
   ]
  },
  {
   "cell_type": "code",
   "execution_count": 2,
   "metadata": {
    "collapsed": true
   },
   "outputs": [
    {
     "ename": "NameError",
     "evalue": "name 'reviews' is not defined",
     "output_type": "error",
     "traceback": [
      "\u001B[1;31m---------------------------------------------------------------------------\u001B[0m",
      "\u001B[1;31mNameError\u001B[0m                                 Traceback (most recent call last)",
      "\u001B[1;32m<ipython-input-2-8f1561f2a8ec>\u001B[0m in \u001B[0;36m<module>\u001B[1;34m\u001B[0m\n\u001B[1;32m----> 1\u001B[1;33m \u001B[0mmlp\u001B[0m \u001B[1;33m=\u001B[0m \u001B[0mSentimentNetwork\u001B[0m\u001B[1;33m(\u001B[0m\u001B[0mreviews\u001B[0m\u001B[1;33m[\u001B[0m\u001B[1;33m:\u001B[0m\u001B[1;33m-\u001B[0m\u001B[1;36m1000\u001B[0m\u001B[1;33m]\u001B[0m\u001B[1;33m,\u001B[0m\u001B[0mlabels\u001B[0m\u001B[1;33m[\u001B[0m\u001B[1;33m:\u001B[0m\u001B[1;33m-\u001B[0m\u001B[1;36m1000\u001B[0m\u001B[1;33m]\u001B[0m\u001B[1;33m,\u001B[0m \u001B[0mlearning_rate\u001B[0m\u001B[1;33m=\u001B[0m\u001B[1;36m0.1\u001B[0m\u001B[1;33m)\u001B[0m\u001B[1;33m\u001B[0m\u001B[1;33m\u001B[0m\u001B[0m\n\u001B[0m\u001B[0;32m      2\u001B[0m \u001B[0mmlp\u001B[0m\u001B[1;33m.\u001B[0m\u001B[0mtrain\u001B[0m\u001B[1;33m(\u001B[0m\u001B[0mreviews\u001B[0m\u001B[1;33m[\u001B[0m\u001B[1;33m:\u001B[0m\u001B[1;33m-\u001B[0m\u001B[1;36m1000\u001B[0m\u001B[1;33m]\u001B[0m\u001B[1;33m,\u001B[0m\u001B[0mlabels\u001B[0m\u001B[1;33m[\u001B[0m\u001B[1;33m:\u001B[0m\u001B[1;33m-\u001B[0m\u001B[1;36m1000\u001B[0m\u001B[1;33m]\u001B[0m\u001B[1;33m)\u001B[0m\u001B[1;33m\u001B[0m\u001B[1;33m\u001B[0m\u001B[0m\n\u001B[0;32m      3\u001B[0m \u001B[1;33m\u001B[0m\u001B[0m\n",
      "\u001B[1;31mNameError\u001B[0m: name 'reviews' is not defined"
     ]
    }
   ],
   "source": [
    "mlp = SentimentNetwork(reviews[:-1000],labels[:-1000], learning_rate=0.1)\n",
    "mlp.train(reviews[:-1000],labels[:-1000])"
   ]
  },
  {
   "cell_type": "markdown",
   "metadata": {},
   "source": [
    "That should have trained much better than the earlier attempts. It's still not wonderful, but it should have improved dramatically. Run the following cell to test your model with 1000 predictions."
   ]
  },
  {
   "cell_type": "code",
   "execution_count": null,
   "metadata": {
    "collapsed": true
   },
   "outputs": [],
   "source": [
    "mlp.test(reviews[-1000:],labels[-1000:])"
   ]
  },
  {
   "cell_type": "markdown",
   "metadata": {},
   "source": [
    "# End of Project 4. \n",
    "## Andrew's solution was actually in the previous video, so rewatch that video if you had any problems with that project. Then continue on to the next lesson.\n",
    "# Analyzing Inefficiencies in our Network<a id='lesson_5'></a>\n",
    "The following cells include the code Andrew shows in the next video. We've included it here so you can run the cells along with the video without having to type in everything."
   ]
  },
  {
   "cell_type": "code",
   "execution_count": null,
   "metadata": {
    "collapsed": true
   },
   "outputs": [],
   "source": [
    "Image(filename='sentiment_network_sparse.png')"
   ]
  },
  {
   "cell_type": "code",
   "execution_count": null,
   "metadata": {
    "collapsed": true
   },
   "outputs": [],
   "source": [
    "layer_0 = np.zeros(10)"
   ]
  },
  {
   "cell_type": "code",
   "execution_count": null,
   "metadata": {
    "collapsed": true
   },
   "outputs": [],
   "source": [
    "layer_0"
   ]
  },
  {
   "cell_type": "code",
   "execution_count": null,
   "metadata": {
    "collapsed": true
   },
   "outputs": [],
   "source": [
    "layer_0[4] = 1\n",
    "layer_0[9] = 1"
   ]
  },
  {
   "cell_type": "code",
   "execution_count": null,
   "metadata": {
    "collapsed": true
   },
   "outputs": [],
   "source": [
    "layer_0"
   ]
  },
  {
   "cell_type": "code",
   "execution_count": null,
   "metadata": {
    "collapsed": true
   },
   "outputs": [],
   "source": [
    "weights_0_1 = np.random.randn(10,5)"
   ]
  },
  {
   "cell_type": "code",
   "execution_count": null,
   "metadata": {
    "collapsed": true
   },
   "outputs": [],
   "source": [
    "layer_0.dot(weights_0_1)"
   ]
  },
  {
   "cell_type": "code",
   "execution_count": null,
   "metadata": {
    "collapsed": true
   },
   "outputs": [],
   "source": [
    "indices = [4,9]"
   ]
  },
  {
   "cell_type": "code",
   "execution_count": null,
   "metadata": {
    "collapsed": true
   },
   "outputs": [],
   "source": [
    "layer_1 = np.zeros(5)"
   ]
  },
  {
   "cell_type": "code",
   "execution_count": null,
   "metadata": {
    "collapsed": true
   },
   "outputs": [],
   "source": [
    "for index in indices:\n",
    "    layer_1 += (1 * weights_0_1[index])"
   ]
  },
  {
   "cell_type": "code",
   "execution_count": null,
   "metadata": {
    "collapsed": true
   },
   "outputs": [],
   "source": [
    "layer_1"
   ]
  },
  {
   "cell_type": "code",
   "execution_count": null,
   "metadata": {
    "collapsed": true
   },
   "outputs": [],
   "source": [
    "Image(filename='sentiment_network_sparse_2.png')"
   ]
  },
  {
   "cell_type": "code",
   "execution_count": null,
   "metadata": {
    "collapsed": true
   },
   "outputs": [],
   "source": [
    "layer_1 = np.zeros(5)"
   ]
  },
  {
   "cell_type": "code",
   "execution_count": null,
   "metadata": {
    "collapsed": true
   },
   "outputs": [],
   "source": [
    "for index in indices:\n",
    "    layer_1 += (weights_0_1[index])"
   ]
  },
  {
   "cell_type": "code",
   "execution_count": null,
   "metadata": {
    "collapsed": true
   },
   "outputs": [],
   "source": [
    "layer_1"
   ]
  },
  {
   "cell_type": "markdown",
   "metadata": {},
   "source": [
    "# Project 5: Making our Network More Efficient<a id='project_5'></a>\n",
    "**TODO:** Make the `SentimentNetwork` class more efficient by eliminating unnecessary multiplications and additions that occur during forward and backward propagation. To do that, you can do the following:\n",
    "* Copy the `SentimentNetwork` class from the previous project into the following cell.\n",
    "* Remove the `update_input_layer` function - you will not need it in this version.\n",
    "* Modify `init_network`:\n",
    ">* You no longer need a separate input layer, so remove any mention of `self.layer_0`\n",
    ">* You will be dealing with the old hidden layer more directly, so create `self.layer_1`, a two-dimensional matrix with shape 1 x hidden_nodes, with all values initialized to zero\n",
    "* Modify `train`:\n",
    ">* Change the name of the input parameter `training_reviews` to `training_reviews_raw`. This will help with the next step.\n",
    ">* At the beginning of the function, you'll want to preprocess your reviews to convert them to a list of indices (from `word2index`) that are actually used in the review. This is equivalent to what you saw in the video when Andrew set specific indices to 1. Your code should create a local `list` variable named `training_reviews` that should contain a `list` for each review in `training_reviews_raw`. Those lists should contain the indices for words found in the review.\n",
    ">* Remove call to `update_input_layer`\n",
    ">* Use `self`'s  `layer_1` instead of a local `layer_1` object.\n",
    ">* In the forward pass, replace the code that updates `layer_1` with new logic that only adds the weights for the indices used in the review.\n",
    ">* When updating `weights_0_1`, only update the individual weights that were used in the forward pass.\n",
    "* Modify `run`:\n",
    ">* Remove call to `update_input_layer` \n",
    ">* Use `self`'s  `layer_1` instead of a local `layer_1` object.\n",
    ">* Much like you did in `train`, you will need to pre-process the `review` so you can work with word indices, then update `layer_1` by adding weights for the indices used in the review."
   ]
  },
  {
   "cell_type": "code",
   "execution_count": 11,
   "metadata": {
    "collapsed": true
   },
   "outputs": [],
   "source": [
    "import numpy as np\n",
    "import time\n",
    "\n",
    "# TODO: -Copy the SentimentNetwork class from Project 4 lesson\n",
    "#       -Modify it according to the above instructions \n",
    "# Encapsulate our neural network in a class\n",
    "class SentimentNetwork:\n",
    "    def __init__(self, reviews,labels,hidden_nodes = 10, learning_rate = 0.1):\n",
    "        \"\"\"Create a SentimenNetwork with the given settings\n",
    "        Args:\n",
    "            reviews(list) - List of reviews used for training\n",
    "            labels(list) - List of POSITIVE/NEGATIVE labels associated with the given reviews\n",
    "            hidden_nodes(int) - Number of nodes to create in the hidden layer\n",
    "            learning_rate(float) - Learning rate to use while training\n",
    "\n",
    "        \"\"\"\n",
    "        # Assign a seed to our random number generator to ensure we get\n",
    "        # reproducable results during development\n",
    "        np.random.seed(1)\n",
    "\n",
    "        # process the reviews and their associated labels so that everything\n",
    "        # is ready for training\n",
    "        self.pre_process_data(reviews, labels)\n",
    "\n",
    "        # Build the network to have the number of hidden nodes and the learning rate that\n",
    "        # were passed into this initializer. Make the same number of input nodes as\n",
    "        # there are vocabulary words and create a single output node.\n",
    "        self.init_network(len(self.review_vocab),hidden_nodes, 1, learning_rate)\n",
    "\n",
    "    def pre_process_data(self, reviews, labels):\n",
    "\n",
    "        # populate review_vocab with all of the words in the given reviews\n",
    "        review_vocab = set()\n",
    "        for review in reviews:\n",
    "            for word in review.split(\" \"):\n",
    "                review_vocab.add(word)\n",
    "\n",
    "        # Convert the vocabulary set to a list so we can access words via indices\n",
    "        self.review_vocab = list(review_vocab)\n",
    "\n",
    "        # populate label_vocab with all of the words in the given labels.\n",
    "        label_vocab = set()\n",
    "        for label in labels:\n",
    "            label_vocab.add(label)\n",
    "\n",
    "        # Convert the label vocabulary set to a list so we can access labels via indices\n",
    "        self.label_vocab = list(label_vocab)\n",
    "\n",
    "        # Store the sizes of the review and label vocabularies.\n",
    "        self.review_vocab_size = len(self.review_vocab)\n",
    "        self.label_vocab_size = len(self.label_vocab)\n",
    "\n",
    "        # Create a dictionary of words in the vocabulary mapped to index positions\n",
    "        self.word2index = {}\n",
    "        for i, word in enumerate(self.review_vocab):\n",
    "            self.word2index[word] = i\n",
    "\n",
    "        # Create a dictionary of labels mapped to index positions\n",
    "        self.label2index = {}\n",
    "        for i, label in enumerate(self.label_vocab):\n",
    "            self.label2index[label] = i\n",
    "\n",
    "    def init_network(self, input_nodes, hidden_nodes, output_nodes, learning_rate):\n",
    "        # Set number of nodes in input, hidden and output layers.\n",
    "        self.input_nodes = input_nodes\n",
    "        self.hidden_nodes = hidden_nodes\n",
    "        self.output_nodes = output_nodes\n",
    "\n",
    "        # Store the learning rate\n",
    "        self.learning_rate = learning_rate\n",
    "\n",
    "        # Initialize weights\n",
    "\n",
    "        # These are the weights between the input layer and the hidden layer.\n",
    "        self.weights_0_1 = np.zeros((self.input_nodes,self.hidden_nodes))\n",
    "\n",
    "        # These are the weights between the hidden layer and the output layer.\n",
    "        self.weights_1_2 = np.random.normal(0.0, self.output_nodes**-0.5,\n",
    "                                                (self.hidden_nodes, self.output_nodes))\n",
    "\n",
    "        ## New for Project 5: Removed self.layer_0; added self.layer_1\n",
    "        # The input layer, a two-dimensional matrix with shape 1 x hidden_nodes\n",
    "        self.layer_1 = np.zeros((1,hidden_nodes))\n",
    "\n",
    "    ## New for Project 5: Removed update_input_layer function\n",
    "\n",
    "    def get_target_for_label(self,label):\n",
    "        if(label == 'POSITIVE'):\n",
    "            return 1\n",
    "        else:\n",
    "            return 0\n",
    "\n",
    "    def sigmoid(self,x):\n",
    "        return 1 / (1 + np.exp(-x))\n",
    "\n",
    "    def sigmoid_output_2_derivative(self,output):\n",
    "        return output * (1 - output)\n",
    "\n",
    "    ## New for Project 5: changed name of first parameter form 'training_reviews'\n",
    "    #                     to 'training_reviews_raw'\n",
    "    def train(self, training_reviews_raw, training_labels):\n",
    "\n",
    "        ## New for Project 5: pre-process training reviews so we can deal\n",
    "        #                     directly with the indices of non-zero inputs\n",
    "        training_reviews = list()\n",
    "        for review in training_reviews_raw:\n",
    "            indices = set()\n",
    "            for word in review.split(\" \"):\n",
    "                if(word in self.word2index.keys()):\n",
    "                    indices.add(self.word2index[word])\n",
    "            training_reviews.append(list(indices))\n",
    "\n",
    "        # make sure out we have a matching number of reviews and labels\n",
    "        assert(len(training_reviews) == len(training_labels))\n",
    "\n",
    "        # Keep track of correct predictions to display accuracy during training\n",
    "        correct_so_far = 0\n",
    "\n",
    "        # Remember when we started for printing time statistics\n",
    "        start = time.time()\n",
    "\n",
    "        # loop through all the given reviews and run a forward and backward pass,\n",
    "        # updating weights for every item\n",
    "        for i in range(len(training_reviews)):\n",
    "\n",
    "            # Get the next review and its correct label\n",
    "            review = training_reviews[i]\n",
    "            label = training_labels[i]\n",
    "\n",
    "            #### Implement the forward pass here ####\n",
    "            ### Forward pass ###\n",
    "\n",
    "            ## New for Project 5: Removed call to 'update_input_layer' function\n",
    "            #                     because 'layer_0' is no longer used\n",
    "\n",
    "            # Hidden layer\n",
    "            ## New for Project 5: Add in only the weights for non-zero items\n",
    "            self.layer_1 *= 0\n",
    "            for index in review:\n",
    "                self.layer_1 += self.weights_0_1[index]\n",
    "\n",
    "            # Output layer\n",
    "            ## New for Project 5: changed to use 'self.layer_1' instead of 'local layer_1'\n",
    "            layer_2 = self.sigmoid(self.layer_1.dot(self.weights_1_2))\n",
    "\n",
    "            #### Implement the backward pass here ####\n",
    "            ### Backward pass ###\n",
    "\n",
    "            # Output error\n",
    "            layer_2_error = layer_2 - self.get_target_for_label(label) # Output layer error is the difference between desired target and actual output.\n",
    "            layer_2_delta = layer_2_error * self.sigmoid_output_2_derivative(layer_2)\n",
    "\n",
    "            # Backpropagated error\n",
    "            layer_1_error = layer_2_delta.dot(self.weights_1_2.T) # errors propagated to the hidden layer\n",
    "            layer_1_delta = layer_1_error # hidden layer gradients - no nonlinearity so it's the same as the error\n",
    "\n",
    "            # Update the weights\n",
    "            ## New for Project 5: changed to use 'self.layer_1' instead of local 'layer_1'\n",
    "            self.weights_1_2 -= self.layer_1.T.dot(layer_2_delta) * self.learning_rate # update hidden-to-output weights with gradient descent step\n",
    "\n",
    "            ## New for Project 5: Only update the weights that were used in the forward pass\n",
    "            for index in review:\n",
    "                self.weights_0_1[index] -= layer_1_delta[0] * self.learning_rate # update input-to-hidden weights with gradient descent step\n",
    "\n",
    "            # Keep track of correct predictions.\n",
    "            if(layer_2 >= 0.5 and label == 'POSITIVE'):\n",
    "                correct_so_far += 1\n",
    "            elif(layer_2 < 0.5 and label == 'NEGATIVE'):\n",
    "                correct_so_far += 1\n",
    "\n",
    "            # For debug purposes, print out our prediction accuracy and speed\n",
    "            # throughout the training process.\n",
    "            elapsed_time = float(time.time() - start)\n",
    "            reviews_per_second = i / elapsed_time if elapsed_time > 0 else 0\n",
    "\n",
    "            sys.stdout.write(\"\\rProgress:\" + str(100 * i/float(len(training_reviews)))[:4] \\\n",
    "                             + \"% Speed(reviews/sec):\" + str(reviews_per_second)[0:5] \\\n",
    "                             + \" #Correct:\" + str(correct_so_far) + \" #Trained:\" + str(i+1) \\\n",
    "                             + \" Training Accuracy:\" + str(correct_so_far * 100 / float(i+1))[:4] + \"%\")\n",
    "            if(i % 2500 == 0):\n",
    "                print(\"\")\n",
    "\n",
    "    def test(self, testing_reviews, testing_labels):\n",
    "        \"\"\"\n",
    "        Attempts to predict the labels for the given testing_reviews,\n",
    "        and uses the test_labels to calculate the accuracy of those predictions.\n",
    "        \"\"\"\n",
    "\n",
    "        # keep track of how many correct predictions we make\n",
    "        correct = 0\n",
    "\n",
    "        # we'll time how many predictions per second we make\n",
    "        start = time.time()\n",
    "\n",
    "        # Loop through each of the given reviews and call run to predict\n",
    "        # its label.\n",
    "        for i in range(len(testing_reviews)):\n",
    "            pred = self.run(testing_reviews[i])\n",
    "            if(pred == testing_labels[i]):\n",
    "                correct += 1\n",
    "\n",
    "            # For debug purposes, print out our prediction accuracy and speed\n",
    "            # throughout the prediction process.\n",
    "\n",
    "            elapsed_time = float(time.time() - start)\n",
    "            reviews_per_second = i / elapsed_time if elapsed_time > 0 else 0\n",
    "\n",
    "            sys.stdout.write(\"\\rProgress:\" + str(100 * i/float(len(testing_reviews)))[:4] \\\n",
    "                             + \"% Speed(reviews/sec):\" + str(reviews_per_second)[0:5] \\\n",
    "                             + \" #Correct:\" + str(correct) + \" #Tested:\" + str(i+1) \\\n",
    "                             + \" Testing Accuracy:\" + str(correct * 100 / float(i+1))[:4] + \"%\")\n",
    "\n",
    "    def run(self, review):\n",
    "        \"\"\"\n",
    "        Returns a POSITIVE or NEGATIVE prediction for the given review.\n",
    "        \"\"\"\n",
    "        # Run a forward pass through the network, like in the \"train\" function.\n",
    "\n",
    "        ## New for Project 5: Removed call to update_input_layer function\n",
    "        #                     because layer_0 is no longer used\n",
    "\n",
    "        # Hidden layer\n",
    "        ## New for Project 5: Identify the indices used in the review and then add\n",
    "        #                     just those weights to layer_1\n",
    "        self.layer_1 *= 0\n",
    "        unique_indices = set()\n",
    "        for word in review.lower().split(\" \"):\n",
    "            if word in self.word2index.keys():\n",
    "                unique_indices.add(self.word2index[word])\n",
    "        for index in unique_indices:\n",
    "            self.layer_1 += self.weights_0_1[index]\n",
    "\n",
    "        # Output layer\n",
    "        ## New for Project 5: changed to use self.layer_1 instead of local layer_1\n",
    "        layer_2 = self.sigmoid(self.layer_1.dot(self.weights_1_2))\n",
    "\n",
    "        # Return POSITIVE for values above greater-than-or-equal-to 0.5 in the output layer;\n",
    "        # return NEGATIVE for other values\n",
    "        if(layer_2[0] >= 0.5):\n",
    "            return \"POSITIVE\"\n",
    "        else:\n",
    "            return \"NEGATIVE\"\n"
   ]
  },
  {
   "cell_type": "markdown",
   "metadata": {},
   "source": [
    "Run the following cell to recreate the network and train it once again."
   ]
  },
  {
   "cell_type": "code",
   "execution_count": 12,
   "metadata": {
    "collapsed": true
   },
   "outputs": [
    {
     "name": "stdout",
     "output_type": "stream",
     "text": [
      "Progress:0.0% Speed(reviews/sec):0.0 #Correct:1 #Trained:1 Training Accuracy:100.%\n",
      "Progress:10.4% Speed(reviews/sec):1923. #Correct:1789 #Trained:2501 Training Accuracy:71.5%\n",
      "Progress:20.8% Speed(reviews/sec):1894. #Correct:3754 #Trained:5001 Training Accuracy:75.0%\n",
      "Progress:31.2% Speed(reviews/sec):1892. #Correct:5845 #Trained:7501 Training Accuracy:77.9%\n",
      "Progress:41.6% Speed(reviews/sec):1888. #Correct:7976 #Trained:10001 Training Accuracy:79.7%\n",
      "Progress:52.0% Speed(reviews/sec):1883. #Correct:10107 #Trained:12501 Training Accuracy:80.8%\n",
      "Progress:62.5% Speed(reviews/sec):1874. #Correct:12242 #Trained:15001 Training Accuracy:81.6%\n",
      "Progress:72.9% Speed(reviews/sec):1815. #Correct:14361 #Trained:17501 Training Accuracy:82.0%\n",
      "Progress:83.3% Speed(reviews/sec):1819. #Correct:16539 #Trained:20001 Training Accuracy:82.6%\n",
      "Progress:93.7% Speed(reviews/sec):1824. #Correct:18724 #Trained:22501 Training Accuracy:83.2%\n",
      "Progress:99.9% Speed(reviews/sec):1827. #Correct:20045 #Trained:24000 Training Accuracy:83.5%"
     ]
    }
   ],
   "source": [
    "mlp = SentimentNetwork(reviews[:-1000],labels[:-1000], learning_rate=0.1)\n",
    "mlp.train(reviews[:-1000],labels[:-1000])"
   ]
  },
  {
   "cell_type": "markdown",
   "metadata": {},
   "source": [
    "That should have trained much better than the earlier attempts. Run the following cell to test your model with 1000 predictions."
   ]
  },
  {
   "cell_type": "code",
   "execution_count": null,
   "metadata": {
    "collapsed": true
   },
   "outputs": [],
   "source": [
    "mlp.test(reviews[-1000:],labels[-1000:])"
   ]
  },
  {
   "cell_type": "markdown",
   "metadata": {},
   "source": [
    "# End of Project 5. \n",
    "## Watch the next video to see Andrew's solution, then continue on to the next lesson.\n",
    "# Further Noise Reduction<a id='lesson_6'></a>"
   ]
  },
  {
   "cell_type": "code",
   "execution_count": null,
   "metadata": {
    "collapsed": true
   },
   "outputs": [],
   "source": [
    "Image(filename='sentiment_network_sparse_2.png')"
   ]
  },
  {
   "cell_type": "code",
   "execution_count": null,
   "metadata": {
    "collapsed": true
   },
   "outputs": [],
   "source": [
    "# words most frequently seen in a review with a \"POSITIVE\" label\n",
    "pos_neg_ratios.most_common()"
   ]
  },
  {
   "cell_type": "code",
   "execution_count": null,
   "metadata": {
    "collapsed": true
   },
   "outputs": [],
   "source": [
    "# words most frequently seen in a review with a \"NEGATIVE\" label\n",
    "list(reversed(pos_neg_ratios.most_common()))[0:30]"
   ]
  },
  {
   "cell_type": "code",
   "execution_count": null,
   "metadata": {
    "collapsed": true
   },
   "outputs": [],
   "source": [
    "from bokeh.models import ColumnDataSource, LabelSet\n",
    "from bokeh.plotting import figure, show, output_file\n",
    "from bokeh.io import output_notebook\n",
    "output_notebook()"
   ]
  },
  {
   "cell_type": "code",
   "execution_count": null,
   "metadata": {
    "collapsed": true
   },
   "outputs": [],
   "source": [
    "hist, edges = np.histogram(list(map(lambda x:x[1],pos_neg_ratios.most_common())), density=True, bins=100, normed=True)\n",
    "\n",
    "p = figure(tools=\"pan,wheel_zoom,reset,save\",\n",
    "           toolbar_location=\"above\",\n",
    "           title=\"Word Positive/Negative Affinity Distribution\")\n",
    "p.quad(top=hist, bottom=0, left=edges[:-1], right=edges[1:], line_color=\"#555555\")\n",
    "show(p)"
   ]
  },
  {
   "cell_type": "code",
   "execution_count": null,
   "metadata": {
    "collapsed": true
   },
   "outputs": [],
   "source": [
    "frequency_frequency = Counter()\n",
    "\n",
    "for word, cnt in total_counts.most_common():\n",
    "    frequency_frequency[cnt] += 1"
   ]
  },
  {
   "cell_type": "code",
   "execution_count": null,
   "metadata": {
    "collapsed": true
   },
   "outputs": [],
   "source": [
    "hist, edges = np.histogram(list(map(lambda x:x[1],frequency_frequency.most_common())), density=True, bins=100, normed=True)\n",
    "\n",
    "p = figure(tools=\"pan,wheel_zoom,reset,save\",\n",
    "           toolbar_location=\"above\",\n",
    "           title=\"The frequency distribution of the words in our corpus\")\n",
    "p.quad(top=hist, bottom=0, left=edges[:-1], right=edges[1:], line_color=\"#555555\")\n",
    "show(p)"
   ]
  },
  {
   "cell_type": "markdown",
   "metadata": {},
   "source": [
    "# Project 6: Reducing Noise by Strategically Reducing the Vocabulary<a id='project_6'></a>\n",
    "\n",
    "**TODO:** Improve `SentimentNetwork`'s performance by reducing more noise in the vocabulary. Specifically, do the following:\n",
    "* Copy the `SentimentNetwork` class from the previous project into the following cell.\n",
    "* Modify `pre_process_data`:\n",
    ">* Add two additional parameters: `min_count` and `polarity_cutoff`\n",
    ">* Calculate the positive-to-negative ratios of words used in the reviews. (You can use code you've written elsewhere in the notebook, but we are moving it into the class like we did with other helper code earlier.)\n",
    ">* Andrew's solution only calculates a postive-to-negative ratio for words that occur at least 50 times. This keeps the network from attributing too much sentiment to rarer words. You can choose to add this to your solution if you would like.  \n",
    ">* Change so words are only added to the vocabulary if they occur in the vocabulary more than `min_count` times.\n",
    ">* Change so words are only added to the vocabulary if the absolute value of their postive-to-negative ratio is at least `polarity_cutoff`\n",
    "* Modify `__init__`:\n",
    ">* Add the same two parameters (`min_count` and `polarity_cutoff`) and use them when you call `pre_process_data`"
   ]
  },
  {
   "cell_type": "code",
   "execution_count": null,
   "metadata": {
    "collapsed": true
   },
   "outputs": [],
   "source": [
    "# TODO: -Copy the SentimentNetwork class from Project 5 lesson\n",
    "#       -Modify it according to the above instructions "
   ]
  },
  {
   "cell_type": "markdown",
   "metadata": {},
   "source": [
    "Run the following cell to train your network with a small polarity cutoff."
   ]
  },
  {
   "cell_type": "code",
   "execution_count": null,
   "metadata": {
    "collapsed": true
   },
   "outputs": [],
   "source": [
    "mlp = SentimentNetwork(reviews[:-1000],labels[:-1000],min_count=20,polarity_cutoff=0.05,learning_rate=0.01)\n",
    "mlp.train(reviews[:-1000],labels[:-1000])"
   ]
  },
  {
   "cell_type": "markdown",
   "metadata": {},
   "source": [
    "And run the following cell to test it's performance. It should be "
   ]
  },
  {
   "cell_type": "code",
   "execution_count": null,
   "metadata": {
    "collapsed": true
   },
   "outputs": [],
   "source": [
    "mlp.test(reviews[-1000:],labels[-1000:])"
   ]
  },
  {
   "cell_type": "markdown",
   "metadata": {},
   "source": [
    "Run the following cell to train your network with a much larger polarity cutoff."
   ]
  },
  {
   "cell_type": "code",
   "execution_count": null,
   "metadata": {
    "collapsed": true
   },
   "outputs": [],
   "source": [
    "mlp = SentimentNetwork(reviews[:-1000],labels[:-1000],min_count=20,polarity_cutoff=0.8,learning_rate=0.01)\n",
    "mlp.train(reviews[:-1000],labels[:-1000])"
   ]
  },
  {
   "cell_type": "markdown",
   "metadata": {},
   "source": [
    "And run the following cell to test it's performance."
   ]
  },
  {
   "cell_type": "code",
   "execution_count": null,
   "metadata": {
    "collapsed": true
   },
   "outputs": [],
   "source": [
    "mlp.test(reviews[-1000:],labels[-1000:])"
   ]
  },
  {
   "cell_type": "markdown",
   "metadata": {},
   "source": [
    "# End of Project 6. \n",
    "## Watch the next video to see Andrew's solution, then continue on to the next lesson."
   ]
  },
  {
   "cell_type": "markdown",
   "metadata": {
    "collapsed": true
   },
   "source": [
    "# Analysis: What's Going on in the Weights?<a id='lesson_7'></a>"
   ]
  },
  {
   "cell_type": "code",
   "execution_count": null,
   "metadata": {
    "collapsed": true
   },
   "outputs": [],
   "source": [
    "mlp_full = SentimentNetwork(reviews[:-1000],labels[:-1000],min_count=0,polarity_cutoff=0,learning_rate=0.01)"
   ]
  },
  {
   "cell_type": "code",
   "execution_count": null,
   "metadata": {
    "collapsed": true
   },
   "outputs": [],
   "source": [
    "mlp_full.train(reviews[:-1000],labels[:-1000])"
   ]
  },
  {
   "cell_type": "code",
   "execution_count": null,
   "metadata": {
    "collapsed": true
   },
   "outputs": [],
   "source": [
    "Image(filename='sentiment_network_sparse.png')"
   ]
  },
  {
   "cell_type": "code",
   "execution_count": null,
   "metadata": {
    "collapsed": true
   },
   "outputs": [],
   "source": [
    "def get_most_similar_words(focus = \"horrible\"):\n",
    "    most_similar = Counter()\n",
    "\n",
    "    for word in mlp_full.word2index.keys():\n",
    "        most_similar[word] = np.dot(mlp_full.weights_0_1[mlp_full.word2index[word]],mlp_full.weights_0_1[mlp_full.word2index[focus]])\n",
    "    \n",
    "    return most_similar.most_common()"
   ]
  },
  {
   "cell_type": "code",
   "execution_count": null,
   "metadata": {
    "collapsed": true
   },
   "outputs": [],
   "source": [
    "get_most_similar_words(\"excellent\")"
   ]
  },
  {
   "cell_type": "code",
   "execution_count": null,
   "metadata": {
    "collapsed": true
   },
   "outputs": [],
   "source": [
    "get_most_similar_words(\"terrible\")"
   ]
  },
  {
   "cell_type": "code",
   "execution_count": null,
   "metadata": {
    "collapsed": true
   },
   "outputs": [],
   "source": [
    "import matplotlib.colors as colors\n",
    "\n",
    "words_to_visualize = list()\n",
    "for word, ratio in pos_neg_ratios.most_common(500):\n",
    "    if(word in mlp_full.word2index.keys()):\n",
    "        words_to_visualize.append(word)\n",
    "    \n",
    "for word, ratio in list(reversed(pos_neg_ratios.most_common()))[0:500]:\n",
    "    if(word in mlp_full.word2index.keys()):\n",
    "        words_to_visualize.append(word)"
   ]
  },
  {
   "cell_type": "code",
   "execution_count": null,
   "metadata": {
    "collapsed": true
   },
   "outputs": [],
   "source": [
    "pos = 0\n",
    "neg = 0\n",
    "\n",
    "colors_list = list()\n",
    "vectors_list = list()\n",
    "for word in words_to_visualize:\n",
    "    if word in pos_neg_ratios.keys():\n",
    "        vectors_list.append(mlp_full.weights_0_1[mlp_full.word2index[word]])\n",
    "        if(pos_neg_ratios[word] > 0):\n",
    "            pos+=1\n",
    "            colors_list.append(\"#00ff00\")\n",
    "        else:\n",
    "            neg+=1\n",
    "            colors_list.append(\"#000000\")"
   ]
  },
  {
   "cell_type": "code",
   "execution_count": null,
   "metadata": {
    "collapsed": true
   },
   "outputs": [],
   "source": [
    "from sklearn.manifold import TSNE\n",
    "tsne = TSNE(n_components=2, random_state=0)\n",
    "words_top_ted_tsne = tsne.fit_transform(vectors_list)"
   ]
  },
  {
   "cell_type": "code",
   "execution_count": 13,
   "metadata": {
    "collapsed": true
   },
   "outputs": [
    {
     "ename": "NameError",
     "evalue": "name 'figure' is not defined",
     "output_type": "error",
     "traceback": [
      "\u001B[1;31m---------------------------------------------------------------------------\u001B[0m",
      "\u001B[1;31mNameError\u001B[0m                                 Traceback (most recent call last)",
      "\u001B[1;32m<ipython-input-13-ef93e6f13b60>\u001B[0m in \u001B[0;36m<module>\u001B[1;34m\u001B[0m\n\u001B[1;32m----> 1\u001B[1;33m p = figure(tools=\"pan,wheel_zoom,reset,save\",\n\u001B[0m\u001B[0;32m      2\u001B[0m            \u001B[0mtoolbar_location\u001B[0m\u001B[1;33m=\u001B[0m\u001B[1;34m\"above\"\u001B[0m\u001B[1;33m,\u001B[0m\u001B[1;33m\u001B[0m\u001B[1;33m\u001B[0m\u001B[0m\n\u001B[0;32m      3\u001B[0m            title=\"vector T-SNE for most polarized words\")\n\u001B[0;32m      4\u001B[0m \u001B[1;33m\u001B[0m\u001B[0m\n\u001B[0;32m      5\u001B[0m source = ColumnDataSource(data=dict(x1=words_top_ted_tsne[:,0],\n",
      "\u001B[1;31mNameError\u001B[0m: name 'figure' is not defined"
     ]
    }
   ],
   "source": [
    "p = figure(tools=\"pan,wheel_zoom,reset,save\",\n",
    "           toolbar_location=\"above\",\n",
    "           title=\"vector T-SNE for most polarized words\")\n",
    "\n",
    "source = ColumnDataSource(data=dict(x1=words_top_ted_tsne[:,0],\n",
    "                                    x2=words_top_ted_tsne[:,1],\n",
    "                                    names=words_to_visualize,\n",
    "                                    color=colors_list))\n",
    "\n",
    "p.scatter(x=\"x1\", y=\"x2\", size=8, source=source, fill_color=\"color\")\n",
    "\n",
    "word_labels = LabelSet(x=\"x1\", y=\"x2\", text=\"names\", y_offset=6,\n",
    "                  text_font_size=\"8pt\", text_color=\"#555555\",\n",
    "                  source=source, text_align='center')\n",
    "p.add_layout(word_labels)\n",
    "\n",
    "show(p)\n",
    "\n",
    "# green indicates positive words, black indicates negative words"
   ]
  },
  {
   "cell_type": "code",
   "execution_count": 15,
   "outputs": [],
   "source": [
    "# Encapsulate our neural network in a class\n",
    "class SentimentNetwork:\n",
    "    ## New for Project 6: added min_count and polarity_cutoff parameters\n",
    "    def __init__(self, reviews,labels,min_count = 10,polarity_cutoff = 0.1,hidden_nodes = 10, learning_rate = 0.1):\n",
    "        \"\"\"Create a SentimenNetwork with the given settings\n",
    "        Args:\n",
    "            reviews(list) - List of reviews used for training\n",
    "            labels(list) - List of POSITIVE/NEGATIVE labels associated with the given reviews\n",
    "            min_count(int) - Words should only be added to the vocabulary\n",
    "                             if they occur more than this many times\n",
    "            polarity_cutoff(float) - The absolute value of a word's positive-to-negative\n",
    "                                     ratio must be at least this big to be considered.\n",
    "            hidden_nodes(int) - Number of nodes to create in the hidden layer\n",
    "            learning_rate(float) - Learning rate to use while training\n",
    "\n",
    "        \"\"\"\n",
    "        # Assign a seed to our random number generator to ensure we get\n",
    "        # reproducable results during development\n",
    "        np.random.seed(1)\n",
    "\n",
    "        # process the reviews and their associated labels so that everything\n",
    "        # is ready for training\n",
    "        ## New for Project 6: added min_count and polarity_cutoff arguments to pre_process_data call\n",
    "        self.pre_process_data(reviews, labels, polarity_cutoff, min_count)\n",
    "\n",
    "        # Build the network to have the number of hidden nodes and the learning rate that\n",
    "        # were passed into this initializer. Make the same number of input nodes as\n",
    "        # there are vocabulary words and create a single output node.\n",
    "        self.init_network(len(self.review_vocab),hidden_nodes, 1, learning_rate)\n",
    "\n",
    "    ## New for Project 6: added min_count and polarity_cutoff parameters\n",
    "    def pre_process_data(self, reviews, labels, polarity_cutoff, min_count):\n",
    "\n",
    "        ## ----------------------------------------\n",
    "        ## New for Project 6: Calculate positive-to-negative ratios for words before\n",
    "        #                     building vocabulary\n",
    "        #\n",
    "        positive_counts = Counter()\n",
    "        negative_counts = Counter()\n",
    "        total_counts = Counter()\n",
    "\n",
    "        for i in range(len(reviews)):\n",
    "            if(labels[i] == 'POSITIVE'):\n",
    "                for word in reviews[i].split(\" \"):\n",
    "                    positive_counts[word] += 1\n",
    "                    total_counts[word] += 1\n",
    "            else:\n",
    "                for word in reviews[i].split(\" \"):\n",
    "                    negative_counts[word] += 1\n",
    "                    total_counts[word] += 1\n",
    "\n",
    "        pos_neg_ratios = Counter()\n",
    "\n",
    "        for term,cnt in list(total_counts.most_common()):\n",
    "            if(cnt >= 50):\n",
    "                pos_neg_ratio = positive_counts[term] / float(negative_counts[term]+1)\n",
    "                pos_neg_ratios[term] = pos_neg_ratio\n",
    "\n",
    "        for word,ratio in pos_neg_ratios.most_common():\n",
    "            if(ratio > 1):\n",
    "                pos_neg_ratios[word] = np.log(ratio)\n",
    "            else:\n",
    "                pos_neg_ratios[word] = -np.log((1 / (ratio + 0.01)))\n",
    "        #\n",
    "        ## end New for Project 6\n",
    "        ## ----------------------------------------\n",
    "\n",
    "        # populate review_vocab with all of the words in the given reviews\n",
    "        review_vocab = set()\n",
    "        for review in reviews:\n",
    "            for word in review.split(\" \"):\n",
    "                ## New for Project 6: only add words that occur at least min_count times\n",
    "                #                     and for words with pos/neg ratios, only add words\n",
    "                #                     that meet the polarity_cutoff\n",
    "                if(total_counts[word] > min_count):\n",
    "                    if(word in pos_neg_ratios.keys()):\n",
    "                        if((pos_neg_ratios[word] >= polarity_cutoff) or (pos_neg_ratios[word] <= -polarity_cutoff)):\n",
    "                            review_vocab.add(word)\n",
    "                    else:\n",
    "                        review_vocab.add(word)\n",
    "\n",
    "        # Convert the vocabulary set to a list so we can access words via indices\n",
    "        self.review_vocab = list(review_vocab)\n",
    "\n",
    "        # populate label_vocab with all of the words in the given labels.\n",
    "        label_vocab = set()\n",
    "        for label in labels:\n",
    "            label_vocab.add(label)\n",
    "\n",
    "        # Convert the label vocabulary set to a list so we can access labels via indices\n",
    "        self.label_vocab = list(label_vocab)\n",
    "\n",
    "        # Store the sizes of the review and label vocabularies.\n",
    "        self.review_vocab_size = len(self.review_vocab)\n",
    "        self.label_vocab_size = len(self.label_vocab)\n",
    "\n",
    "        # Create a dictionary of words in the vocabulary mapped to index positions\n",
    "        self.word2index = {}\n",
    "        for i, word in enumerate(self.review_vocab):\n",
    "            self.word2index[word] = i\n",
    "\n",
    "        # Create a dictionary of labels mapped to index positions\n",
    "        self.label2index = {}\n",
    "        for i, label in enumerate(self.label_vocab):\n",
    "            self.label2index[label] = i\n",
    "\n",
    "    def init_network(self, input_nodes, hidden_nodes, output_nodes, learning_rate):\n",
    "        # Set number of nodes in input, hidden and output layers.\n",
    "        self.input_nodes = input_nodes\n",
    "        self.hidden_nodes = hidden_nodes\n",
    "        self.output_nodes = output_nodes\n",
    "\n",
    "        # Store the learning rate\n",
    "        self.learning_rate = learning_rate\n",
    "\n",
    "        # Initialize weights\n",
    "\n",
    "        # These are the weights between the input layer and the hidden layer.\n",
    "        self.weights_0_1 = np.zeros((self.input_nodes,self.hidden_nodes))\n",
    "\n",
    "        # These are the weights between the hidden layer and the output layer.\n",
    "        self.weights_1_2 = np.random.normal(0.0, self.output_nodes**-0.5,\n",
    "                                                (self.hidden_nodes, self.output_nodes))\n",
    "\n",
    "        ## New for Project 5: Removed self.layer_0; added self.layer_1\n",
    "        # The input layer, a two-dimensional matrix with shape 1 x hidden_nodes\n",
    "        self.layer_1 = np.zeros((1,hidden_nodes))\n",
    "\n",
    "    ## New for Project 5: Removed update_input_layer function\n",
    "\n",
    "    def get_target_for_label(self,label):\n",
    "        if(label == 'POSITIVE'):\n",
    "            return 1\n",
    "        else:\n",
    "            return 0\n",
    "\n",
    "    def sigmoid(self,x):\n",
    "        return 1 / (1 + np.exp(-x))\n",
    "\n",
    "    def sigmoid_output_2_derivative(self,output):\n",
    "        return output * (1 - output)\n",
    "\n",
    "    ## New for Project 5: changed name of first parameter form 'training_reviews'\n",
    "    #                     to 'training_reviews_raw'\n",
    "    def train(self, training_reviews_raw, training_labels):\n",
    "\n",
    "        ## New for Project 5: pre-process training reviews so we can deal\n",
    "        #                     directly with the indices of non-zero inputs\n",
    "        training_reviews = list()\n",
    "        for review in training_reviews_raw:\n",
    "            indices = set()\n",
    "            for word in review.split(\" \"):\n",
    "                if(word in self.word2index.keys()):\n",
    "                    indices.add(self.word2index[word])\n",
    "            training_reviews.append(list(indices))\n",
    "\n",
    "        # make sure out we have a matching number of reviews and labels\n",
    "        assert(len(training_reviews) == len(training_labels))\n",
    "\n",
    "        # Keep track of correct predictions to display accuracy during training\n",
    "        correct_so_far = 0\n",
    "\n",
    "        # Remember when we started for printing time statistics\n",
    "        start = time.time()\n",
    "\n",
    "        # loop through all the given reviews and run a forward and backward pass,\n",
    "        # updating weights for every item\n",
    "        for i in range(len(training_reviews)):\n",
    "\n",
    "            # Get the next review and its correct label\n",
    "            review = training_reviews[i]\n",
    "            label = training_labels[i]\n",
    "\n",
    "            #### Implement the forward pass here ####\n",
    "            ### Forward pass ###\n",
    "\n",
    "            ## New for Project 5: Removed call to 'update_input_layer' function\n",
    "            #                     because 'layer_0' is no longer used\n",
    "\n",
    "            # Hidden layer\n",
    "            ## New for Project 5: Add in only the weights for non-zero items\n",
    "            self.layer_1 *= 0\n",
    "            for index in review:\n",
    "                self.layer_1 += self.weights_0_1[index]\n",
    "\n",
    "            # Output layer\n",
    "            ## New for Project 5: changed to use 'self.layer_1' instead of 'local layer_1'\n",
    "            layer_2 = self.sigmoid(self.layer_1.dot(self.weights_1_2))\n",
    "\n",
    "            #### Implement the backward pass here ####\n",
    "            ### Backward pass ###\n",
    "\n",
    "            # Output error\n",
    "            layer_2_error = layer_2 - self.get_target_for_label(label) # Output layer error is the difference between desired target and actual output.\n",
    "            layer_2_delta = layer_2_error * self.sigmoid_output_2_derivative(layer_2)\n",
    "\n",
    "            # Backpropagated error\n",
    "            layer_1_error = layer_2_delta.dot(self.weights_1_2.T) # errors propagated to the hidden layer\n",
    "            layer_1_delta = layer_1_error # hidden layer gradients - no nonlinearity so it's the same as the error\n",
    "\n",
    "            # Update the weights\n",
    "            ## New for Project 5: changed to use 'self.layer_1' instead of local 'layer_1'\n",
    "            self.weights_1_2 -= self.layer_1.T.dot(layer_2_delta) * self.learning_rate # update hidden-to-output weights with gradient descent step\n",
    "\n",
    "            ## New for Project 5: Only update the weights that were used in the forward pass\n",
    "            for index in review:\n",
    "                self.weights_0_1[index] -= layer_1_delta[0] * self.learning_rate # update input-to-hidden weights with gradient descent step\n",
    "\n",
    "            # Keep track of correct predictions.\n",
    "            if(layer_2 >= 0.5 and label == 'POSITIVE'):\n",
    "                correct_so_far += 1\n",
    "            elif(layer_2 < 0.5 and label == 'NEGATIVE'):\n",
    "                correct_so_far += 1\n",
    "\n",
    "            # For debug purposes, print out our prediction accuracy and speed\n",
    "            # throughout the training process.\n",
    "            elapsed_time = float(time.time() - start)\n",
    "            reviews_per_second = i / elapsed_time if elapsed_time > 0 else 0\n",
    "\n",
    "            sys.stdout.write(\"\\rProgress:\" + str(100 * i/float(len(training_reviews)))[:4] \\\n",
    "                             + \"% Speed(reviews/sec):\" + str(reviews_per_second)[0:5] \\\n",
    "                             + \" #Correct:\" + str(correct_so_far) + \" #Trained:\" + str(i+1) \\\n",
    "                             + \" Training Accuracy:\" + str(correct_so_far * 100 / float(i+1))[:4] + \"%\")\n",
    "            if(i % 2500 == 0):\n",
    "                print(\"\")\n",
    "\n",
    "    def test(self, testing_reviews, testing_labels):\n",
    "        \"\"\"\n",
    "        Attempts to predict the labels for the given testing_reviews,\n",
    "        and uses the test_labels to calculate the accuracy of those predictions.\n",
    "        \"\"\"\n",
    "\n",
    "        # keep track of how many correct predictions we make\n",
    "        correct = 0\n",
    "\n",
    "        # we'll time how many predictions per second we make\n",
    "        start = time.time()\n",
    "\n",
    "        # Loop through each of the given reviews and call run to predict\n",
    "        # its label.\n",
    "        for i in range(len(testing_reviews)):\n",
    "            pred = self.run(testing_reviews[i])\n",
    "            if(pred == testing_labels[i]):\n",
    "                correct += 1\n",
    "\n",
    "            # For debug purposes, print out our prediction accuracy and speed\n",
    "            # throughout the prediction process.\n",
    "\n",
    "            elapsed_time = float(time.time() - start)\n",
    "            reviews_per_second = i / elapsed_time if elapsed_time > 0 else 0\n",
    "\n",
    "            sys.stdout.write(\"\\rProgress:\" + str(100 * i/float(len(testing_reviews)))[:4] \\\n",
    "                             + \"% Speed(reviews/sec):\" + str(reviews_per_second)[0:5] \\\n",
    "                             + \" #Correct:\" + str(correct) + \" #Tested:\" + str(i+1) \\\n",
    "                             + \" Testing Accuracy:\" + str(correct * 100 / float(i+1))[:4] + \"%\")\n",
    "\n",
    "    def run(self, review):\n",
    "        \"\"\"\n",
    "        Returns a POSITIVE or NEGATIVE prediction for the given review.\n",
    "        \"\"\"\n",
    "        # Run a forward pass through the network, like in the \"train\" function.\n",
    "\n",
    "        ## New for Project 5: Removed call to update_input_layer function\n",
    "        #                     because layer_0 is no longer used\n",
    "\n",
    "        # Hidden layer\n",
    "        ## New for Project 5: Identify the indices used in the review and then add\n",
    "        #                     just those weights to layer_1\n",
    "        self.layer_1 *= 0\n",
    "        unique_indices = set()\n",
    "        for word in review.lower().split(\" \"):\n",
    "            if word in self.word2index.keys():\n",
    "                unique_indices.add(self.word2index[word])\n",
    "        for index in unique_indices:\n",
    "            self.layer_1 += self.weights_0_1[index]\n",
    "\n",
    "        # Output layer\n",
    "        ## New for Project 5: changed to use self.layer_1 instead of local layer_1\n",
    "        layer_2 = self.sigmoid(self.layer_1.dot(self.weights_1_2))\n",
    "\n",
    "        # Return POSITIVE for values above greater-than-or-equal-to 0.5 in the output layer;\n",
    "        # return NEGATIVE for other values\n",
    "        if(layer_2[0] >= 0.5):\n",
    "            return \"POSITIVE\"\n",
    "        else:\n",
    "            return \"NEGATIVE\""
   ],
   "metadata": {
    "collapsed": false,
    "pycharm": {
     "name": "#%%\n"
    }
   }
  },
  {
   "cell_type": "code",
   "execution_count": 17,
   "outputs": [
    {
     "name": "stdout",
     "output_type": "stream",
     "text": [
      "Progress:0.0% Speed(reviews/sec):0.0 #Correct:1 #Trained:1 Training Accuracy:100.%\n",
      "Progress:10.4% Speed(reviews/sec):2181. #Correct:1994 #Trained:2501 Training Accuracy:79.7%\n",
      "Progress:20.8% Speed(reviews/sec):2140. #Correct:4063 #Trained:5001 Training Accuracy:81.2%\n",
      "Progress:31.2% Speed(reviews/sec):2140. #Correct:6176 #Trained:7501 Training Accuracy:82.3%\n",
      "Progress:41.6% Speed(reviews/sec):2141. #Correct:8336 #Trained:10001 Training Accuracy:83.3%\n",
      "Progress:52.0% Speed(reviews/sec):2134. #Correct:10501 #Trained:12501 Training Accuracy:84.0%\n",
      "Progress:62.5% Speed(reviews/sec):2133. #Correct:12641 #Trained:15001 Training Accuracy:84.2%\n",
      "Progress:72.9% Speed(reviews/sec):2134. #Correct:14782 #Trained:17501 Training Accuracy:84.4%\n",
      "Progress:83.3% Speed(reviews/sec):2130. #Correct:16954 #Trained:20001 Training Accuracy:84.7%\n",
      "Progress:93.7% Speed(reviews/sec):2128. #Correct:19143 #Trained:22501 Training Accuracy:85.0%\n",
      "Progress:99.9% Speed(reviews/sec):2128. #Correct:20461 #Trained:24000 Training Accuracy:85.2%"
     ]
    }
   ],
   "source": [
    "from collections import Counter\n",
    "import time\n",
    "\n",
    "mlp = SentimentNetwork(reviews[:-1000],labels[:-1000],min_count=20,polarity_cutoff=0.05,learning_rate=0.01)\n",
    "mlp.train(reviews[:-1000],labels[:-1000])\n"
   ],
   "metadata": {
    "collapsed": false,
    "pycharm": {
     "name": "#%%\n"
    }
   }
  },
  {
   "cell_type": "code",
   "execution_count": null,
   "outputs": [],
   "source": [],
   "metadata": {
    "collapsed": false,
    "pycharm": {
     "name": "#%%\n"
    }
   }
  }
 ],
 "metadata": {
  "anaconda-cloud": {},
  "kernelspec": {
   "display_name": "Python [default]",
   "language": "python",
   "name": "python3"
  },
  "language_info": {
   "codemirror_mode": {
    "name": "ipython",
    "version": 3
   },
   "file_extension": ".py",
   "mimetype": "text/x-python",
   "name": "python",
   "nbconvert_exporter": "python",
   "pygments_lexer": "ipython3",
   "version": "3.6.4"
  }
 },
 "nbformat": 4,
 "nbformat_minor": 1
}